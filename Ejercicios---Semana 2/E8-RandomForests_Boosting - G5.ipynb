{
 "cells": [
  {
   "cell_type": "markdown",
   "metadata": {},
   "source": [
    "\n",
    "<img src=\"https://catalogo.uniandes.edu.co/-/media/Institution/Universidad-de-los-Andes/ingenieria/maestria-int-toma.ashx?la=es-ES\">\n"
   ]
  },
  {
   "cell_type": "markdown",
   "metadata": {},
   "source": [
    "# Universidad de los Andes - Modelos Avanzados para el Análisis de Datos\n",
    "\n",
    "# Exercise 8 - Grupo 5\n",
    "\n",
    "## Car Price Prediction\n",
    "\n",
    "Predict if the price of a car is low or high\n",
    "\n",
    "by [Daniela Carolina Sanabria, Jonny Eduardo Coronel, Oscar Mauricio Cepeda, Nestor Fabian Cholo]\n"
   ]
  },
  {
   "cell_type": "code",
   "execution_count": 207,
   "metadata": {},
   "outputs": [
    {
     "data": {
      "text/html": [
       "<div>\n",
       "<style scoped>\n",
       "    .dataframe tbody tr th:only-of-type {\n",
       "        vertical-align: middle;\n",
       "    }\n",
       "\n",
       "    .dataframe tbody tr th {\n",
       "        vertical-align: top;\n",
       "    }\n",
       "\n",
       "    .dataframe thead th {\n",
       "        text-align: right;\n",
       "    }\n",
       "</style>\n",
       "<table border=\"1\" class=\"dataframe\">\n",
       "  <thead>\n",
       "    <tr style=\"text-align: right;\">\n",
       "      <th></th>\n",
       "      <th>Year</th>\n",
       "      <th>Mileage</th>\n",
       "      <th>M_Camry</th>\n",
       "      <th>M_Camry4dr</th>\n",
       "      <th>M_CamryBase</th>\n",
       "      <th>M_CamryL</th>\n",
       "      <th>M_CamryLE</th>\n",
       "      <th>M_CamrySE</th>\n",
       "      <th>M_CamryXLE</th>\n",
       "      <th>HighPrice</th>\n",
       "    </tr>\n",
       "  </thead>\n",
       "  <tbody>\n",
       "    <tr>\n",
       "      <th>15</th>\n",
       "      <td>2016</td>\n",
       "      <td>29242</td>\n",
       "      <td>0</td>\n",
       "      <td>0</td>\n",
       "      <td>0</td>\n",
       "      <td>0</td>\n",
       "      <td>1</td>\n",
       "      <td>0</td>\n",
       "      <td>0</td>\n",
       "      <td>1</td>\n",
       "    </tr>\n",
       "    <tr>\n",
       "      <th>47</th>\n",
       "      <td>2015</td>\n",
       "      <td>26465</td>\n",
       "      <td>0</td>\n",
       "      <td>0</td>\n",
       "      <td>0</td>\n",
       "      <td>0</td>\n",
       "      <td>1</td>\n",
       "      <td>0</td>\n",
       "      <td>0</td>\n",
       "      <td>1</td>\n",
       "    </tr>\n",
       "    <tr>\n",
       "      <th>85</th>\n",
       "      <td>2012</td>\n",
       "      <td>46739</td>\n",
       "      <td>0</td>\n",
       "      <td>1</td>\n",
       "      <td>0</td>\n",
       "      <td>0</td>\n",
       "      <td>0</td>\n",
       "      <td>0</td>\n",
       "      <td>0</td>\n",
       "      <td>1</td>\n",
       "    </tr>\n",
       "    <tr>\n",
       "      <th>141</th>\n",
       "      <td>2017</td>\n",
       "      <td>41722</td>\n",
       "      <td>0</td>\n",
       "      <td>0</td>\n",
       "      <td>0</td>\n",
       "      <td>0</td>\n",
       "      <td>0</td>\n",
       "      <td>1</td>\n",
       "      <td>0</td>\n",
       "      <td>1</td>\n",
       "    </tr>\n",
       "    <tr>\n",
       "      <th>226</th>\n",
       "      <td>2014</td>\n",
       "      <td>77669</td>\n",
       "      <td>0</td>\n",
       "      <td>0</td>\n",
       "      <td>0</td>\n",
       "      <td>0</td>\n",
       "      <td>0</td>\n",
       "      <td>0</td>\n",
       "      <td>1</td>\n",
       "      <td>0</td>\n",
       "    </tr>\n",
       "  </tbody>\n",
       "</table>\n",
       "</div>"
      ],
      "text/plain": [
       "     Year  Mileage  M_Camry  M_Camry4dr  M_CamryBase  M_CamryL  M_CamryLE  \\\n",
       "15   2016    29242        0           0            0         0          1   \n",
       "47   2015    26465        0           0            0         0          1   \n",
       "85   2012    46739        0           1            0         0          0   \n",
       "141  2017    41722        0           0            0         0          0   \n",
       "226  2014    77669        0           0            0         0          0   \n",
       "\n",
       "     M_CamrySE  M_CamryXLE  HighPrice  \n",
       "15           0           0          1  \n",
       "47           0           0          1  \n",
       "85           0           0          1  \n",
       "141          1           0          1  \n",
       "226          0           1          0  "
      ]
     },
     "execution_count": 207,
     "metadata": {},
     "output_type": "execute_result"
    }
   ],
   "source": [
    "%matplotlib inline\n",
    "import pandas as pd\n",
    "import numpy as np\n",
    "import math\n",
    "import cmath\n",
    "\n",
    "data = pd.read_csv('dataTrain_carListings.zip')\n",
    "data = data.loc[data['Model'].str.contains('Camry')].drop(['Make', 'State'], axis=1)\n",
    "data = data.join(pd.get_dummies(data['Model'], prefix='M'))\n",
    "data['HighPrice'] = (data['Price'] > data['Price'].mean()).astype(int)\n",
    "data = data.drop(['Model', 'Price'], axis=1)\n",
    "\n",
    "data.head()"
   ]
  },
  {
   "cell_type": "code",
   "execution_count": 2,
   "metadata": {},
   "outputs": [
    {
     "data": {
      "text/plain": [
       "(13150, 10)"
      ]
     },
     "execution_count": 2,
     "metadata": {},
     "output_type": "execute_result"
    }
   ],
   "source": [
    "data.shape"
   ]
  },
  {
   "cell_type": "code",
   "execution_count": 3,
   "metadata": {},
   "outputs": [],
   "source": [
    "y = data['HighPrice']\n",
    "X = data.drop(['HighPrice'], axis=1)"
   ]
  },
  {
   "cell_type": "code",
   "execution_count": 4,
   "metadata": {},
   "outputs": [],
   "source": [
    "from sklearn.model_selection import train_test_split\n",
    "X_train, X_test, y_train, y_test = train_test_split(X, y, test_size=0.33, random_state=42)\n"
   ]
  },
  {
   "cell_type": "markdown",
   "metadata": {},
   "source": [
    "# Exercise 8.1\n",
    "\n",
    "Estimate a Decision Tree Classifier Manually using the code created in the Notebook #13\n",
    "\n",
    "Evaluate the accuracy on the testing set"
   ]
  },
  {
   "cell_type": "code",
   "execution_count": 5,
   "metadata": {},
   "outputs": [],
   "source": [
    "def gini(y):\n",
    "    if y.shape[0] == 0:\n",
    "        return 0\n",
    "    else:\n",
    "        return 1 - (y.mean()**2 + (1 - y.mean())**2)"
   ]
  },
  {
   "cell_type": "code",
   "execution_count": 6,
   "metadata": {},
   "outputs": [],
   "source": [
    "def gini_impurity(X_col, y, split):\n",
    "    \"Calculate the gain of an split k on feature j\"\n",
    "    \n",
    "    filter_l = X_col < split\n",
    "    y_l = y.loc[filter_l]\n",
    "    y_r = y.loc[~filter_l]\n",
    "    \n",
    "    n_l = y_l.shape[0]\n",
    "    n_r = y_r.shape[0]\n",
    "    \n",
    "    gini_y = gini(y)\n",
    "    gini_l = gini(y_l)\n",
    "    gini_r = gini(y_r)\n",
    "    \n",
    "    gini_impurity_ = gini_y - (n_l / (n_l + n_r) * gini_l + n_r / (n_l + n_r) * gini_r)\n",
    "    \n",
    "    return gini_impurity_"
   ]
  },
  {
   "cell_type": "code",
   "execution_count": 7,
   "metadata": {},
   "outputs": [],
   "source": [
    "def best_split(X, y, num_pct=10):\n",
    "    \n",
    "    features = range(X.shape[1])\n",
    "    \n",
    "    best_split = [0, 0, 0]  # j, split, gain\n",
    "    \n",
    "    # For all features\n",
    "    for j in features:\n",
    "        \n",
    "        splits = np.percentile(X.iloc[:, j], np.arange(0, 100, 100.0 / (num_pct+1)).tolist())\n",
    "        splits = np.unique(splits)[1:]\n",
    "        \n",
    "        # For all splits\n",
    "        for split in splits:\n",
    "            gain = gini_impurity(X.iloc[:, j], y, split)\n",
    "                        \n",
    "            if gain > best_split[2]:\n",
    "                best_split = [j, split, gain]\n",
    "    \n",
    "    return best_split"
   ]
  },
  {
   "cell_type": "code",
   "execution_count": 8,
   "metadata": {},
   "outputs": [],
   "source": [
    "def tree_grow(X, y, level=0, min_gain=0.001, max_depth=None, num_pct=10):\n",
    "    \n",
    "    # If only one observation\n",
    "    if X.shape[0] == 1:\n",
    "        tree = dict(y_pred=y.iloc[:1].values[0], y_prob=0.5, level=level, split=-1, n_samples=1, gain=0)\n",
    "        return tree\n",
    "    \n",
    "    # Calculate the best split\n",
    "    j, split, gain = best_split(X, y, num_pct)\n",
    "    \n",
    "    # save tree and estimate prediction\n",
    "    y_pred = int(y.mean() >= 0.5) \n",
    "    y_prob = (y.sum() + 1.0) / (y.shape[0] + 2.0)  # Laplace correction\n",
    "    \n",
    "    tree = dict(y_pred=y_pred, y_prob=y_prob, level=level, split=-1, n_samples=X.shape[0], gain=gain)\n",
    "    \n",
    "    # Check stooping criteria\n",
    "    if gain < min_gain:\n",
    "        return tree\n",
    "    if max_depth is not None:\n",
    "        if level >= max_depth:\n",
    "            return tree   \n",
    "    \n",
    "    # No stooping criteria was meet, then continue to create the partition\n",
    "    filter_l = X.iloc[:, j] < split\n",
    "    X_l, y_l = X.loc[filter_l], y.loc[filter_l]\n",
    "    X_r, y_r = X.loc[~filter_l], y.loc[~filter_l]\n",
    "    tree['split'] = [j, split]\n",
    "\n",
    "    # Next iteration to each split\n",
    "    \n",
    "    tree['sl'] = tree_grow(X_l, y_l, level + 1, min_gain=min_gain, max_depth=max_depth, num_pct=num_pct)\n",
    "    tree['sr'] = tree_grow(X_r, y_r, level + 1, min_gain=min_gain, max_depth=max_depth, num_pct=num_pct)\n",
    "    \n",
    "    return tree"
   ]
  },
  {
   "cell_type": "code",
   "execution_count": 126,
   "metadata": {},
   "outputs": [
    {
     "data": {
      "text/plain": [
       "{'y_pred': 1,\n",
       " 'y_prob': 0.5780753517930095,\n",
       " 'level': 0,\n",
       " 'split': [1, 52187.63636363637],\n",
       " 'n_samples': 8810,\n",
       " 'gain': 0.23872134898880762,\n",
       " 'sl': {'y_pred': 1,\n",
       "  'y_prob': 0.8391583452211127,\n",
       "  'level': 1,\n",
       "  'split': [0, 2014.0],\n",
       "  'n_samples': 5606,\n",
       "  'gain': 0.03317687167496233,\n",
       "  'sl': {'y_pred': 0,\n",
       "   'y_prob': 0.36828644501278773,\n",
       "   'level': 2,\n",
       "   'split': [0, 2012.0],\n",
       "   'n_samples': 389,\n",
       "   'gain': 0.05908490521197157,\n",
       "   'sl': {'y_pred': 0,\n",
       "    'y_prob': 0.08,\n",
       "    'level': 3,\n",
       "    'split': -1,\n",
       "    'n_samples': 98,\n",
       "    'gain': 0.01707452211653898},\n",
       "   'sr': {'y_pred': 0,\n",
       "    'y_prob': 0.46757679180887374,\n",
       "    'level': 3,\n",
       "    'split': -1,\n",
       "    'n_samples': 291,\n",
       "    'gain': 0.036947257392555666}},\n",
       "  'sr': {'y_pred': 1,\n",
       "   'y_prob': 0.8743054224947308,\n",
       "   'level': 2,\n",
       "   'split': [0, 2015.0],\n",
       "   'n_samples': 5217,\n",
       "   'gain': 0.014933378976312917,\n",
       "   'sl': {'y_pred': 1,\n",
       "    'y_prob': 0.7348484848484849,\n",
       "    'level': 3,\n",
       "    'split': -1,\n",
       "    'n_samples': 1450,\n",
       "    'gain': 0.02449522073718463},\n",
       "   'sr': {'y_pred': 1,\n",
       "    'y_prob': 0.9278323162642611,\n",
       "    'level': 3,\n",
       "    'split': -1,\n",
       "    'n_samples': 3767,\n",
       "    'gain': 0.008300801773423822}}},\n",
       " 'sr': {'y_pred': 0,\n",
       "  'y_prob': 0.12133499688084841,\n",
       "  'level': 1,\n",
       "  'split': [0, 2014.0],\n",
       "  'n_samples': 3204,\n",
       "  'gain': 0.04366470703709979,\n",
       "  'sl': {'y_pred': 0,\n",
       "   'y_prob': 0.03787566899958831,\n",
       "   'level': 2,\n",
       "   'split': [0, 2012.0],\n",
       "   'n_samples': 2427,\n",
       "   'gain': 0.0044807442426036265,\n",
       "   'sl': {'y_pred': 0,\n",
       "    'y_prob': 0.007571345369831101,\n",
       "    'level': 3,\n",
       "    'split': -1,\n",
       "    'n_samples': 1715,\n",
       "    'gain': 6.140801902596027e-05},\n",
       "   'sr': {'y_pred': 0,\n",
       "    'y_prob': 0.11204481792717087,\n",
       "    'level': 3,\n",
       "    'split': -1,\n",
       "    'n_samples': 712,\n",
       "    'gain': 0.008448612165673108}},\n",
       "  'sr': {'y_pred': 0,\n",
       "   'y_prob': 0.38254172015404364,\n",
       "   'level': 2,\n",
       "   'split': [1, 69702.90909090909],\n",
       "   'n_samples': 777,\n",
       "   'gain': 0.040449309391888344,\n",
       "   'sl': {'y_pred': 0,\n",
       "    'y_prob': 0.4899193548387097,\n",
       "    'level': 3,\n",
       "    'split': -1,\n",
       "    'n_samples': 494,\n",
       "    'gain': 0.024087071241494562},\n",
       "   'sr': {'y_pred': 0,\n",
       "    'y_prob': 0.19649122807017544,\n",
       "    'level': 3,\n",
       "    'split': -1,\n",
       "    'n_samples': 283,\n",
       "    'gain': 0.025513433574225197}}}}"
      ]
     },
     "execution_count": 126,
     "metadata": {},
     "output_type": "execute_result"
    }
   ],
   "source": [
    "tree_Arbol = tree_grow(X_train, y_train, level=0, min_gain=0.001, max_depth=3, num_pct=10)\n",
    "tree_Arbol"
   ]
  },
  {
   "cell_type": "code",
   "execution_count": 127,
   "metadata": {},
   "outputs": [],
   "source": [
    "def tree_predict(X, tree, proba=False):\n",
    "    \n",
    "    predicted = np.ones(X.shape[0])\n",
    "\n",
    "    # Check if final node\n",
    "    if tree['split'] == -1:\n",
    "        if not proba:\n",
    "            predicted = predicted * tree['y_pred']\n",
    "        else:\n",
    "            predicted = predicted * tree['y_prob']\n",
    "            \n",
    "    else:\n",
    "        \n",
    "        j, split = tree['split']\n",
    "        filter_l = (X.iloc[:, j] < split)\n",
    "        X_l = X.loc[filter_l]\n",
    "        X_r = X.loc[~filter_l]\n",
    "\n",
    "        if X_l.shape[0] == 0:  # If left node is empty only continue with right\n",
    "            predicted[~filter_l] = tree_predict(X_r, tree['sr'], proba)\n",
    "        elif X_r.shape[0] == 0:  # If right node is empty only continue with left\n",
    "            predicted[filter_l] = tree_predict(X_l, tree['sl'], proba)\n",
    "        else:\n",
    "            predicted[filter_l] = tree_predict(X_l, tree['sl'], proba)\n",
    "            predicted[~filter_l] = tree_predict(X_r, tree['sr'], proba)\n",
    "\n",
    "    return predicted"
   ]
  },
  {
   "cell_type": "code",
   "execution_count": 128,
   "metadata": {},
   "outputs": [
    {
     "data": {
      "text/plain": [
       "array([0., 1., 1., ..., 1., 1., 0.])"
      ]
     },
     "execution_count": 128,
     "metadata": {},
     "output_type": "execute_result"
    }
   ],
   "source": [
    "Pred_Arbol = tree_predict(X_test, tree_Arbol)\n",
    "Pred_Arbol"
   ]
  },
  {
   "cell_type": "code",
   "execution_count": 132,
   "metadata": {},
   "outputs": [
    {
     "data": {
      "text/plain": [
       "0.8610599078341014"
      ]
     },
     "execution_count": 132,
     "metadata": {},
     "output_type": "execute_result"
    }
   ],
   "source": [
    "Diff_Arbol= abs(Pred_Arbol - y_test)\n",
    "Acc_Arbol = 1 - sum(Diff_Arbol)/Diff_Arbol.shape[0]\n",
    "Acc_Arbol"
   ]
  },
  {
   "cell_type": "markdown",
   "metadata": {},
   "source": [
    "# Arbol de Decisión\n",
    "\n",
    "Al entrenar un arbol de decisión a mano con la base de train, y luego probarlo con la base de test, nos arroja un Accuracy del 86.1%\n"
   ]
  },
  {
   "cell_type": "markdown",
   "metadata": {},
   "source": [
    "# Exercise 8.2\n",
    "\n",
    "Estimate a Bagging of 10 Decision Tree Classifiers Manually using the code created in the Notebook #7\n",
    "\n",
    "Evaluate the accuracy on the testing set"
   ]
  },
  {
   "cell_type": "code",
   "execution_count": 14,
   "metadata": {},
   "outputs": [],
   "source": [
    "c = range(int(X_train.shape [0]))\n",
    "d = int(X_train.shape [0] * 0.8)\n",
    "a1 = np.random.choice (c,d, replace = 1)\n",
    "a2 = np.random.choice (c,d, replace = 1)\n",
    "a3 = np.random.choice (c,d, replace = 1)\n",
    "a4 = np.random.choice (c,d, replace = 1)\n",
    "a5 = np.random.choice (c,d, replace = 1)\n",
    "a6 = np.random.choice (c,d, replace = 1)\n",
    "a7 = np.random.choice (c,d, replace = 1)\n",
    "a8 = np.random.choice (c,d, replace = 1)\n",
    "a9 = np.random.choice (c,d, replace = 1)\n",
    "a10 = np.random.choice (c,d, replace = 1)\n",
    "\n",
    "y1 = y_train.iloc[a1]\n",
    "X1 = X_train.iloc[a1]\n",
    "\n",
    "y2 = y_train.iloc[a2]\n",
    "X2 = X_train.iloc[a2]\n",
    "\n",
    "y3 = y_train.iloc[a3]\n",
    "X3 = X_train.iloc[a3]\n",
    "\n",
    "y4 = y_train.iloc[a4]\n",
    "X4 = X_train.iloc[a4]\n",
    "\n",
    "y5 = y_train.iloc[a5]\n",
    "X5 = X_train.iloc[a5]\n",
    "\n",
    "y6 = y_train.iloc[a6]\n",
    "X6 = X_train.iloc[a6]\n",
    "\n",
    "y7 = y_train.iloc[a7]\n",
    "X7 = X_train.iloc[a7]\n",
    "\n",
    "y8 = y_train.iloc[a8]\n",
    "X8 = X_train.iloc[a8]\n",
    "\n",
    "y9 = y_train.iloc[a9]\n",
    "X9 = X_train.iloc[a9]\n",
    "\n",
    "y10 = y_train.iloc[a10]\n",
    "X10 = X_train.iloc[a10]"
   ]
  },
  {
   "cell_type": "code",
   "execution_count": 15,
   "metadata": {},
   "outputs": [],
   "source": [
    "tree1 = tree_grow(X1, y1, level=0, min_gain=0.001, max_depth=3, num_pct=10)\n",
    "tree2 = tree_grow(X2, y2, level=0, min_gain=0.001, max_depth=3, num_pct=10)\n",
    "tree3 = tree_grow(X3, y3, level=0, min_gain=0.001, max_depth=3, num_pct=10)\n",
    "tree4 = tree_grow(X4, y4, level=0, min_gain=0.001, max_depth=3, num_pct=10)\n",
    "tree5 = tree_grow(X5, y5, level=0, min_gain=0.001, max_depth=3, num_pct=10)\n",
    "tree6 = tree_grow(X6, y6, level=0, min_gain=0.001, max_depth=3, num_pct=10)\n",
    "tree7 = tree_grow(X7, y7, level=0, min_gain=0.001, max_depth=3, num_pct=10)\n",
    "tree8 = tree_grow(X8, y8, level=0, min_gain=0.001, max_depth=3, num_pct=10)\n",
    "tree9 = tree_grow(X9, y9, level=0, min_gain=0.001, max_depth=3, num_pct=10)\n",
    "tree10 = tree_grow(X10, y10, level=0, min_gain=0.001, max_depth=3, num_pct=10)\n"
   ]
  },
  {
   "cell_type": "code",
   "execution_count": 16,
   "metadata": {},
   "outputs": [],
   "source": [
    "\n",
    "a1 = tree_predict(X_test, tree1)\n",
    "a2 = tree_predict(X_test, tree2)\n",
    "a3 = tree_predict(X_test, tree3)\n",
    "a4 = tree_predict(X_test, tree4)\n",
    "a5 = tree_predict(X_test, tree5)\n",
    "a6 = tree_predict(X_test, tree6)\n",
    "a7 = tree_predict(X_test, tree7)\n",
    "a8 = tree_predict(X_test, tree8)\n",
    "a9 = tree_predict(X_test, tree9)\n",
    "a10 = tree_predict(X_test, tree10)\n"
   ]
  },
  {
   "cell_type": "code",
   "execution_count": 17,
   "metadata": {},
   "outputs": [
    {
     "name": "stdout",
     "output_type": "stream",
     "text": [
      "[0 1 1 1 0 0 1 0 1 0 1 1 1 1 1 0 0 1 0 1]\n"
     ]
    }
   ],
   "source": [
    "# average the predictions and then round to 0 or 1\n",
    "ensemble_preds = np.round((a1 + a2 + a3 + a4 + a5+ a6+ a7+ a8+ a9+ a10)/10).astype(int)\n",
    "\n",
    "# print the ensemble's first 20 predictions\n",
    "print(ensemble_preds[:20])\n"
   ]
  },
  {
   "cell_type": "code",
   "execution_count": 25,
   "metadata": {},
   "outputs": [
    {
     "data": {
      "text/plain": [
       "0.8633640552995392"
      ]
     },
     "execution_count": 25,
     "metadata": {},
     "output_type": "execute_result"
    }
   ],
   "source": [
    "Dif_Ba= abs(ensemble_preds - y_test)\n",
    "Acc_Ba = 1 - sum(Dif_Ba)/Dif_Ba.shape[0]\n",
    "Acc_Ba"
   ]
  },
  {
   "cell_type": "markdown",
   "metadata": {},
   "source": [
    "# Bagguin\n",
    "\n",
    "Se crearon 10 muestras aleatorias con reemplazo de la base de train, utilizando en cada una un 80% de la data, se paso cada muestra por el arbol hecho a mano del punto anterior creando 10 arboles de decisión distintos, luego se paso la base de test por cada arbol, una vez se tienen las 10 predicciones por el metodo de mayor votación se deja la predicción que más se repite pra cada observación, el accuracy de este modelo nos da 86.3%, un poco mejor al modelo que solo tenia un arbol."
   ]
  },
  {
   "cell_type": "markdown",
   "metadata": {},
   "source": [
    "# Exercise 8.3\n",
    "\n",
    "Implement the variable max_features on the Decision Tree Classifier created in 11.1.\n",
    "\n",
    "Compare the impact in the results by varing the parameter max_features\n",
    "\n",
    "Evaluate the accuracy on the testing set"
   ]
  },
  {
   "cell_type": "code",
   "execution_count": 21,
   "metadata": {},
   "outputs": [],
   "source": [
    "def tree_grow_Ran(X, y, level=0, min_gain=0.001, max_depth=None, max_features=7, num_pct=10):\n",
    "    \n",
    "    # If only one observation\n",
    "    if X.shape[0] == 1:\n",
    "        tree = dict(y_pred=y.iloc[:1].values[0], y_prob=0.5, level=level, split=-1, n_samples=1, gain=0)\n",
    "        return tree\n",
    "    \n",
    "    features = np.random.choice (range(X.shape[1]),max_features, replace = 0)\n",
    "    # Calculate the best split\n",
    "    X1= X.iloc[:,features]\n",
    "    j, split, gain = best_split(X1, y, num_pct)\n",
    "\n",
    "        \n",
    "    # save tree and estimate prediction\n",
    "    y_pred = int(y.mean() >= 0.5) \n",
    "    y_prob = (y.sum() + 1.0) / (y.shape[0] + 2.0)  # Laplace correction\n",
    "    \n",
    "    tree = dict(y_pred=y_pred, y_prob=y_prob, level=level, split=-1, n_samples=X.shape[0], gain=gain)\n",
    "    \n",
    "    # Check stooping criteria\n",
    "    if gain < min_gain:\n",
    "        return tree\n",
    "    if max_depth is not None:\n",
    "        if level >= max_depth:\n",
    "            return tree   \n",
    "    \n",
    "    # No stooping criteria was meet, then continue to create the partition\n",
    "    filter_l = X1.iloc[:, j] < split\n",
    "    X_l, y_l = X1.loc[filter_l], y.loc[filter_l]\n",
    "    X_r, y_r = X1.loc[~filter_l], y.loc[~filter_l]\n",
    "    tree['split'] = [j, split]\n",
    "\n",
    "    # Next iteration to each split\n",
    "    \n",
    "    tree['sl'] = tree_grow_Ran(X_l, y_l, level + 1, min_gain=min_gain, max_depth=max_depth, max_features = max_features, num_pct=num_pct)\n",
    "    tree['sr'] = tree_grow_Ran(X_r, y_r, level + 1, min_gain=min_gain, max_depth=max_depth,  max_features = max_features, num_pct=num_pct)\n",
    "    \n",
    "   \n",
    "    return tree"
   ]
  },
  {
   "cell_type": "code",
   "execution_count": 190,
   "metadata": {},
   "outputs": [
    {
     "name": "stdout",
     "output_type": "stream",
     "text": [
      "[8 0 5 3 1 4 2 7 6]\n",
      "[0 2 8 6 7 4 5 3 1]\n",
      "[2 6 8 7 3 1 5 0 4]\n",
      "[3 7 1 2 6 4 8 0 5]\n",
      "[4 6 3 8 2 0 5 1 7]\n",
      "[0 6 5 8 3 4 2 1 7]\n",
      "[3 8 0 2 1 7 4 6 5]\n"
     ]
    }
   ],
   "source": [
    "tree_Ran = tree_grow_Ran(X_train, y_train, level=0, min_gain=0.001, max_depth=3, max_features=7, num_pct=10)"
   ]
  },
  {
   "cell_type": "code",
   "execution_count": 191,
   "metadata": {},
   "outputs": [
    {
     "data": {
      "text/plain": [
       "a\n",
       "0.0    1353\n",
       "1.0    2987\n",
       "Name: a, dtype: int64"
      ]
     },
     "execution_count": 191,
     "metadata": {},
     "output_type": "execute_result"
    }
   ],
   "source": [
    "Pred_Ran = tree_predict(X_test, tree_Ran)\n",
    "aaa=pd.DataFrame(Pred_Ran, columns=['a'])\n",
    "aaa.groupby('a').a.count()"
   ]
  },
  {
   "cell_type": "code",
   "execution_count": 192,
   "metadata": {},
   "outputs": [
    {
     "data": {
      "text/plain": [
       "0.8495391705069124"
      ]
     },
     "execution_count": 192,
     "metadata": {},
     "output_type": "execute_result"
    }
   ],
   "source": [
    "Dif_Ran= abs(Pred_Ran - y_test)\n",
    "Acc_Ran = 1 - sum(Dif_Ran)/Dif_Ran.shape[0]\n",
    "Acc_Ran"
   ]
  },
  {
   "cell_type": "markdown",
   "metadata": {},
   "source": [
    "# Arbol con regla de máximo de variables a usar cambiando las variables en cada nodo\n",
    "\n",
    "Implementamos un nuevo parametro en el algoritmo de arbol de decisión hecho a mano llamado max_features, de tal forma que cada nodo ultiliza un máximo de variables disponibles según lo que se deje en el parametro, y cada nodo puede utilizar aleatoriamente variables diferentes cada vez, implementando este metodo el accuracy nos da 84.95%"
   ]
  },
  {
   "cell_type": "markdown",
   "metadata": {},
   "source": [
    "# Exercise 8.4\n",
    "\n",
    "Estimate a Bagging of 10 Decision Tree Classifiers with `max_features = log(n_features)`\n",
    "\n",
    "Evaluate the accuracy on the testing set"
   ]
  },
  {
   "cell_type": "code",
   "execution_count": 198,
   "metadata": {},
   "outputs": [
    {
     "name": "stdout",
     "output_type": "stream",
     "text": [
      "[0 1]\n",
      "[1 0]\n",
      "[0 1]\n",
      "[1 0]\n",
      "[1 0]\n",
      "[6 0]\n",
      "[1 0]\n",
      "[8 3]\n",
      "[0 1]\n",
      "[3 7]\n",
      "[1 0]\n",
      "[1 0]\n",
      "[0 1]\n",
      "[1 0]\n",
      "[2 0]\n",
      "[0 1]\n",
      "[0 1]\n",
      "[1 0]\n",
      "[0 1]\n",
      "[0 1]\n",
      "[1 0]\n",
      "[1 6]\n",
      "[1 0]\n",
      "[0 1]\n",
      "[0 1]\n",
      "[1 0]\n",
      "[1 0]\n",
      "[0 1]\n",
      "[1 2]\n",
      "[1 0]\n",
      "[0 1]\n",
      "[1 0]\n",
      "[0 1]\n",
      "[0 1]\n",
      "[0 6]\n",
      "[0 1]\n",
      "[0 1]\n",
      "[0 1]\n",
      "[0 1]\n",
      "[0 3]\n"
     ]
    }
   ],
   "source": [
    "#mfl = int(np.round(math.log10(9)))\n",
    "mfl = 2\n",
    "\n",
    "tree1_B = tree_grow_Ran(X1, y1, level=0, min_gain=0.001, max_depth=3, max_features=mfl, num_pct=10)\n",
    "tree2_B = tree_grow_Ran(X2, y2, level=0, min_gain=0.001, max_depth=3, max_features=mfl, num_pct=10)\n",
    "tree3_B = tree_grow_Ran(X3, y3, level=0, min_gain=0.001, max_depth=3, max_features=mfl, num_pct=10)\n",
    "tree4_B = tree_grow_Ran(X4, y4, level=0, min_gain=0.001, max_depth=3, max_features=mfl, num_pct=10)\n",
    "tree5_B = tree_grow_Ran(X5, y5, level=0, min_gain=0.001, max_depth=3, max_features=mfl, num_pct=10)\n",
    "tree6_B = tree_grow_Ran(X6, y6, level=0, min_gain=0.001, max_depth=3, max_features=mfl, num_pct=10)\n",
    "tree7_B = tree_grow_Ran(X7, y7, level=0, min_gain=0.001, max_depth=3, max_features=mfl, num_pct=10)\n",
    "tree8_B = tree_grow_Ran(X8, y8, level=0, min_gain=0.001, max_depth=3, max_features=mfl, num_pct=10)\n",
    "tree9_B = tree_grow_Ran(X9, y9, level=0, min_gain=0.001, max_depth=3, max_features=mfl, num_pct=10)\n",
    "tree10_B = tree_grow_Ran(X10, y10, level=0, min_gain=0.001, max_depth=3, max_features=mfl, num_pct=10)"
   ]
  },
  {
   "cell_type": "code",
   "execution_count": 199,
   "metadata": {},
   "outputs": [],
   "source": [
    "a1_B = tree_predict(X_test, tree1_B)\n",
    "a2_B = tree_predict(X_test, tree2_B)\n",
    "a3_B = tree_predict(X_test, tree3_B)\n",
    "a4_B = tree_predict(X_test, tree4_B)\n",
    "a5_B = tree_predict(X_test, tree5_B)\n",
    "a6_B = tree_predict(X_test, tree6_B)\n",
    "a7_B = tree_predict(X_test, tree7_B)\n",
    "a8_B = tree_predict(X_test, tree8_B)\n",
    "a9_B = tree_predict(X_test, tree9_B)\n",
    "a10_B = tree_predict(X_test, tree10_B)"
   ]
  },
  {
   "cell_type": "code",
   "execution_count": 200,
   "metadata": {},
   "outputs": [
    {
     "name": "stdout",
     "output_type": "stream",
     "text": [
      "[0 1 1 1 0 0 1 1 1 0 1 1 1 1 1 0 0 1 0 1 0 0 0 0 1 0 1 1 1 1 1 1 1 1 1 1 1\n",
      " 0 1 1 1 1 1 1 1 1 1 1 1 1 0 1 0 1 0 1 0 1 1 1 1 1 1 1 1 0 1 1 1 1 0 1 0 1\n",
      " 1 1 0 1 0 1 0 0 1 0 1 1 0 0 1 1 0 1 1 1 1 1 0 0 1 0]\n"
     ]
    },
    {
     "data": {
      "text/plain": [
       "(4340,)"
      ]
     },
     "execution_count": 200,
     "metadata": {},
     "output_type": "execute_result"
    }
   ],
   "source": [
    "# average the predictions and then round to 0 or 1\n",
    "ensemble_preds_B = np.round((a1_B + a2_B + a3_B + a4_B + a5_B + a6_B + a7_B + a8_B + a9_B + a10_B)/10).astype(int)\n",
    "\n",
    "# print the ensemble's first 20 predictions\n",
    "print(ensemble_preds_B[:100])\n",
    "ensemble_preds_B.shape"
   ]
  },
  {
   "cell_type": "code",
   "execution_count": 201,
   "metadata": {},
   "outputs": [
    {
     "data": {
      "text/plain": [
       "0.8493087557603687"
      ]
     },
     "execution_count": 201,
     "metadata": {},
     "output_type": "execute_result"
    }
   ],
   "source": [
    "Dif_B= abs(ensemble_preds_B - y_test)\n",
    "Acc_B = 1 - sum(Dif_B)/Dif_B.shape[0]\n",
    "Acc_B"
   ]
  },
  {
   "cell_type": "markdown",
   "metadata": {},
   "source": [
    "# Exercise 8.5\n",
    "\n",
    "Using sklearn, train a RandomForestClassifier\n",
    "\n",
    "Evaluate the accuracy on the testing set"
   ]
  },
  {
   "cell_type": "code",
   "execution_count": 211,
   "metadata": {},
   "outputs": [
    {
     "data": {
      "text/plain": [
       "RandomForestClassifier(bootstrap=True, class_weight=None, criterion='gini',\n",
       "                       max_depth=None, max_features='auto', max_leaf_nodes=None,\n",
       "                       min_impurity_decrease=0.0, min_impurity_split=None,\n",
       "                       min_samples_leaf=1, min_samples_split=2,\n",
       "                       min_weight_fraction_leaf=0.0, n_estimators='warn',\n",
       "                       n_jobs=None, oob_score=False, random_state=None,\n",
       "                       verbose=0, warm_start=False)"
      ]
     },
     "execution_count": 211,
     "metadata": {},
     "output_type": "execute_result"
    }
   ],
   "source": [
    "from sklearn.ensemble import RandomForestClassifier\n",
    "from sklearn.model_selection import cross_val_score\n",
    "import matplotlib.pyplot as plt\n",
    "\n",
    "clf = RandomForestClassifier()\n",
    "clf"
   ]
  },
  {
   "cell_type": "code",
   "execution_count": 212,
   "metadata": {},
   "outputs": [
    {
     "name": "stderr",
     "output_type": "stream",
     "text": [
      "C:\\Users\\jcoronelv\\AppData\\Local\\Continuum\\anaconda3\\lib\\site-packages\\sklearn\\ensemble\\forest.py:245: FutureWarning: The default value of n_estimators will change from 10 in version 0.20 to 100 in 0.22.\n",
      "  \"10 in version 0.20 to 100 in 0.22.\", FutureWarning)\n"
     ]
    },
    {
     "data": {
      "text/plain": [
       "RandomForestClassifier(bootstrap=True, class_weight=None, criterion='gini',\n",
       "                       max_depth=None, max_features='auto', max_leaf_nodes=None,\n",
       "                       min_impurity_decrease=0.0, min_impurity_split=None,\n",
       "                       min_samples_leaf=1, min_samples_split=2,\n",
       "                       min_weight_fraction_leaf=0.0, n_estimators=10,\n",
       "                       n_jobs=None, oob_score=False, random_state=None,\n",
       "                       verbose=0, warm_start=False)"
      ]
     },
     "execution_count": 212,
     "metadata": {},
     "output_type": "execute_result"
    }
   ],
   "source": [
    "clf.fit(X_train, y_train)"
   ]
  },
  {
   "cell_type": "code",
   "execution_count": 210,
   "metadata": {},
   "outputs": [
    {
     "data": {
      "text/plain": [
       "0.8394009216589862"
      ]
     },
     "execution_count": 210,
     "metadata": {},
     "output_type": "execute_result"
    }
   ],
   "source": [
    "predict_rf = clf.predict(X_test)\n",
    "\n",
    "Dif_rf = abs(predict_rf - y_test)\n",
    "Acc_rf = 1 - sum(Dif_rf)/Dif_rf.shape[0]\n",
    "Acc_rf\n"
   ]
  },
  {
   "cell_type": "markdown",
   "metadata": {},
   "source": [
    "# Random Forest sin optimizar parametros\n",
    "\n",
    "Usando la libreria sklearn Random forest entrenando con la data de train y luego prediciendo sobre la data de test sin hacer optimización de parametros obtenemos un Accuracy del 83%"
   ]
  },
  {
   "cell_type": "markdown",
   "metadata": {},
   "source": [
    "# Exercise 8.6\n",
    "\n",
    "Find the best parameters of the RandomForestClassifier (max_depth, max_features, n_estimators)\n",
    "\n",
    "Evaluate the accuracy on the testing set"
   ]
  },
  {
   "cell_type": "code",
   "execution_count": 214,
   "metadata": {},
   "outputs": [],
   "source": [
    "# Rangos de prueba en el número de estimadores\n",
    "estimator_range = range(10, 310, 10)\n",
    "\n",
    "# Crear una lista para guardar los acuuracy de cada modelo con diferentes estimadores\n",
    "accuracy_scores = []\n",
    "\n",
    "# use 5-fold cross-validation with each value of n_estimators (WARNING: SLOW!)\n",
    "for estimator in estimator_range:\n",
    "    clf_op = RandomForestClassifier(n_estimators=estimator, random_state=1, n_jobs=-1)\n",
    "    accuracy_scores.append(cross_val_score(clf_op, X_train, y_train, cv=5, scoring='accuracy').mean())"
   ]
  },
  {
   "cell_type": "code",
   "execution_count": 215,
   "metadata": {
    "scrolled": true
   },
   "outputs": [
    {
     "data": {
      "text/plain": [
       "Text(0, 0.5, 'Accuracy')"
      ]
     },
     "execution_count": 215,
     "metadata": {},
     "output_type": "execute_result"
    },
    {
     "data": {
      "image/png": "[encoded data removed]",
      "text/plain": [
       "<Figure size 432x288 with 1 Axes>"
      ]
     },
     "metadata": {
      "needs_background": "light"
     },
     "output_type": "display_data"
    }
   ],
   "source": [
    "plt.plot(estimator_range, accuracy_scores)\n",
    "plt.xlabel('n_estimators')\n",
    "plt.ylabel('Accuracy')"
   ]
  },
  {
   "cell_type": "code",
   "execution_count": 216,
   "metadata": {},
   "outputs": [],
   "source": [
    "feature_cols = data.columns[data.columns.str.startswith('C') == False].drop('HighPrice')\n",
    "feature_cols\n",
    "\n",
    "# list of values to try for max_features\n",
    "feature_range = range(1, len(feature_cols)+1)\n",
    "\n",
    "# list to store the average Accuracy for each value of max_features\n",
    "accuracy_scores = []\n",
    "\n",
    "# use 10-fold cross-validation with each value of max_features (WARNING: SLOW!)\n",
    "for feature in feature_range:\n",
    "    clf_op = RandomForestClassifier(n_estimators=50, max_features=feature, random_state=1, n_jobs=-1)\n",
    "    accuracy_scores.append(cross_val_score(clf_op, X_train, y_train, cv=5, scoring='accuracy').mean())"
   ]
  },
  {
   "cell_type": "code",
   "execution_count": 217,
   "metadata": {
    "scrolled": true
   },
   "outputs": [
    {
     "data": {
      "text/plain": [
       "Text(0, 0.5, 'Accuracy')"
      ]
     },
     "execution_count": 217,
     "metadata": {},
     "output_type": "execute_result"
    },
    {
     "data": {
      "image/png": "[encoded data removed]",
      "text/plain": [
       "<Figure size 432x288 with 1 Axes>"
      ]
     },
     "metadata": {
      "needs_background": "light"
     },
     "output_type": "display_data"
    }
   ],
   "source": [
    "plt.plot(feature_range, accuracy_scores)\n",
    "plt.xlabel('max_features')\n",
    "plt.ylabel('Accuracy')"
   ]
  },
  {
   "cell_type": "code",
   "execution_count": 218,
   "metadata": {},
   "outputs": [],
   "source": [
    "# Rangos de prueba rango max_depth\n",
    "depth_range = range(1, 10, 1)\n",
    "\n",
    "# Crear una lista para guardar los acuuracy de cada modelo con diferentes max_depth\n",
    "accuracy_scores = []\n",
    "\n",
    "# use 5-fold cross-validation with each value of n_estimators (WARNING: SLOW!)\n",
    "for depth in depth_range:\n",
    "    clf_op = RandomForestClassifier(n_estimators=50, random_state=1, max_features=8, n_jobs=-1, max_depth=depth)\n",
    "    accuracy_scores.append(cross_val_score(clf_op, X_train, y_train, cv=5, scoring='accuracy').mean())"
   ]
  },
  {
   "cell_type": "code",
   "execution_count": 248,
   "metadata": {},
   "outputs": [
    {
     "data": {
      "text/plain": [
       "Text(0, 0.5, 'Accuracy')"
      ]
     },
     "execution_count": 248,
     "metadata": {},
     "output_type": "execute_result"
    },
    {
     "data": {
      "image/png": "[encoded data removed]",
      "text/plain": [
       "<Figure size 432x288 with 1 Axes>"
      ]
     },
     "metadata": {
      "needs_background": "light"
     },
     "output_type": "display_data"
    }
   ],
   "source": [
    "plt.plot(depth_range, accuracy_scores)\n",
    "plt.xlabel('max_depth')\n",
    "plt.ylabel('Accuracy')"
   ]
  },
  {
   "cell_type": "code",
   "execution_count": 219,
   "metadata": {
    "scrolled": true
   },
   "outputs": [
    {
     "data": {
      "text/plain": [
       "count    5.000000\n",
       "mean     0.883881\n",
       "std      0.004992\n",
       "min      0.879046\n",
       "25%      0.881452\n",
       "50%      0.883087\n",
       "75%      0.883589\n",
       "max      0.892229\n",
       "dtype: float64"
      ]
     },
     "execution_count": 219,
     "metadata": {},
     "output_type": "execute_result"
    }
   ],
   "source": [
    "# max_features=6 is best and n_estimators=80 is sufficiently large\n",
    "clf_op = RandomForestClassifier(n_estimators=50, max_features=8, max_depth=5, random_state=1, n_jobs=-1)\n",
    "clf_op.fit(X_train, y_train)\n",
    "pd.Series(cross_val_score(clf_op, X_train, y_train, cv=5)).describe()"
   ]
  },
  {
   "cell_type": "code",
   "execution_count": 220,
   "metadata": {},
   "outputs": [
    {
     "data": {
      "text/plain": [
       "0.880184331797235"
      ]
     },
     "execution_count": 220,
     "metadata": {},
     "output_type": "execute_result"
    }
   ],
   "source": [
    "predict_rf_op = clf_op.predict(X_test)\n",
    "\n",
    "Dif_rf_op = abs(predict_rf_op - y_test)\n",
    "Acc_rf_op = 1 - sum(Dif_rf_op)/Dif_rf_op.shape[0]\n",
    "Acc_rf_op"
   ]
  },
  {
   "cell_type": "code",
   "execution_count": 221,
   "metadata": {},
   "outputs": [
    {
     "data": {
      "text/html": [
       "<div>\n",
       "<style scoped>\n",
       "    .dataframe tbody tr th:only-of-type {\n",
       "        vertical-align: middle;\n",
       "    }\n",
       "\n",
       "    .dataframe tbody tr th {\n",
       "        vertical-align: top;\n",
       "    }\n",
       "\n",
       "    .dataframe thead th {\n",
       "        text-align: right;\n",
       "    }\n",
       "</style>\n",
       "<table border=\"1\" class=\"dataframe\">\n",
       "  <thead>\n",
       "    <tr style=\"text-align: right;\">\n",
       "      <th></th>\n",
       "      <th>feature</th>\n",
       "      <th>importance</th>\n",
       "    </tr>\n",
       "  </thead>\n",
       "  <tbody>\n",
       "    <tr>\n",
       "      <th>4</th>\n",
       "      <td>M_CamryBase</td>\n",
       "      <td>0.000004</td>\n",
       "    </tr>\n",
       "    <tr>\n",
       "      <th>7</th>\n",
       "      <td>M_CamrySE</td>\n",
       "      <td>0.000444</td>\n",
       "    </tr>\n",
       "    <tr>\n",
       "      <th>5</th>\n",
       "      <td>M_CamryL</td>\n",
       "      <td>0.001191</td>\n",
       "    </tr>\n",
       "    <tr>\n",
       "      <th>3</th>\n",
       "      <td>M_Camry4dr</td>\n",
       "      <td>0.002378</td>\n",
       "    </tr>\n",
       "    <tr>\n",
       "      <th>2</th>\n",
       "      <td>M_Camry</td>\n",
       "      <td>0.007395</td>\n",
       "    </tr>\n",
       "    <tr>\n",
       "      <th>8</th>\n",
       "      <td>M_CamryXLE</td>\n",
       "      <td>0.007491</td>\n",
       "    </tr>\n",
       "    <tr>\n",
       "      <th>6</th>\n",
       "      <td>M_CamryLE</td>\n",
       "      <td>0.016117</td>\n",
       "    </tr>\n",
       "    <tr>\n",
       "      <th>0</th>\n",
       "      <td>Year</td>\n",
       "      <td>0.222473</td>\n",
       "    </tr>\n",
       "    <tr>\n",
       "      <th>1</th>\n",
       "      <td>Mileage</td>\n",
       "      <td>0.742507</td>\n",
       "    </tr>\n",
       "  </tbody>\n",
       "</table>\n",
       "</div>"
      ],
      "text/plain": [
       "       feature  importance\n",
       "4  M_CamryBase    0.000004\n",
       "7    M_CamrySE    0.000444\n",
       "5     M_CamryL    0.001191\n",
       "3   M_Camry4dr    0.002378\n",
       "2      M_Camry    0.007395\n",
       "8   M_CamryXLE    0.007491\n",
       "6    M_CamryLE    0.016117\n",
       "0         Year    0.222473\n",
       "1      Mileage    0.742507"
      ]
     },
     "execution_count": 221,
     "metadata": {},
     "output_type": "execute_result"
    }
   ],
   "source": [
    "# compute feature importances\n",
    "pd.DataFrame({'feature':feature_cols, 'importance':clf_op.feature_importances_}).sort_values('importance')"
   ]
  },
  {
   "cell_type": "markdown",
   "metadata": {},
   "source": [
    "# Random Forest con Parametros optimos\n",
    "\n",
    "Al buscar los parametros que dan los más altos valores de Accuracy en los parametros : Número de estimadores, max_depth y features_cols envontramos los siguientes optimos:\n",
    "\n",
    "número de estimadores=50\n",
    "máximas variables=8\n",
    "maxima profundidad de cada arbol=5\n",
    "\n",
    "Con estos parametros mejora bastante el Accuracy con respecto al modelo sin optimizar = 88,01%\n"
   ]
  },
  {
   "cell_type": "markdown",
   "metadata": {},
   "source": [
    "# Exercise 8.7 \n",
    "\n",
    "Using xgboost train a XGBClassifier \n",
    "\n",
    "Evaluate the accuracy on the testing set"
   ]
  },
  {
   "cell_type": "code",
   "execution_count": 222,
   "metadata": {},
   "outputs": [
    {
     "data": {
      "text/plain": [
       "XGBClassifier(base_score=None, booster=None, colsample_bylevel=None,\n",
       "              colsample_bynode=None, colsample_bytree=None, gamma=None,\n",
       "              gpu_id=None, importance_type='gain', interaction_constraints=None,\n",
       "              learning_rate=None, max_delta_step=None, max_depth=None,\n",
       "              min_child_weight=None, missing=nan, monotone_constraints=None,\n",
       "              n_estimators=100, n_jobs=None, num_parallel_tree=None,\n",
       "              objective='binary:logistic', random_state=None, reg_alpha=None,\n",
       "              reg_lambda=None, scale_pos_weight=None, subsample=None,\n",
       "              tree_method=None, validate_parameters=None, verbosity=None)"
      ]
     },
     "execution_count": 222,
     "metadata": {},
     "output_type": "execute_result"
    }
   ],
   "source": [
    "from xgboost import XGBClassifier\n",
    "from sklearn import metrics\n",
    "\n",
    "clf_xg = XGBClassifier()\n",
    "clf_xg"
   ]
  },
  {
   "cell_type": "code",
   "execution_count": 237,
   "metadata": {},
   "outputs": [
    {
     "data": {
      "text/plain": [
       "0.8790322580645161"
      ]
     },
     "execution_count": 237,
     "metadata": {},
     "output_type": "execute_result"
    }
   ],
   "source": [
    "clf_xg.fit(X_train, y_train)\n",
    "y_pred = clf_xg.predict(X_test)\n",
    "Acc_xb = metrics.accuracy_score(y_pred, y_test.values)\n",
    "Acc_xb\n"
   ]
  },
  {
   "cell_type": "markdown",
   "metadata": {},
   "source": [
    "# Xgboost Sin optimizar parametros\n",
    "\n",
    "Al ejecutar un modelo Xgboost sin optimizar los parametros nos da un Accuracy del 87.9%"
   ]
  },
  {
   "cell_type": "markdown",
   "metadata": {},
   "source": [
    "# Exercise 8.8\n",
    "\n",
    "Using xgboost train a XGBClassifier \n",
    "\n",
    "Modify the parameters learning rate, gamma, colsample_bytree. Explain what each parameter means.\n",
    "\n",
    "Evaluate the accuracy on the testing set"
   ]
  },
  {
   "cell_type": "code",
   "execution_count": 224,
   "metadata": {},
   "outputs": [],
   "source": [
    "# Rangos de prueba rango learning rate\n",
    "lr_range = np.arange(0, 1, 0.1)\n",
    "\n",
    "# Crear una lista para guardar los acuuracy de cada modelo con diferentes learning rate\n",
    "accuracy_scores_xg = []\n",
    "\n",
    "# with each value of learning rate \n",
    "for lr in lr_range:\n",
    "    clf_op_xg = XGBClassifier(learning_rate=lr)\n",
    "    clf_op_xg.fit(X_train, y_train)\n",
    "    y_pred_xg = clf_op_xg.predict(X_train)\n",
    "    accuracy_scores_xg.append(metrics.accuracy_score(y_pred_xg, y_train.values))"
   ]
  },
  {
   "cell_type": "code",
   "execution_count": 225,
   "metadata": {},
   "outputs": [
    {
     "data": {
      "text/plain": [
       "Text(0, 0.5, 'Accuracy')"
      ]
     },
     "execution_count": 225,
     "metadata": {},
     "output_type": "execute_result"
    },
    {
     "data": {
      "image/png": "[encoded data removed]",
      "text/plain": [
       "<Figure size 432x288 with 1 Axes>"
      ]
     },
     "metadata": {
      "needs_background": "light"
     },
     "output_type": "display_data"
    }
   ],
   "source": [
    "plt.plot(lr_range, accuracy_scores_xg)\n",
    "plt.xlabel('learning_rate')\n",
    "plt.ylabel('Accuracy')"
   ]
  },
  {
   "cell_type": "code",
   "execution_count": 226,
   "metadata": {},
   "outputs": [],
   "source": [
    "# Rangos de prueba rango col_sample\n",
    "col_range = np.arange(0.1, 1, 0.1)\n",
    "\n",
    "# Crear una lista para guardar los acuuracy de cada modelo con diferentes col_sample\n",
    "accuracy_scores_xg = []\n",
    "\n",
    "# with each value of col_sample\n",
    "for col in col_range:\n",
    "    clf_op_xg = XGBClassifier(learning_rate=0.9, colsample_bytree= col)\n",
    "    clf_op_xg.fit(X_train, y_train)\n",
    "    y_pred_xg = clf_op_xg.predict(X_train)\n",
    "    accuracy_scores_xg.append(metrics.accuracy_score(y_pred_xg, y_train.values))"
   ]
  },
  {
   "cell_type": "code",
   "execution_count": 227,
   "metadata": {},
   "outputs": [
    {
     "data": {
      "text/plain": [
       "Text(0, 0.5, 'Accuracy')"
      ]
     },
     "execution_count": 227,
     "metadata": {},
     "output_type": "execute_result"
    },
    {
     "data": {
      "image/png": "[encoded data removed]",
      "text/plain": [
       "<Figure size 432x288 with 1 Axes>"
      ]
     },
     "metadata": {
      "needs_background": "light"
     },
     "output_type": "display_data"
    }
   ],
   "source": [
    "plt.plot(col_range, accuracy_scores_xg)\n",
    "plt.xlabel('col sample')\n",
    "plt.ylabel('Accuracy')"
   ]
  },
  {
   "cell_type": "code",
   "execution_count": 228,
   "metadata": {},
   "outputs": [],
   "source": [
    "# Rangos de prueba rango gamma\n",
    "col_ga = range(0, 10, 1)\n",
    "\n",
    "# Crear una lista para guardar los acuuracy de cada modelo con diferentes gamma\n",
    "accuracy_scores_xg = []\n",
    "\n",
    "# Accuracy with each value of gamma\n",
    "for ga in col_ga:\n",
    "    clf_op_xg = XGBClassifier(learning_rate=0.9, colsample_bytree= 0.9, gamma= ga)\n",
    "    clf_op_xg.fit(X_train, y_train)\n",
    "    y_pred_xg = clf_op_xg.predict(X_train)\n",
    "    accuracy_scores_xg.append(metrics.accuracy_score(y_pred_xg, y_train.values))"
   ]
  },
  {
   "cell_type": "code",
   "execution_count": 229,
   "metadata": {
    "scrolled": true
   },
   "outputs": [
    {
     "data": {
      "text/plain": [
       "Text(0, 0.5, 'Accuracy')"
      ]
     },
     "execution_count": 229,
     "metadata": {},
     "output_type": "execute_result"
    },
    {
     "data": {
      "image/png": "[encoded data removed]",
      "text/plain": [
       "<Figure size 432x288 with 1 Axes>"
      ]
     },
     "metadata": {
      "needs_background": "light"
     },
     "output_type": "display_data"
    }
   ],
   "source": [
    "plt.plot(col_ga, accuracy_scores_xg)\n",
    "plt.xlabel('gamma')\n",
    "plt.ylabel('Accuracy')"
   ]
  },
  {
   "cell_type": "code",
   "execution_count": 236,
   "metadata": {},
   "outputs": [
    {
     "data": {
      "text/plain": [
       "0.864516129032258"
      ]
     },
     "execution_count": 236,
     "metadata": {},
     "output_type": "execute_result"
    }
   ],
   "source": [
    "clf_op_xg = XGBClassifier(colsample_bytree= 1, gamma= 0, learning_rate=0.9)\n",
    "clf_op_xg.fit(X_train, y_train)\n",
    "y_pred_xg = clf_op_xg.predict(X_test)\n",
    "Acc_xg_op = metrics.accuracy_score(y_pred_xg, y_test.values)\n",
    "Acc_xg_op "
   ]
  },
  {
   "cell_type": "markdown",
   "metadata": {},
   "source": [
    "# Xgboost optimizando parametros\n",
    "\n",
    "Al buscar los parametros que dan los más altos valores de Accuracy con el modelo Xgboost cambiando los parametros : learning rate, gamma y colsample_bytree encontramos los siguientes optimos:\n",
    "\n",
    "learning rate=0,9\n",
    "gamma=0\n",
    "colsample_bytree=1\n",
    "\n",
    "Con estos parametros el Accuracy nos queda en = 86,45%"
   ]
  },
  {
   "cell_type": "code",
   "execution_count": 238,
   "metadata": {},
   "outputs": [
    {
     "name": "stdout",
     "output_type": "stream",
     "text": [
      "8.1 Accuracy Arbol =     0.8610599078341014\n",
      "8.2 Accuracy Baggin =    0.8633640552995392\n",
      "8.3 Accuracy RF     =    0.8495391705069124\n",
      "8.4 Accuracy Bag + RF =  0.8493087557603687\n",
      "8.5 Accuracy RF =        0.8394009216589862\n",
      "8.6 Accuracy RF Optimo = 0.880184331797235\n",
      "8.7 Accuracy xgboost =   0.8790322580645161\n",
      "8.8 Accuracy xg Optimo = 0.864516129032258\n"
     ]
    }
   ],
   "source": [
    "print('8.1 Accuracy Arbol =     ' + str(Acc_Arbol))\n",
    "print('8.2 Accuracy Baggin =    ' + str(Acc_Ba))\n",
    "print('8.3 Accuracy RF     =    ' + str(Acc_Ran))\n",
    "print('8.4 Accuracy Bag + RF =  ' + str(Acc_B))\n",
    "print('8.5 Accuracy RF =        ' + str(Acc_rf))\n",
    "print('8.6 Accuracy RF Optimo = ' + str(Acc_rf_op))\n",
    "print('8.7 Accuracy xgboost =   ' + str(Acc_xb))\n",
    "print('8.8 Accuracy xg Optimo = ' + str(Acc_xg_op))\n"
   ]
  },
  {
   "cell_type": "code",
   "execution_count": null,
   "metadata": {},
   "outputs": [],
   "source": [
    "Al final el modelo que mejor predice es el Random Forest optimizando los parametros."
   ]
  }
 ],
 "metadata": {
  "kernelspec": {
   "display_name": "Python 3",
   "language": "python",
   "name": "python3"
  },
  "language_info": {
   "codemirror_mode": {
    "name": "ipython",
    "version": 3
   },
   "file_extension": ".py",
   "mimetype": "text/x-python",
   "name": "python",
   "nbconvert_exporter": "python",
   "pygments_lexer": "ipython3",
   "version": "3.7.3"
  }
 },
 "nbformat": 4,
 "nbformat_minor": 4
}
