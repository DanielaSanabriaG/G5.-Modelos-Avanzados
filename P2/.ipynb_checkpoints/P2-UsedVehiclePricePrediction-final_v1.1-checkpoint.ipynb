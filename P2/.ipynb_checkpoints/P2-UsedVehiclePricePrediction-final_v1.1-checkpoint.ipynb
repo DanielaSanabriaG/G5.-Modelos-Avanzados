{
 "cells": [
  {
   "cell_type": "markdown",
   "metadata": {},
   "source": [
    "\n",
    "<img src=\"https://catalogo.uniandes.edu.co/-/media/Institution/Universidad-de-los-Andes/ingenieria/maestria-int-toma.ashx?la=es-ES\">\n",
    "\n",
    "    "
   ]
  },
  {
   "cell_type": "markdown",
   "metadata": {},
   "source": [
    "# P2. Modelo para la estimación del precio de venta de vehículos usados\n",
    "\n",
    "by [Daniela Carolina Sanabria, Jonny Eduardo Coronel, Oscar Mauricio Cepeda, Nestor Fabian Cholo]\n",
    "\n",
    "version 1.0, Junio 2020\n",
    "### Definición del problema:\n",
    "\n",
    "-  Se desea construir un modelo para estimar el precio de venta de un vehículo usado teniendo en cuenta las variables: precio, año, millaje, estado (EUA), marca y modelo.\n",
    "\n",
    "- Se cuenta con la base de datos una base de datos con 500.000 observaciones (Fuente: Kaggle: [data](https://www.kaggle.com/jpayne/852k-used-car-listings))."
   ]
  },
  {
   "cell_type": "code",
   "execution_count": 2,
   "metadata": {},
   "outputs": [],
   "source": [
    "%matplotlib inline\n",
    "import pandas as pd\n",
    "import numpy as np\n",
    "import matplotlib.pyplot as plt"
   ]
  },
  {
   "cell_type": "markdown",
   "metadata": {},
   "source": [
    "Carga base de datos:"
   ]
  },
  {
   "cell_type": "code",
   "execution_count": 3,
   "metadata": {},
   "outputs": [],
   "source": [
    "data = pd.read_csv('../datasets/dataTrain_carListings.zip')"
   ]
  },
  {
   "cell_type": "code",
   "execution_count": 4,
   "metadata": {},
   "outputs": [
    {
     "data": {
      "text/html": [
       "<div>\n",
       "<style scoped>\n",
       "    .dataframe tbody tr th:only-of-type {\n",
       "        vertical-align: middle;\n",
       "    }\n",
       "\n",
       "    .dataframe tbody tr th {\n",
       "        vertical-align: top;\n",
       "    }\n",
       "\n",
       "    .dataframe thead th {\n",
       "        text-align: right;\n",
       "    }\n",
       "</style>\n",
       "<table border=\"1\" class=\"dataframe\">\n",
       "  <thead>\n",
       "    <tr style=\"text-align: right;\">\n",
       "      <th></th>\n",
       "      <th>Price</th>\n",
       "      <th>Year</th>\n",
       "      <th>Mileage</th>\n",
       "      <th>State</th>\n",
       "      <th>Make</th>\n",
       "      <th>Model</th>\n",
       "    </tr>\n",
       "  </thead>\n",
       "  <tbody>\n",
       "    <tr>\n",
       "      <th>0</th>\n",
       "      <td>21490</td>\n",
       "      <td>2014</td>\n",
       "      <td>31909</td>\n",
       "      <td>MD</td>\n",
       "      <td>Nissan</td>\n",
       "      <td>MuranoAWD</td>\n",
       "    </tr>\n",
       "    <tr>\n",
       "      <th>1</th>\n",
       "      <td>21250</td>\n",
       "      <td>2016</td>\n",
       "      <td>25741</td>\n",
       "      <td>KY</td>\n",
       "      <td>Chevrolet</td>\n",
       "      <td>CamaroCoupe</td>\n",
       "    </tr>\n",
       "  </tbody>\n",
       "</table>\n",
       "</div>"
      ],
      "text/plain": [
       "   Price  Year  Mileage State       Make        Model\n",
       "0  21490  2014    31909    MD     Nissan    MuranoAWD\n",
       "1  21250  2016    25741    KY  Chevrolet  CamaroCoupe"
      ]
     },
     "execution_count": 4,
     "metadata": {},
     "output_type": "execute_result"
    }
   ],
   "source": [
    "data.head(2)"
   ]
  },
  {
   "cell_type": "code",
   "execution_count": 5,
   "metadata": {},
   "outputs": [
    {
     "data": {
      "text/plain": [
       "(500000, 6)"
      ]
     },
     "execution_count": 5,
     "metadata": {},
     "output_type": "execute_result"
    }
   ],
   "source": [
    "data.shape"
   ]
  },
  {
   "cell_type": "markdown",
   "metadata": {},
   "source": [
    "Indentificación de tipo de variables:"
   ]
  },
  {
   "cell_type": "code",
   "execution_count": 6,
   "metadata": {},
   "outputs": [
    {
     "data": {
      "text/plain": [
       "Price       int64\n",
       "Year        int64\n",
       "Mileage     int64\n",
       "State      object\n",
       "Make       object\n",
       "Model      object\n",
       "dtype: object"
      ]
     },
     "execution_count": 6,
     "metadata": {},
     "output_type": "execute_result"
    }
   ],
   "source": [
    "data.dtypes"
   ]
  },
  {
   "cell_type": "code",
   "execution_count": 7,
   "metadata": {},
   "outputs": [
    {
     "data": {
      "text/plain": [
       "count    500000.000000\n",
       "mean      21144.186304\n",
       "std       10753.259704\n",
       "min        5001.000000\n",
       "25%       13499.000000\n",
       "50%       18450.000000\n",
       "75%       26998.000000\n",
       "max       79999.000000\n",
       "Name: Price, dtype: float64"
      ]
     },
     "execution_count": 7,
     "metadata": {},
     "output_type": "execute_result"
    }
   ],
   "source": [
    "data.Price.describe()"
   ]
  },
  {
   "cell_type": "markdown",
   "metadata": {},
   "source": [
    "En la gráfica se evidencia una relación positiva entre el año del vehiculo y el precio para la muestra dada."
   ]
  },
  {
   "cell_type": "code",
   "execution_count": 8,
   "metadata": {},
   "outputs": [
    {
     "data": {
      "text/plain": [
       "<matplotlib.axes._subplots.AxesSubplot at 0x2255becf208>"
      ]
     },
     "execution_count": 8,
     "metadata": {},
     "output_type": "execute_result"
    },
    {
     "data": {
      "image/png": "[encoded data removed]",
      "text/plain": [
       "<Figure size 432x288 with 1 Axes>"
      ]
     },
     "metadata": {
      "needs_background": "light"
     },
     "output_type": "display_data"
    }
   ],
   "source": [
    "data.plot(kind='scatter', y='Price', x='Year')"
   ]
  },
  {
   "cell_type": "markdown",
   "metadata": {},
   "source": [
    "Se identifica que al aumentar el millaje el precio de los vehículos tiende a ser menor, y se observan algunos datos fuera del rango tipico."
   ]
  },
  {
   "cell_type": "code",
   "execution_count": 9,
   "metadata": {},
   "outputs": [
    {
     "data": {
      "text/plain": [
       "<matplotlib.axes._subplots.AxesSubplot at 0x2255bf98c18>"
      ]
     },
     "execution_count": 9,
     "metadata": {},
     "output_type": "execute_result"
    },
    {
     "data": {
      "image/png": "[encoded data removed]",
      "text/plain": [
       "<Figure size 432x288 with 1 Axes>"
      ]
     },
     "metadata": {
      "needs_background": "light"
     },
     "output_type": "display_data"
    }
   ],
   "source": [
    "data.plot(kind='scatter', y='Price', x='Mileage')"
   ]
  },
  {
   "cell_type": "code",
   "execution_count": 10,
   "metadata": {},
   "outputs": [
    {
     "data": {
      "text/plain": [
       "Index(['Price', 'Year', 'Mileage', 'State', 'Make', 'Model'], dtype='object')"
      ]
     },
     "execution_count": 10,
     "metadata": {},
     "output_type": "execute_result"
    }
   ],
   "source": [
    "data.columns"
   ]
  },
  {
   "cell_type": "markdown",
   "metadata": {},
   "source": [
    "#### Análisis de variables"
   ]
  },
  {
   "cell_type": "code",
   "execution_count": 11,
   "metadata": {},
   "outputs": [
    {
     "data": {
      "image/png": "[encoded data removed]",
      "text/plain": [
       "<Figure size 540x540 with 12 Axes>"
      ]
     },
     "metadata": {
      "needs_background": "light"
     },
     "output_type": "display_data"
    }
   ],
   "source": [
    "import seaborn as sns\n",
    "sns.pairplot(data[[\"Price\",\"Year\", \"Mileage\"]])\n",
    "plt.show()"
   ]
  },
  {
   "cell_type": "markdown",
   "metadata": {},
   "source": [
    "- Se identifica que al aumentar el millaje el precio de los vehículos tiende a ser menor.\n",
    "\n",
    "- En la gráfica se evidencia una relación positiva entre el año del vehiculo y el precio."
   ]
  },
  {
   "cell_type": "markdown",
   "metadata": {},
   "source": [
    "#### Mapa temático"
   ]
  },
  {
   "cell_type": "markdown",
   "metadata": {},
   "source": [
    "Se realiza un mapa temático que nos permita identificar los estados con mayor número de ventas, precios y millaje promedio. "
   ]
  },
  {
   "cell_type": "code",
   "execution_count": 54,
   "metadata": {},
   "outputs": [
    {
     "data": {
      "text/html": [
       "<div>\n",
       "<style scoped>\n",
       "    .dataframe tbody tr th:only-of-type {\n",
       "        vertical-align: middle;\n",
       "    }\n",
       "\n",
       "    .dataframe tbody tr th {\n",
       "        vertical-align: top;\n",
       "    }\n",
       "\n",
       "    .dataframe thead th {\n",
       "        text-align: right;\n",
       "    }\n",
       "</style>\n",
       "<table border=\"1\" class=\"dataframe\">\n",
       "  <thead>\n",
       "    <tr style=\"text-align: right;\">\n",
       "      <th></th>\n",
       "      <th>FID</th>\n",
       "      <th>STATE_NAME</th>\n",
       "      <th>STATE_FIPS</th>\n",
       "      <th>STATE_ABBR</th>\n",
       "      <th>n</th>\n",
       "      <th>P_price</th>\n",
       "      <th>P_mill</th>\n",
       "      <th>geometry</th>\n",
       "    </tr>\n",
       "  </thead>\n",
       "  <tbody>\n",
       "    <tr>\n",
       "      <th>0</th>\n",
       "      <td>0</td>\n",
       "      <td>Washington</td>\n",
       "      <td>53</td>\n",
       "      <td>WA</td>\n",
       "      <td>13637</td>\n",
       "      <td>21825.44225</td>\n",
       "      <td>60147.77942</td>\n",
       "      <td>MULTIPOLYGON (((-122.40202 48.22522, -122.4628...</td>\n",
       "    </tr>\n",
       "    <tr>\n",
       "      <th>1</th>\n",
       "      <td>1</td>\n",
       "      <td>Montana</td>\n",
       "      <td>30</td>\n",
       "      <td>MT</td>\n",
       "      <td>1229</td>\n",
       "      <td>25328.67453</td>\n",
       "      <td>66004.85517</td>\n",
       "      <td>POLYGON ((-111.47543 44.70216, -111.48080 44.6...</td>\n",
       "    </tr>\n",
       "  </tbody>\n",
       "</table>\n",
       "</div>"
      ],
      "text/plain": [
       "   FID  STATE_NAME STATE_FIPS STATE_ABBR      n      P_price       P_mill  \\\n",
       "0    0  Washington         53         WA  13637  21825.44225  60147.77942   \n",
       "1    1     Montana         30         MT   1229  25328.67453  66004.85517   \n",
       "\n",
       "                                            geometry  \n",
       "0  MULTIPOLYGON (((-122.40202 48.22522, -122.4628...  \n",
       "1  POLYGON ((-111.47543 44.70216, -111.48080 44.6...  "
      ]
     },
     "execution_count": 54,
     "metadata": {},
     "output_type": "execute_result"
    }
   ],
   "source": [
    "# Cargue capa temática\n",
    "import geopandas as gpd\n",
    "usa = \"USA.geojson\"\n",
    "map_data = gpd.read_file(usa)\n",
    "map_data.head(2)"
   ]
  },
  {
   "cell_type": "code",
   "execution_count": 56,
   "metadata": {},
   "outputs": [
    {
     "data": {
      "text/plain": [
       "<matplotlib.axes._subplots.AxesSubplot at 0x2250ddd6278>"
      ]
     },
     "execution_count": 56,
     "metadata": {},
     "output_type": "execute_result"
    },
    {
     "data": {
      "image/png": "[encoded data removed]",
      "text/plain": [
       "<Figure size 576x576 with 2 Axes>"
      ]
     },
     "metadata": {
      "needs_background": "light"
     },
     "output_type": "display_data"
    }
   ],
   "source": [
    "# Control del tamaño de la figura del mapa\n",
    "fig, ax = plt.subplots(1, 1, figsize=(8, 8))\n",
    "#fig, ax = plt.subplots(figsize=(8, 8))\n",
    "\n",
    "# Control del encuadre (área geográfica) del mapa\n",
    "ax.axis([ -127,-67, 21, 52])\n",
    " \n",
    "# Control del título y los ejes\n",
    "ax.set_title('Número de ventas por Estado:', \n",
    "             pad = 10, \n",
    "             fontdict={'fontsize':12, 'color': '#065ed1'})\n",
    "ax.set_xlabel('Longitud')\n",
    "ax.set_ylabel('Latitud')\n",
    "\n",
    "# Mostrar el mapa finalizado\n",
    "map_data.plot(column='n', cmap='YlOrRd', ax=ax,legend=True, zorder=5)"
   ]
  },
  {
   "cell_type": "markdown",
   "metadata": {},
   "source": [
    "Se identifica que los estados con mayor número de ventas son: TX (57.153), CA (45.643) y FL (42.244) "
   ]
  },
  {
   "cell_type": "code",
   "execution_count": 57,
   "metadata": {},
   "outputs": [
    {
     "data": {
      "text/plain": [
       "<matplotlib.axes._subplots.AxesSubplot at 0x22500cda4a8>"
      ]
     },
     "execution_count": 57,
     "metadata": {},
     "output_type": "execute_result"
    },
    {
     "data": {
      "image/png": "[encoded data removed]",
      "text/plain": [
       "<Figure size 576x576 with 2 Axes>"
      ]
     },
     "metadata": {
      "needs_background": "light"
     },
     "output_type": "display_data"
    }
   ],
   "source": [
    "# Control del tamaño de la figura del mapa\n",
    "fig, ax = plt.subplots(1, 1, figsize=(8, 8))\n",
    "#fig, ax = plt.subplots(figsize=(8, 8))\n",
    "\n",
    "# Control del encuadre (área geográfica) del mapa\n",
    "ax.axis([ -127,-67, 21, 52])\n",
    " \n",
    "# Control del título y los ejes\n",
    "ax.set_title('Precio promedio por Estado:', \n",
    "             pad = 10, \n",
    "             fontdict={'fontsize':12, 'color': '#065ed1'})\n",
    "ax.set_xlabel('Longitud')\n",
    "ax.set_ylabel('Latitud')\n",
    "\n",
    "# Mostrar el mapa finalizado\n",
    "map_data.plot(column='P_price', cmap='PiYG', ax=ax,legend=True, zorder=5)"
   ]
  },
  {
   "cell_type": "markdown",
   "metadata": {},
   "source": [
    "Se identifica que los estados con precios promedio de venta de vehículos usados más altos son: \n",
    "\n",
    " WY\t (25.981), \n",
    " MT\t (25.329), \n",
    " SD\t (25.057), \n",
    " MS\t (24.416), \n",
    " AR\t (23.856) "
   ]
  },
  {
   "cell_type": "markdown",
   "metadata": {},
   "source": [
    "# Exercise P2.1 (50%)\n",
    "\n",
    "Develop a machine learning model that predicts the price of the of car using as an input ['Year', 'Mileage', 'State', 'Make', 'Model']\n",
    "\n",
    "#### Evaluation:\n",
    "- 25% - Performance of the models using a manually implemented K-Fold (K=10) cross-validation\n",
    "- 25% - Notebook explaining the process for selecting the best model. You must specify how the calibration of each of the parameters is done and how these change the performance of the model. It is expected that a clear comparison will be made of all implemented models.. Present the most relevant conslusions about the whole process. \n"
   ]
  },
  {
   "cell_type": "code",
   "execution_count": 13,
   "metadata": {},
   "outputs": [],
   "source": [
    "df=data.copy()"
   ]
  },
  {
   "cell_type": "markdown",
   "metadata": {},
   "source": [
    "Teniendo en cuenta que las variables: State(51), Make(38) y Model(525) son categóricas, se llevará a cabo un proceso de codificación de tal manera que a cada categoría tome un valor númerico diferente. "
   ]
  },
  {
   "cell_type": "code",
   "execution_count": 14,
   "metadata": {},
   "outputs": [],
   "source": [
    "from sklearn.preprocessing import LabelEncoder\n",
    "\n",
    "le_s = LabelEncoder()\n",
    "le_s.fit(df['State'])\n",
    "df['State'] = le_s.fit_transform(df['State'])\n",
    "df['State']=df['State'].astype('category')"
   ]
  },
  {
   "cell_type": "code",
   "execution_count": 15,
   "metadata": {},
   "outputs": [],
   "source": [
    "le_m = LabelEncoder()\n",
    "le_m.fit(df['Make'])\n",
    "df['Make'] = le_m.fit_transform(df['Make'])\n",
    "df['Make']=df['Make'].astype('category')"
   ]
  },
  {
   "cell_type": "code",
   "execution_count": 16,
   "metadata": {},
   "outputs": [],
   "source": [
    "le_k = LabelEncoder()\n",
    "le_k.fit(df['Model'])\n",
    "df['Model'] = le_k.fit_transform(df['Model'])\n",
    "df['Model']=df['Model'].astype('category')"
   ]
  },
  {
   "cell_type": "markdown",
   "metadata": {},
   "source": [
    "Se verifica que la base este codificada correctamente: "
   ]
  },
  {
   "cell_type": "code",
   "execution_count": 17,
   "metadata": {},
   "outputs": [
    {
     "data": {
      "text/html": [
       "<div>\n",
       "<style scoped>\n",
       "    .dataframe tbody tr th:only-of-type {\n",
       "        vertical-align: middle;\n",
       "    }\n",
       "\n",
       "    .dataframe tbody tr th {\n",
       "        vertical-align: top;\n",
       "    }\n",
       "\n",
       "    .dataframe thead th {\n",
       "        text-align: right;\n",
       "    }\n",
       "</style>\n",
       "<table border=\"1\" class=\"dataframe\">\n",
       "  <thead>\n",
       "    <tr style=\"text-align: right;\">\n",
       "      <th></th>\n",
       "      <th>Price</th>\n",
       "      <th>Year</th>\n",
       "      <th>Mileage</th>\n",
       "      <th>State</th>\n",
       "      <th>Make</th>\n",
       "      <th>Model</th>\n",
       "    </tr>\n",
       "  </thead>\n",
       "  <tbody>\n",
       "    <tr>\n",
       "      <th>0</th>\n",
       "      <td>21490</td>\n",
       "      <td>2014</td>\n",
       "      <td>31909</td>\n",
       "      <td>20</td>\n",
       "      <td>27</td>\n",
       "      <td>305</td>\n",
       "    </tr>\n",
       "    <tr>\n",
       "      <th>1</th>\n",
       "      <td>21250</td>\n",
       "      <td>2016</td>\n",
       "      <td>25741</td>\n",
       "      <td>17</td>\n",
       "      <td>6</td>\n",
       "      <td>83</td>\n",
       "    </tr>\n",
       "    <tr>\n",
       "      <th>2</th>\n",
       "      <td>20925</td>\n",
       "      <td>2016</td>\n",
       "      <td>24633</td>\n",
       "      <td>40</td>\n",
       "      <td>14</td>\n",
       "      <td>400</td>\n",
       "    </tr>\n",
       "    <tr>\n",
       "      <th>3</th>\n",
       "      <td>14500</td>\n",
       "      <td>2012</td>\n",
       "      <td>84026</td>\n",
       "      <td>36</td>\n",
       "      <td>17</td>\n",
       "      <td>248</td>\n",
       "    </tr>\n",
       "  </tbody>\n",
       "</table>\n",
       "</div>"
      ],
      "text/plain": [
       "   Price  Year  Mileage State Make Model\n",
       "0  21490  2014    31909    20   27   305\n",
       "1  21250  2016    25741    17    6    83\n",
       "2  20925  2016    24633    40   14   400\n",
       "3  14500  2012    84026    36   17   248"
      ]
     },
     "execution_count": 17,
     "metadata": {},
     "output_type": "execute_result"
    }
   ],
   "source": [
    "df.head(4)"
   ]
  },
  {
   "cell_type": "markdown",
   "metadata": {},
   "source": [
    "Una vez codificada la base de datos, se crea la muestra de entrenamiento (X_train, y_train) y de evaluación (X_test, y_test) para la ejecución y calibración del modelo."
   ]
  },
  {
   "cell_type": "code",
   "execution_count": 18,
   "metadata": {},
   "outputs": [],
   "source": [
    "from sklearn.model_selection import train_test_split\n",
    "\n",
    "X = df.loc[:,df.columns!='Price']\n",
    "y = df.loc[:,['Price']]\n",
    "X_train, X_test, y_train, y_test = train_test_split(X, y, test_size=0.4,random_state=42)"
   ]
  },
  {
   "cell_type": "markdown",
   "metadata": {},
   "source": [
    "Primero se estimará un modelo Random Forest usando los parámetros por defecto de la librería ScikitLearn:"
   ]
  },
  {
   "cell_type": "code",
   "execution_count": 19,
   "metadata": {},
   "outputs": [],
   "source": [
    "from sklearn.ensemble import RandomForestRegressor\n",
    "\n",
    "rfregr = RandomForestRegressor(random_state=0)\n",
    "rfregr.fit(X_train, np.array(y_train).ravel())\n",
    "y_pred_1 = rfregr.predict(X_test)"
   ]
  },
  {
   "cell_type": "markdown",
   "metadata": {},
   "source": [
    "Una vez estimado el modelo se calculara el MSE y el R2 para evaluar la calidad del modelo:"
   ]
  },
  {
   "cell_type": "code",
   "execution_count": 20,
   "metadata": {},
   "outputs": [
    {
     "name": "stdout",
     "output_type": "stream",
     "text": [
      "MSE = 14324687.149616024, R2 = 0.8762190230903822\n"
     ]
    }
   ],
   "source": [
    "from sklearn.metrics import mean_squared_error, r2_score\n",
    "\n",
    "print(\"MSE = \"+str(mean_squared_error(y_test, y_pred_1))+\", R2 = \"+str(r2_score(y_test, y_pred_1)))"
   ]
  },
  {
   "cell_type": "markdown",
   "metadata": {},
   "source": [
    "Posteriormente, se realiza el proceso de validación cruzada manualmente para encontrar los valores óptimos del modelo. Se llevará a cabo un proceso de 10-fold CV, en el cual la muestra de entrenamiento se dividirá en 10 partes iguales, y con solo con 9 de ellas estimará un modelo determinado. Con la muestra restante, el modelo se probará y se obtendrá un MSE. Al final, se usarán todas las 10 submuestras de prueba y se obtendrán 10 MSE por modelo. Estos valores se promediarán y con esto se obtendrá la estimación del MSE por 10-Fold CV. En el siguiente bucle, se probarán diferentes modelos con el fin de obtener los mejores parámetros de una lista preestablecida. "
   ]
  },
  {
   "cell_type": "code",
   "execution_count": 21,
   "metadata": {},
   "outputs": [],
   "source": [
    "np.random.seed(123)\n",
    "\n",
    "cv=10\n",
    "N=X_train.shape[0]\n",
    "\n",
    "index_cv=np.array(X_train.index)\n",
    "np.random.shuffle(index_cv)\n",
    "\n",
    "from sklearn.ensemble import RandomForestRegressor\n",
    "from sklearn.metrics import mean_squared_error\n",
    "\n",
    "n_estimators=[10] #\n",
    "max_depth=[None, 5, 10]\n",
    "min_samples_split=[2, 5]\n",
    "max_features=['auto', 'sqrt']\n",
    "mse_cv=[]\n",
    "\n",
    "for estimator in n_estimators:\n",
    "    for depth in max_depth:\n",
    "        for minsample in min_samples_split:\n",
    "            for features in max_features:\n",
    "                \n",
    "                regr=RandomForestRegressor(random_state=0, n_estimators=estimator, max_depth=depth, \n",
    "                              min_samples_split=minsample, max_features=features)\n",
    "                mse=[]\n",
    "                \n",
    "                for fold in range(cv):\n",
    "\n",
    "                    test_ind=np.split(index_cv, cv)[fold]\n",
    "                    train_ind=[x for x in X_train.index if x not in test_ind]\n",
    "\n",
    "                    X_test_cv=np.array(X_train.loc[test_ind, :])\n",
    "                    X_train_cv=np.array(X_train.loc[train_ind, :])\n",
    "                    y_test_cv=np.array(y_train.loc[test_ind, :])\n",
    "                    y_train_cv=np.array(y_train.loc[train_ind, :])\n",
    "\n",
    "                    regr.fit(X_train_cv, y_train_cv.ravel())\n",
    "\n",
    "                    mse.append(mean_squared_error(y_test_cv, regr.predict(X_test_cv)))\n",
    "                    \n",
    "                mse_cv.append({'mse': np.mean(mse), 'n_estimators': estimator, 'max_depth': depth, 'min_samples_split': minsample,\n",
    "                       'max_features':features})"
   ]
  },
  {
   "cell_type": "markdown",
   "metadata": {},
   "source": [
    "La lista de los diferentes modelos estimados, con sus parámetros, y su MSE de 10-Fold Cross Validation es la siguiente:"
   ]
  },
  {
   "cell_type": "code",
   "execution_count": 22,
   "metadata": {},
   "outputs": [
    {
     "data": {
      "text/plain": [
       "[{'mse': 15132003.881609594,\n",
       "  'n_estimators': 10,\n",
       "  'max_depth': None,\n",
       "  'min_samples_split': 2,\n",
       "  'max_features': 'auto'},\n",
       " {'mse': 15778549.563118046,\n",
       "  'n_estimators': 10,\n",
       "  'max_depth': None,\n",
       "  'min_samples_split': 2,\n",
       "  'max_features': 'sqrt'},\n",
       " {'mse': 14364719.098476302,\n",
       "  'n_estimators': 10,\n",
       "  'max_depth': None,\n",
       "  'min_samples_split': 5,\n",
       "  'max_features': 'auto'},\n",
       " {'mse': 14769198.697926288,\n",
       "  'n_estimators': 10,\n",
       "  'max_depth': None,\n",
       "  'min_samples_split': 5,\n",
       "  'max_features': 'sqrt'},\n",
       " {'mse': 58364551.81535993,\n",
       "  'n_estimators': 10,\n",
       "  'max_depth': 5,\n",
       "  'min_samples_split': 2,\n",
       "  'max_features': 'auto'},\n",
       " {'mse': 63780151.495005034,\n",
       "  'n_estimators': 10,\n",
       "  'max_depth': 5,\n",
       "  'min_samples_split': 2,\n",
       "  'max_features': 'sqrt'},\n",
       " {'mse': 58364551.81535993,\n",
       "  'n_estimators': 10,\n",
       "  'max_depth': 5,\n",
       "  'min_samples_split': 5,\n",
       "  'max_features': 'auto'},\n",
       " {'mse': 63780151.495005034,\n",
       "  'n_estimators': 10,\n",
       "  'max_depth': 5,\n",
       "  'min_samples_split': 5,\n",
       "  'max_features': 'sqrt'},\n",
       " {'mse': 22141902.704831537,\n",
       "  'n_estimators': 10,\n",
       "  'max_depth': 10,\n",
       "  'min_samples_split': 2,\n",
       "  'max_features': 'auto'},\n",
       " {'mse': 28929313.76229424,\n",
       "  'n_estimators': 10,\n",
       "  'max_depth': 10,\n",
       "  'min_samples_split': 2,\n",
       "  'max_features': 'sqrt'},\n",
       " {'mse': 22138320.035000958,\n",
       "  'n_estimators': 10,\n",
       "  'max_depth': 10,\n",
       "  'min_samples_split': 5,\n",
       "  'max_features': 'auto'},\n",
       " {'mse': 28616886.297288734,\n",
       "  'n_estimators': 10,\n",
       "  'max_depth': 10,\n",
       "  'min_samples_split': 5,\n",
       "  'max_features': 'sqrt'}]"
      ]
     },
     "execution_count": 22,
     "metadata": {},
     "output_type": "execute_result"
    }
   ],
   "source": [
    "mse_cv"
   ]
  },
  {
   "cell_type": "markdown",
   "metadata": {},
   "source": [
    "Una vez realizado el proceso de validación cruzada, se identifica el modelo con el menor MSE:"
   ]
  },
  {
   "cell_type": "code",
   "execution_count": 23,
   "metadata": {},
   "outputs": [
    {
     "name": "stdout",
     "output_type": "stream",
     "text": [
      "14364719.098476302\n"
     ]
    }
   ],
   "source": [
    "print(min(d.get('mse') for d in mse_cv ))"
   ]
  },
  {
   "cell_type": "markdown",
   "metadata": {},
   "source": [
    "Seguido a esto se selecciona del listado los mejores parámetros obtenidos en el proceso de iteración teniendo como parámetro el MSE:"
   ]
  },
  {
   "cell_type": "code",
   "execution_count": 24,
   "metadata": {},
   "outputs": [
    {
     "data": {
      "text/plain": [
       "{'mse': 14364719.098476302,\n",
       " 'n_estimators': 10,\n",
       " 'max_depth': None,\n",
       " 'min_samples_split': 5,\n",
       " 'max_features': 'auto'}"
      ]
     },
     "execution_count": 24,
     "metadata": {},
     "output_type": "execute_result"
    }
   ],
   "source": [
    "res = next((sub for sub in mse_cv if sub['mse'] == 14364719.098476302), None)\n",
    "res"
   ]
  },
  {
   "cell_type": "markdown",
   "metadata": {},
   "source": [
    "Se estima el modelo con los mejores parametros identificados:"
   ]
  },
  {
   "cell_type": "code",
   "execution_count": 25,
   "metadata": {},
   "outputs": [
    {
     "name": "stdout",
     "output_type": "stream",
     "text": [
      "MSE = 14441438.857449053, R2 = 0.8752101605371903\n"
     ]
    }
   ],
   "source": [
    "from sklearn.ensemble import RandomForestRegressor\n",
    "\n",
    "rfregr = RandomForestRegressor(n_estimators=10,max_depth=None, min_samples_split= 5,max_features='auto')\n",
    "rfregr.fit(X_train, np.array(y_train).ravel())\n",
    "y_pred_1 = rfregr.predict(X_test)\n",
    "\n",
    "from sklearn.metrics import mean_squared_error, r2_score\n",
    "print(\"MSE = \"+str(mean_squared_error(y_test, y_pred_1))+\", R2 = \"+str(r2_score(y_test, y_pred_1)))"
   ]
  },
  {
   "cell_type": "markdown",
   "metadata": {},
   "source": [
    "## Conclusiones  \n",
    "\n",
    "1. El modelo de Random Forest calibrado con 10-fold cross validation tiene un mejor desempeño que el modelo sin calibrar, que usa los parámetros por defecto de la función de Scikit Learn, debido a que la validación cruzada estima muchos modelos y resulta en los parámetros que optimizan el MSE. Esto es así a pesar de que en este caso, debido al costo computacional, no se pudieron estimar una gran variedad de combinaciones de parámetros. \n",
    "\n",
    "2. El mejor modelo calibrado con 10-fold cross validation es aquel cuyos parámetros son: \n",
    "\n",
    "    {'n_estimators': 10,\n",
    "     'max_depth': None,\n",
    "     'min_samples_split': 5,\n",
    "     'max_features': 'auto'}\n",
    " \n",
    "   y que resulta en un MSE de 1451135, lo cual mejora el resultado con respecto al modelo no calibrado \n",
    "\n",
    "3. El análisis descriptivo encuentra relaciones negativas entre el millaje y el año del modelo y el precio del vehículo. Sin embargo, estas relaciones no parecen ser lineales. \n",
    "\n",
    "4. Vale la pena tener en cuenta que se tenían en este caso tres variables categóricas con muchos valores diferentes entre sí. En un principio, intentamos crear una dummy para cada opción, con lo cual el dataset final quedaba con más de 600 variables. Intentamos una reducción de dimensionalidad con análisis de componentes principales. Sin embargo, por facilidad de interpretación y de deployment, se decidió codificar las variables. \n",
    "\n"
   ]
  },
  {
   "cell_type": "markdown",
   "metadata": {},
   "source": [
    "# Exercise P2.2 (50%)\n",
    "\n",
    "Create an API of the model.\n",
    "\n",
    "\n",
    "\n",
    "#### Evaluation:\n",
    "- 40% - API hosted on a cloud service\n",
    "- 10% - Show screenshots of the model doing the predictions on the local machine\n"
   ]
  },
  {
   "cell_type": "markdown",
   "metadata": {},
   "source": [
    "## 1. Screenshots del modelo haciendo las predicciones en la máquina local"
   ]
  },
  {
   "cell_type": "markdown",
   "metadata": {},
   "source": [
    "En los siguientes Screenshots se muestra la interacción de la API. En particular, se estima el precio de una caminoneta usada Hyundai Santa de modelo 2009, con un millaje de 3939, en el estado de Maryland. De acuerdo con los datos, esta camioneta costaría cerca de 13.000 USD. "
   ]
  },
  {
   "cell_type": "markdown",
   "metadata": {},
   "source": [
    "<img src=\"https://github.com/PajarodeMadera/G5.-Modelos-Avanzados/blob/master/local1.jpeg?raw=true\">\n"
   ]
  },
  {
   "cell_type": "markdown",
   "metadata": {},
   "source": [
    "<img src=\"https://github.com/PajarodeMadera/G5.-Modelos-Avanzados/blob/master/local2.jpeg?raw=true\">"
   ]
  },
  {
   "cell_type": "markdown",
   "metadata": {},
   "source": [
    "<img src=\"https://github.com/PajarodeMadera/G5.-Modelos-Avanzados/blob/master/local3.jpeg?raw=true\">"
   ]
  },
  {
   "cell_type": "markdown",
   "metadata": {},
   "source": [
    "Este auto sería visualmente así: "
   ]
  },
  {
   "cell_type": "markdown",
   "metadata": {},
   "source": [
    "<img src=\"https://m.media-amazon.com/images/I/71D-mYF5KmL._UY560_.jpg\">"
   ]
  },
  {
   "cell_type": "markdown",
   "metadata": {},
   "source": [
    "El código utilizado para lo anterior fue lo siguiente:"
   ]
  },
  {
   "cell_type": "code",
   "execution_count": 38,
   "metadata": {},
   "outputs": [
    {
     "name": "stderr",
     "output_type": "stream",
     "text": [
      "C:\\ProgramData\\Anaconda3\\lib\\site-packages\\sklearn\\externals\\joblib\\__init__.py:15: FutureWarning: sklearn.externals.joblib is deprecated in 0.21 and will be removed in 0.23. Please import this functionality directly from joblib, which can be installed with: pip install joblib. If this warning is raised when loading pickled models, you may need to re-serialize those models with scikit-learn 0.21+.\n",
      "  warnings.warn(msg, category=FutureWarning)\n"
     ]
    }
   ],
   "source": [
    "from sklearn.externals import joblib"
   ]
  },
  {
   "cell_type": "code",
   "execution_count": 39,
   "metadata": {},
   "outputs": [
    {
     "data": {
      "text/plain": [
       "['model_deployment_car/car_regr.pkl']"
      ]
     },
     "execution_count": 39,
     "metadata": {},
     "output_type": "execute_result"
    }
   ],
   "source": [
    "joblib.dump(rfregr, 'model_deployment_car/car_regr.pkl', compress=3)"
   ]
  },
  {
   "cell_type": "code",
   "execution_count": 40,
   "metadata": {},
   "outputs": [
    {
     "data": {
      "text/plain": [
       "['model_deployment_car/le_s.pkl']"
      ]
     },
     "execution_count": 40,
     "metadata": {},
     "output_type": "execute_result"
    }
   ],
   "source": [
    "joblib.dump(le_s, 'model_deployment_car/le_s.pkl', compress=3)"
   ]
  },
  {
   "cell_type": "code",
   "execution_count": 41,
   "metadata": {},
   "outputs": [
    {
     "data": {
      "text/plain": [
       "['model_deployment_car/le_m.pkl']"
      ]
     },
     "execution_count": 41,
     "metadata": {},
     "output_type": "execute_result"
    }
   ],
   "source": [
    "joblib.dump(le_m, 'model_deployment_car/le_m.pkl', compress=3)"
   ]
  },
  {
   "cell_type": "code",
   "execution_count": 42,
   "metadata": {},
   "outputs": [
    {
     "data": {
      "text/plain": [
       "['model_deployment_car/le_k.pkl']"
      ]
     },
     "execution_count": 42,
     "metadata": {},
     "output_type": "execute_result"
    }
   ],
   "source": [
    "joblib.dump(le_k, 'model_deployment_car/le_k.pkl', compress=3)"
   ]
  },
  {
   "cell_type": "code",
   "execution_count": 43,
   "metadata": {},
   "outputs": [],
   "source": [
    "from model_deployment_car.m10 import valores"
   ]
  },
  {
   "cell_type": "code",
   "execution_count": 44,
   "metadata": {},
   "outputs": [
    {
     "data": {
      "text/plain": [
       "array([10221.26345238])"
      ]
     },
     "execution_count": 44,
     "metadata": {},
     "output_type": "execute_result"
    }
   ],
   "source": [
    "valores(2005,31909,'MD','Nissan','MuranoAWD')"
   ]
  },
  {
   "cell_type": "code",
   "execution_count": 45,
   "metadata": {},
   "outputs": [],
   "source": [
    "from flask import Flask\n",
    "from flask_restplus import Api, Resource, fields\n",
    "from sklearn.externals import joblib"
   ]
  },
  {
   "cell_type": "code",
   "execution_count": 46,
   "metadata": {},
   "outputs": [],
   "source": [
    "app = Flask(__name__)\n",
    "\n",
    "api = Api(\n",
    "    app, \n",
    "    version='1.0', \n",
    "    title='Modelo de estimación del precio de los autos API',\n",
    "    description='Prediction del Precio  API')\n",
    "\n",
    "ns = api.namespace('predict', \n",
    "     description='Prediccion del precio de los autos')\n",
    "   \n",
    "parser = api.parser()\n",
    "\n",
    "parser.add_argument(\n",
    "    'Year', \n",
    "    type=str, \n",
    "    required=True, \n",
    "    help='URL to be analyzed', \n",
    "    location='args')\n",
    "\n",
    "parser.add_argument(\n",
    "    'Mileage', \n",
    "    type=str, \n",
    "    required=True, \n",
    "    help='URL to be analyzed', \n",
    "    location='args')\n",
    "\n",
    "parser.add_argument(\n",
    "    'State', \n",
    "    type=str, \n",
    "    required=True, \n",
    "    help='URL to be analyzed', \n",
    "    location='args')\n",
    "\n",
    "parser.add_argument(\n",
    "    'Make', \n",
    "    type=str, \n",
    "    required=True, \n",
    "    help='URL to be analyzed', \n",
    "    location='args')\n",
    "\n",
    "parser.add_argument(\n",
    "    'Model', \n",
    "    type=str, \n",
    "    required=True, \n",
    "    help='URL to be analyzed', \n",
    "    location='args')\n",
    "\n",
    "\n",
    "resource_fields = api.model('Resource', {\n",
    "    'result': fields.String,\n",
    "})"
   ]
  },
  {
   "cell_type": "code",
   "execution_count": 47,
   "metadata": {},
   "outputs": [],
   "source": [
    "@ns.route('/')\n",
    "class PhishingApi(Resource):\n",
    "\n",
    "    @api.doc(parser=parser)\n",
    "    @api.marshal_with(resource_fields)\n",
    "    def get(self):\n",
    "        args = parser.parse_args()\n",
    "        \n",
    "       \n",
    "        return {\n",
    "         \"result\": valores(args['Year'], args['Mileage'], args['State'], args['Make'], args['Model'])}, 200"
   ]
  },
  {
   "cell_type": "code",
   "execution_count": 53,
   "metadata": {},
   "outputs": [
    {
     "name": "stdout",
     "output_type": "stream",
     "text": [
      " * Serving Flask app \"__main__\" (lazy loading)\n",
      " * Environment: production\n",
      "   WARNING: This is a development server. Do not use it in a production deployment.\n",
      "   Use a production WSGI server instead.\n",
      " * Debug mode: on\n"
     ]
    },
    {
     "name": "stderr",
     "output_type": "stream",
     "text": [
      " * Running on http://0.0.0.0:5000/ (Press CTRL+C to quit)\n",
      "127.0.0.1 - - [29/Jun/2020 21:24:16] \"\u001b[37mGET / HTTP/1.1\u001b[0m\" 200 -\n",
      "127.0.0.1 - - [29/Jun/2020 21:24:17] \"\u001b[37mGET /swagger.json HTTP/1.1\u001b[0m\" 200 -\n"
     ]
    }
   ],
   "source": [
    "app.run(debug=True, use_reloader=False, host='0.0.0.0', port=5000)"
   ]
  }
 ],
 "metadata": {
  "kernelspec": {
   "display_name": "Python 3",
   "language": "python",
   "name": "python3"
  },
  "language_info": {
   "codemirror_mode": {
    "name": "ipython",
    "version": 3
   },
   "file_extension": ".py",
   "mimetype": "text/x-python",
   "name": "python",
   "nbconvert_exporter": "python",
   "pygments_lexer": "ipython3",
   "version": "3.7.3"
  }
 },
 "nbformat": 4,
 "nbformat_minor": 4
}
