{
 "cells": [
  {
   "cell_type": "markdown",
   "metadata": {},
   "source": [
    "<img src=\"https://catalogo.uniandes.edu.co/-/media/Institution/Universidad-de-los-Andes/ingenieria/maestria-int-toma.ashx?la=es-ES\">\n"
   ]
  },
  {
   "cell_type": "markdown",
   "metadata": {},
   "source": [
    "# Universidad de los Andes - Modelos Avanzados para el Análisis de Datos\n",
    "\n",
    "# Exercise 7 - Grupo 5\n",
    "\n",
    "by [Daniela Carolina Sanabria, Jonny Eduardo Coronel, Oscar Mauricio Cepeda, Nestor Fabian Cholo]\n"
   ]
  },
  {
   "cell_type": "markdown",
   "metadata": {},
   "source": [
    "## Part 1 - DT\n",
    "\n",
    "### Capital Bikeshare data"
   ]
  },
  {
   "cell_type": "markdown",
   "metadata": {},
   "source": [
    "## Introduction\n",
    "\n",
    "- Capital Bikeshare dataset from Kaggle: [data](https://github.com/justmarkham/DAT8/blob/master/data/bikeshare.csv), [data dictionary](https://www.kaggle.com/c/bike-sharing-demand/data)\n",
    "- Each observation represents the bikeshare rentals initiated during a given hour of a given day"
   ]
  },
  {
   "cell_type": "code",
   "execution_count": 1,
   "metadata": {},
   "outputs": [],
   "source": [
    "%matplotlib inline\n",
    "import pandas as pd\n",
    "import numpy as np\n",
    "from sklearn.model_selection import cross_val_score\n",
    "from sklearn.linear_model import LinearRegression\n",
    "from sklearn.tree import DecisionTreeRegressor, export_graphviz\n",
    "import matplotlib.pyplot as plt"
   ]
  },
  {
   "cell_type": "code",
   "execution_count": 2,
   "metadata": {},
   "outputs": [],
   "source": [
    "# read the data and set \"datetime\" as the index\n",
    "bikes = pd.read_csv('../datasets/bikeshare.csv', index_col='datetime', parse_dates=True)"
   ]
  },
  {
   "cell_type": "code",
   "execution_count": 3,
   "metadata": {},
   "outputs": [],
   "source": [
    "# \"count\" is a method, so it's best to rename that column\n",
    "bikes.rename(columns={'count':'total'}, inplace=True)"
   ]
  },
  {
   "cell_type": "code",
   "execution_count": 4,
   "metadata": {},
   "outputs": [],
   "source": [
    "# create \"hour\" as its own feature\n",
    "bikes['hour'] = bikes.index.hour"
   ]
  },
  {
   "cell_type": "code",
   "execution_count": 5,
   "metadata": {},
   "outputs": [
    {
     "data": {
      "text/html": [
       "<div>\n",
       "<style scoped>\n",
       "    .dataframe tbody tr th:only-of-type {\n",
       "        vertical-align: middle;\n",
       "    }\n",
       "\n",
       "    .dataframe tbody tr th {\n",
       "        vertical-align: top;\n",
       "    }\n",
       "\n",
       "    .dataframe thead th {\n",
       "        text-align: right;\n",
       "    }\n",
       "</style>\n",
       "<table border=\"1\" class=\"dataframe\">\n",
       "  <thead>\n",
       "    <tr style=\"text-align: right;\">\n",
       "      <th></th>\n",
       "      <th>season</th>\n",
       "      <th>holiday</th>\n",
       "      <th>workingday</th>\n",
       "      <th>weather</th>\n",
       "      <th>temp</th>\n",
       "      <th>atemp</th>\n",
       "      <th>humidity</th>\n",
       "      <th>windspeed</th>\n",
       "      <th>casual</th>\n",
       "      <th>registered</th>\n",
       "      <th>total</th>\n",
       "      <th>hour</th>\n",
       "    </tr>\n",
       "    <tr>\n",
       "      <th>datetime</th>\n",
       "      <th></th>\n",
       "      <th></th>\n",
       "      <th></th>\n",
       "      <th></th>\n",
       "      <th></th>\n",
       "      <th></th>\n",
       "      <th></th>\n",
       "      <th></th>\n",
       "      <th></th>\n",
       "      <th></th>\n",
       "      <th></th>\n",
       "      <th></th>\n",
       "    </tr>\n",
       "  </thead>\n",
       "  <tbody>\n",
       "    <tr>\n",
       "      <th>2011-01-01 00:00:00</th>\n",
       "      <td>1</td>\n",
       "      <td>0</td>\n",
       "      <td>0</td>\n",
       "      <td>1</td>\n",
       "      <td>9.84</td>\n",
       "      <td>14.395</td>\n",
       "      <td>81</td>\n",
       "      <td>0.0</td>\n",
       "      <td>3</td>\n",
       "      <td>13</td>\n",
       "      <td>16</td>\n",
       "      <td>0</td>\n",
       "    </tr>\n",
       "    <tr>\n",
       "      <th>2011-01-01 01:00:00</th>\n",
       "      <td>1</td>\n",
       "      <td>0</td>\n",
       "      <td>0</td>\n",
       "      <td>1</td>\n",
       "      <td>9.02</td>\n",
       "      <td>13.635</td>\n",
       "      <td>80</td>\n",
       "      <td>0.0</td>\n",
       "      <td>8</td>\n",
       "      <td>32</td>\n",
       "      <td>40</td>\n",
       "      <td>1</td>\n",
       "    </tr>\n",
       "    <tr>\n",
       "      <th>2011-01-01 02:00:00</th>\n",
       "      <td>1</td>\n",
       "      <td>0</td>\n",
       "      <td>0</td>\n",
       "      <td>1</td>\n",
       "      <td>9.02</td>\n",
       "      <td>13.635</td>\n",
       "      <td>80</td>\n",
       "      <td>0.0</td>\n",
       "      <td>5</td>\n",
       "      <td>27</td>\n",
       "      <td>32</td>\n",
       "      <td>2</td>\n",
       "    </tr>\n",
       "    <tr>\n",
       "      <th>2011-01-01 03:00:00</th>\n",
       "      <td>1</td>\n",
       "      <td>0</td>\n",
       "      <td>0</td>\n",
       "      <td>1</td>\n",
       "      <td>9.84</td>\n",
       "      <td>14.395</td>\n",
       "      <td>75</td>\n",
       "      <td>0.0</td>\n",
       "      <td>3</td>\n",
       "      <td>10</td>\n",
       "      <td>13</td>\n",
       "      <td>3</td>\n",
       "    </tr>\n",
       "    <tr>\n",
       "      <th>2011-01-01 04:00:00</th>\n",
       "      <td>1</td>\n",
       "      <td>0</td>\n",
       "      <td>0</td>\n",
       "      <td>1</td>\n",
       "      <td>9.84</td>\n",
       "      <td>14.395</td>\n",
       "      <td>75</td>\n",
       "      <td>0.0</td>\n",
       "      <td>0</td>\n",
       "      <td>1</td>\n",
       "      <td>1</td>\n",
       "      <td>4</td>\n",
       "    </tr>\n",
       "  </tbody>\n",
       "</table>\n",
       "</div>"
      ],
      "text/plain": [
       "                     season  holiday  workingday  weather  temp   atemp  \\\n",
       "datetime                                                                  \n",
       "2011-01-01 00:00:00       1        0           0        1  9.84  14.395   \n",
       "2011-01-01 01:00:00       1        0           0        1  9.02  13.635   \n",
       "2011-01-01 02:00:00       1        0           0        1  9.02  13.635   \n",
       "2011-01-01 03:00:00       1        0           0        1  9.84  14.395   \n",
       "2011-01-01 04:00:00       1        0           0        1  9.84  14.395   \n",
       "\n",
       "                     humidity  windspeed  casual  registered  total  hour  \n",
       "datetime                                                                   \n",
       "2011-01-01 00:00:00        81        0.0       3          13     16     0  \n",
       "2011-01-01 01:00:00        80        0.0       8          32     40     1  \n",
       "2011-01-01 02:00:00        80        0.0       5          27     32     2  \n",
       "2011-01-01 03:00:00        75        0.0       3          10     13     3  \n",
       "2011-01-01 04:00:00        75        0.0       0           1      1     4  "
      ]
     },
     "execution_count": 5,
     "metadata": {},
     "output_type": "execute_result"
    }
   ],
   "source": [
    "bikes.head()"
   ]
  },
  {
   "cell_type": "code",
   "execution_count": 6,
   "metadata": {},
   "outputs": [
    {
     "data": {
      "text/html": [
       "<div>\n",
       "<style scoped>\n",
       "    .dataframe tbody tr th:only-of-type {\n",
       "        vertical-align: middle;\n",
       "    }\n",
       "\n",
       "    .dataframe tbody tr th {\n",
       "        vertical-align: top;\n",
       "    }\n",
       "\n",
       "    .dataframe thead th {\n",
       "        text-align: right;\n",
       "    }\n",
       "</style>\n",
       "<table border=\"1\" class=\"dataframe\">\n",
       "  <thead>\n",
       "    <tr style=\"text-align: right;\">\n",
       "      <th></th>\n",
       "      <th>season</th>\n",
       "      <th>holiday</th>\n",
       "      <th>workingday</th>\n",
       "      <th>weather</th>\n",
       "      <th>temp</th>\n",
       "      <th>atemp</th>\n",
       "      <th>humidity</th>\n",
       "      <th>windspeed</th>\n",
       "      <th>casual</th>\n",
       "      <th>registered</th>\n",
       "      <th>total</th>\n",
       "      <th>hour</th>\n",
       "    </tr>\n",
       "    <tr>\n",
       "      <th>datetime</th>\n",
       "      <th></th>\n",
       "      <th></th>\n",
       "      <th></th>\n",
       "      <th></th>\n",
       "      <th></th>\n",
       "      <th></th>\n",
       "      <th></th>\n",
       "      <th></th>\n",
       "      <th></th>\n",
       "      <th></th>\n",
       "      <th></th>\n",
       "      <th></th>\n",
       "    </tr>\n",
       "  </thead>\n",
       "  <tbody>\n",
       "    <tr>\n",
       "      <th>2012-12-19 19:00:00</th>\n",
       "      <td>4</td>\n",
       "      <td>0</td>\n",
       "      <td>1</td>\n",
       "      <td>1</td>\n",
       "      <td>15.58</td>\n",
       "      <td>19.695</td>\n",
       "      <td>50</td>\n",
       "      <td>26.0027</td>\n",
       "      <td>7</td>\n",
       "      <td>329</td>\n",
       "      <td>336</td>\n",
       "      <td>19</td>\n",
       "    </tr>\n",
       "    <tr>\n",
       "      <th>2012-12-19 20:00:00</th>\n",
       "      <td>4</td>\n",
       "      <td>0</td>\n",
       "      <td>1</td>\n",
       "      <td>1</td>\n",
       "      <td>14.76</td>\n",
       "      <td>17.425</td>\n",
       "      <td>57</td>\n",
       "      <td>15.0013</td>\n",
       "      <td>10</td>\n",
       "      <td>231</td>\n",
       "      <td>241</td>\n",
       "      <td>20</td>\n",
       "    </tr>\n",
       "    <tr>\n",
       "      <th>2012-12-19 21:00:00</th>\n",
       "      <td>4</td>\n",
       "      <td>0</td>\n",
       "      <td>1</td>\n",
       "      <td>1</td>\n",
       "      <td>13.94</td>\n",
       "      <td>15.910</td>\n",
       "      <td>61</td>\n",
       "      <td>15.0013</td>\n",
       "      <td>4</td>\n",
       "      <td>164</td>\n",
       "      <td>168</td>\n",
       "      <td>21</td>\n",
       "    </tr>\n",
       "    <tr>\n",
       "      <th>2012-12-19 22:00:00</th>\n",
       "      <td>4</td>\n",
       "      <td>0</td>\n",
       "      <td>1</td>\n",
       "      <td>1</td>\n",
       "      <td>13.94</td>\n",
       "      <td>17.425</td>\n",
       "      <td>61</td>\n",
       "      <td>6.0032</td>\n",
       "      <td>12</td>\n",
       "      <td>117</td>\n",
       "      <td>129</td>\n",
       "      <td>22</td>\n",
       "    </tr>\n",
       "    <tr>\n",
       "      <th>2012-12-19 23:00:00</th>\n",
       "      <td>4</td>\n",
       "      <td>0</td>\n",
       "      <td>1</td>\n",
       "      <td>1</td>\n",
       "      <td>13.12</td>\n",
       "      <td>16.665</td>\n",
       "      <td>66</td>\n",
       "      <td>8.9981</td>\n",
       "      <td>4</td>\n",
       "      <td>84</td>\n",
       "      <td>88</td>\n",
       "      <td>23</td>\n",
       "    </tr>\n",
       "  </tbody>\n",
       "</table>\n",
       "</div>"
      ],
      "text/plain": [
       "                     season  holiday  workingday  weather   temp   atemp  \\\n",
       "datetime                                                                   \n",
       "2012-12-19 19:00:00       4        0           1        1  15.58  19.695   \n",
       "2012-12-19 20:00:00       4        0           1        1  14.76  17.425   \n",
       "2012-12-19 21:00:00       4        0           1        1  13.94  15.910   \n",
       "2012-12-19 22:00:00       4        0           1        1  13.94  17.425   \n",
       "2012-12-19 23:00:00       4        0           1        1  13.12  16.665   \n",
       "\n",
       "                     humidity  windspeed  casual  registered  total  hour  \n",
       "datetime                                                                   \n",
       "2012-12-19 19:00:00        50    26.0027       7         329    336    19  \n",
       "2012-12-19 20:00:00        57    15.0013      10         231    241    20  \n",
       "2012-12-19 21:00:00        61    15.0013       4         164    168    21  \n",
       "2012-12-19 22:00:00        61     6.0032      12         117    129    22  \n",
       "2012-12-19 23:00:00        66     8.9981       4          84     88    23  "
      ]
     },
     "execution_count": 6,
     "metadata": {},
     "output_type": "execute_result"
    }
   ],
   "source": [
    "bikes.tail()"
   ]
  },
  {
   "cell_type": "code",
   "execution_count": 7,
   "metadata": {},
   "outputs": [
    {
     "data": {
      "text/plain": [
       "(10886, 12)"
      ]
     },
     "execution_count": 7,
     "metadata": {},
     "output_type": "execute_result"
    }
   ],
   "source": [
    "bikes.shape"
   ]
  },
  {
   "cell_type": "markdown",
   "metadata": {},
   "source": [
    "- **hour** ranges from 0 (midnight) through 23 (11pm)\n",
    "- **workingday** is either 0 (weekend or holiday) or 1 (non-holiday weekday)"
   ]
  },
  {
   "cell_type": "markdown",
   "metadata": {},
   "source": [
    "# Exercise 7.1\n",
    "\n",
    "Run these two `groupby` statements and figure out what they tell you about the data."
   ]
  },
  {
   "cell_type": "markdown",
   "metadata": {},
   "source": [
    "La siguiente tabla muestra la media por hora de los alquileres de bicicletas para los días laborales (cuando Workingday toma el valor 1) y para los festivos o fines de semana (cuando Workingday es 0). En este caso, se evidencia que el número de bicicletas alquiladas promedio por hora es mayor en días laborales que en días festivos o fines de semana."
   ]
  },
  {
   "cell_type": "code",
   "execution_count": 8,
   "metadata": {},
   "outputs": [
    {
     "data": {
      "text/plain": [
       "workingday\n",
       "0    188.506621\n",
       "1    193.011873\n",
       "Name: total, dtype: float64"
      ]
     },
     "execution_count": 8,
     "metadata": {},
     "output_type": "execute_result"
    }
   ],
   "source": [
    "# mean rentals for each value of \"workingday\"\n",
    "\n",
    "bikes.groupby('workingday').total.mean()"
   ]
  },
  {
   "cell_type": "markdown",
   "metadata": {},
   "source": [
    "A su vez, la siguiente tabla discrimina la media de los alquileres por hora determinada del día. En este caso, se evidencia que entre 8 de la mañana y 7 de la noche hay un volumen mayor promedio de alquileres que a otras horas del día. En particular, la media alcanza su pico a las 5 y a las 6 de la tarde. "
   ]
  },
  {
   "cell_type": "code",
   "execution_count": 9,
   "metadata": {},
   "outputs": [
    {
     "data": {
      "text/plain": [
       "hour\n",
       "0      55.138462\n",
       "1      33.859031\n",
       "2      22.899554\n",
       "3      11.757506\n",
       "4       6.407240\n",
       "5      19.767699\n",
       "6      76.259341\n",
       "7     213.116484\n",
       "8     362.769231\n",
       "9     221.780220\n",
       "10    175.092308\n",
       "11    210.674725\n",
       "12    256.508772\n",
       "13    257.787281\n",
       "14    243.442982\n",
       "15    254.298246\n",
       "16    316.372807\n",
       "17    468.765351\n",
       "18    430.859649\n",
       "19    315.278509\n",
       "20    228.517544\n",
       "21    173.370614\n",
       "22    133.576754\n",
       "23     89.508772\n",
       "Name: total, dtype: float64"
      ]
     },
     "execution_count": 9,
     "metadata": {},
     "output_type": "execute_result"
    }
   ],
   "source": [
    "# mean rentals for each value of \"hour\"\n",
    "\n",
    "bikes.groupby('hour').total.mean()"
   ]
  },
  {
   "cell_type": "markdown",
   "metadata": {},
   "source": [
    "# Exercise 7.2\n",
    "\n",
    "Run this plotting code, and make sure you understand the output. Then, separate this plot into two separate plots conditioned on \"workingday\". (In other words, one plot should display the hourly trend for \"workingday=0\", and the other should display the hourly trend for \"workingday=1\".)"
   ]
  },
  {
   "cell_type": "markdown",
   "metadata": {},
   "source": [
    "En línea con lo que mostraron los datos anteriores, la gráfica de abajo muestra un nivel promedio por hora de alquileres mayor durante el día, con picos de alquileres en las horas en las que usualmente empieza o termina el horario laboral de oficina (8:00 AM, 5:00 PM, y 6:00 PM)."
   ]
  },
  {
   "cell_type": "code",
   "execution_count": 10,
   "metadata": {},
   "outputs": [
    {
     "data": {
      "text/plain": [
       "<matplotlib.axes._subplots.AxesSubplot at 0x2482c79df98>"
      ]
     },
     "execution_count": 10,
     "metadata": {},
     "output_type": "execute_result"
    },
    {
     "data": {
      "image/png": "[encoded data removed]",
      "text/plain": [
       "<Figure size 432x288 with 1 Axes>"
      ]
     },
     "metadata": {
      "needs_background": "light"
     },
     "output_type": "display_data"
    }
   ],
   "source": [
    "bikes.groupby('hour').total.mean().plot()"
   ]
  },
  {
   "cell_type": "markdown",
   "metadata": {},
   "source": [
    "Plot for workingday == 0 and workingday == 1"
   ]
  },
  {
   "cell_type": "code",
   "execution_count": 11,
   "metadata": {},
   "outputs": [
    {
     "data": {
      "text/plain": [
       "<matplotlib.legend.Legend at 0x2482c8d7c88>"
      ]
     },
     "execution_count": 11,
     "metadata": {},
     "output_type": "execute_result"
    },
    {
     "data": {
      "image/png": "[encoded data removed]",
      "text/plain": [
       "<Figure size 432x288 with 1 Axes>"
      ]
     },
     "metadata": {
      "needs_background": "light"
     },
     "output_type": "display_data"
    }
   ],
   "source": [
    "# combine the two plots\n",
    "bikes.groupby(['hour', 'workingday']).total.mean().unstack().plot()\n",
    "plt.legend()"
   ]
  },
  {
   "cell_type": "markdown",
   "metadata": {},
   "source": [
    "Una discriminación de los datos según día laboral y fin de semana o festivo evidencia que la tendencia general refleja más el comportamiento de los días laborales. En días festivos y fines de semana, naturalmente, no hay picos en los horarios de entrada o salida en las oficinas, sino que los alquileres se comportan como una parábola que toma sus mayores valores entre 11 de la mañana y 5 de la tarde."
   ]
  },
  {
   "cell_type": "markdown",
   "metadata": {},
   "source": [
    "# Exercise 7.3\n",
    "\n",
    "Fit a linear regression model to the entire dataset, using \"total\" as the response and \"hour\" and \"workingday\" as the only features. Then, print the coefficients and interpret them. What are the limitations of linear regression in this instance?"
   ]
  },
  {
   "cell_type": "code",
   "execution_count": 12,
   "metadata": {},
   "outputs": [],
   "source": [
    "from sklearn.linear_model import LinearRegression\n",
    "\n",
    "X=bikes[['hour', 'workingday']]\n",
    "y=bikes['total']\n",
    "\n",
    "reg = LinearRegression().fit(X, y)"
   ]
  },
  {
   "cell_type": "code",
   "execution_count": 13,
   "metadata": {},
   "outputs": [
    {
     "name": "stdout",
     "output_type": "stream",
     "text": [
      "Término independiente: \n",
      " 67.70595026191576\n"
     ]
    }
   ],
   "source": [
    "print('Término independiente: \\n', reg.intercept_)"
   ]
  },
  {
   "cell_type": "code",
   "execution_count": 14,
   "metadata": {},
   "outputs": [
    {
     "name": "stdout",
     "output_type": "stream",
     "text": [
      "Coeficientes: \n",
      " [10.49206282  4.07248627]\n"
     ]
    }
   ],
   "source": [
    "print('Coeficientes: \\n', reg.coef_)"
   ]
  },
  {
   "cell_type": "markdown",
   "metadata": {},
   "source": [
    "Los coeficientes de la regresión evidencian que manteniendo todo lo demás constante, cada hora del día más tarde en el día se relaciona en promedio con un aumento de 10.49 unidades en los alquileres por hora. En esta misma línea, el hecho de que el día de la medición sea un día de trabajo representa un aumento de 4.072 unidades en promedio en los alquileres por hora con respecto a los fines de semana y festivos. \n",
    "\n",
    "Sin embargo, la regresión lineal no es en este caso la mejor manera de predecir los alquileres, puesto que los alquileres no se comportan de manera líneal con respecto a las variables independientes consideradas (hour y working day), lo cual se puede constatar en el análisis gráfico anterior. Es por esto que el coeficiente de determinación R^2, resulta en un nivel muy bajo.\n",
    "\n",
    "Los resultados completos de la regresión lineal se encuentran abajo."
   ]
  },
  {
   "cell_type": "code",
   "execution_count": 15,
   "metadata": {},
   "outputs": [
    {
     "name": "stdout",
     "output_type": "stream",
     "text": [
      "R^2: \n",
      " 0.16059115011434866\n"
     ]
    }
   ],
   "source": [
    "print('R^2: \\n', reg.score(X, y))"
   ]
  },
  {
   "cell_type": "code",
   "execution_count": 16,
   "metadata": {},
   "outputs": [
    {
     "name": "stderr",
     "output_type": "stream",
     "text": [
      "C:\\ProgramData\\Anaconda3\\lib\\site-packages\\statsmodels\\compat\\pandas.py:23: FutureWarning: The Panel class is removed from pandas. Accessing it from the top-level namespace will also be removed in the next version\n",
      "  data_klasses = (pandas.Series, pandas.DataFrame, pandas.Panel)\n"
     ]
    },
    {
     "name": "stdout",
     "output_type": "stream",
     "text": [
      "                            OLS Regression Results                            \n",
      "==============================================================================\n",
      "Dep. Variable:                  total   R-squared:                       0.161\n",
      "Model:                            OLS   Adj. R-squared:                  0.160\n",
      "Method:                 Least Squares   F-statistic:                     1041.\n",
      "Date:                Sun, 28 Jun 2020   Prob (F-statistic):               0.00\n",
      "Time:                        15:18:12   Log-Likelihood:                -71093.\n",
      "No. Observations:               10886   AIC:                         1.422e+05\n",
      "Df Residuals:                   10883   BIC:                         1.422e+05\n",
      "Df Model:                           2                                         \n",
      "Covariance Type:            nonrobust                                         \n",
      "==============================================================================\n",
      "                 coef    std err          t      P>|t|      [0.025      0.975]\n",
      "------------------------------------------------------------------------------\n",
      "const         67.7060      3.866     17.514      0.000      60.128      75.284\n",
      "hour          10.4921      0.230     45.611      0.000      10.041      10.943\n",
      "workingday     4.0725      3.413      1.193      0.233      -2.617      10.762\n",
      "==============================================================================\n",
      "Omnibus:                     2283.124   Durbin-Watson:                   0.442\n",
      "Prob(Omnibus):                  0.000   Jarque-Bera (JB):             4452.559\n",
      "Skew:                           1.274   Prob(JB):                         0.00\n",
      "Kurtosis:                       4.822   Cond. No.                         39.2\n",
      "==============================================================================\n",
      "\n",
      "Warnings:\n",
      "[1] Standard Errors assume that the covariance matrix of the errors is correctly specified.\n"
     ]
    },
    {
     "name": "stderr",
     "output_type": "stream",
     "text": [
      "C:\\ProgramData\\Anaconda3\\lib\\site-packages\\numpy\\core\\fromnumeric.py:2542: FutureWarning: Method .ptp is deprecated and will be removed in a future version. Use numpy.ptp instead.\n",
      "  return ptp(axis=axis, out=out, **kwargs)\n"
     ]
    }
   ],
   "source": [
    "import statsmodels.api as sm\n",
    "\n",
    "X2 = sm.add_constant(X)\n",
    "est = sm.OLS(y, X2)\n",
    "est2 = est.fit()\n",
    "print(est2.summary())"
   ]
  },
  {
   "cell_type": "markdown",
   "metadata": {},
   "source": [
    "El MSE que se obtiene con todos los datos es el siguiente:"
   ]
  },
  {
   "cell_type": "code",
   "execution_count": 17,
   "metadata": {},
   "outputs": [
    {
     "data": {
      "text/plain": [
       "27541.255252498395"
      ]
     },
     "execution_count": 17,
     "metadata": {},
     "output_type": "execute_result"
    }
   ],
   "source": [
    "import sklearn.metrics\n",
    "from sklearn.metrics import mean_squared_error\n",
    "\n",
    "sklearn.metrics.mean_squared_error(y, reg.predict(X))"
   ]
  },
  {
   "cell_type": "markdown",
   "metadata": {},
   "source": [
    "# Exercice 7.4\n",
    "\n",
    "Create a Decision Tree to forecast \"total\" by manually iterating over the features \"hour\" and \"workingday\". The algorithm must at least have 6 end nodes."
   ]
  },
  {
   "cell_type": "markdown",
   "metadata": {},
   "source": [
    "Para predecir con un árbol de decisión, en primer lugar, separaremos nuestra muestra en entrenamiento y prueba."
   ]
  },
  {
   "cell_type": "code",
   "execution_count": 18,
   "metadata": {},
   "outputs": [],
   "source": [
    "from sklearn.model_selection import train_test_split\n",
    "\n",
    "X=bikes[['hour', 'workingday']]\n",
    "y=bikes['total']\n",
    "\n",
    "X_train, X_test, y_train, y_test = train_test_split(X, y, test_size=0.30, random_state=42)"
   ]
  },
  {
   "cell_type": "markdown",
   "metadata": {},
   "source": [
    "Como en este caso se trata de un problema de regresión, se creará una función que calcule la suma de los residuos al cuadrado, donde el valor de la preducción es la media de la variable. "
   ]
  },
  {
   "cell_type": "code",
   "execution_count": 19,
   "metadata": {},
   "outputs": [],
   "source": [
    "#Función para calcular la suma de residuos al cuadrado de la predicción\n",
    "\n",
    "def ssr_(y):\n",
    "    if y.shape[0] == 0:\n",
    "        return 0\n",
    "    else:\n",
    "        return np.sum((y.mean()-y)**2)"
   ]
  },
  {
   "cell_type": "markdown",
   "metadata": {},
   "source": [
    "En segundo lugar, se establecerá una función que recibiendo una variable característica, una variable depediente y un punto de separación para la primera, calcule la suma de los residuos al cuadrado definida para cada una de las particiones y las sume."
   ]
  },
  {
   "cell_type": "code",
   "execution_count": 20,
   "metadata": {},
   "outputs": [],
   "source": [
    "#Función para calcular los errores de una separación k para una determinada columna\n",
    "\n",
    "def split_ssr(X_col, y, split):\n",
    "    \"Calculate the squared sum of residuals of an split k on feature j\"\n",
    "    \n",
    "    filter_l = X_col < split\n",
    "    y_l = y.loc[filter_l]\n",
    "    y_r = y.loc[~filter_l]\n",
    "    \n",
    "    mean_y_l=y_l.mean()\n",
    "    mean_y_r=y_r.mean()\n",
    "     \n",
    "    n_l = y_l.shape[0]\n",
    "    n_r = y_r.shape[0]\n",
    "    \n",
    "    ssr_y = ssr_(y)\n",
    "    ssr_l = ssr_(y_l)\n",
    "    ssr_r = ssr_(y_r)\n",
    "    \n",
    "    ssr_total=ssr_l+ssr_r\n",
    "    \n",
    "    return ssr_total"
   ]
  },
  {
   "cell_type": "markdown",
   "metadata": {},
   "source": [
    "En tercer lugar, se calculará otra función que itere la anterior a través de varios puntos de separación (splits) de todas las columnas que tengan los datos y elija la separación con la menor suma de los residuos al cuadrado"
   ]
  },
  {
   "cell_type": "code",
   "execution_count": 21,
   "metadata": {},
   "outputs": [],
   "source": [
    "def best_split(X, y, num_pct=10, min_samples_split=2):\n",
    "    \n",
    "    features = range(X.shape[1])\n",
    "    \n",
    "    best_split = [0, 0, ssr_(y)]  # j, split, ssr\n",
    "    \n",
    "    # For all features\n",
    "    for j in features:\n",
    "        splits = np.percentile(X.iloc[:, j], np.arange(0, 100, 100.0 / (num_pct+1)).tolist())\n",
    "        splits = np.unique(splits)[1:]\n",
    "\n",
    "        # For all splits\n",
    "        for split in splits:\n",
    "            ssr = split_ssr(X.iloc[:, j], y, split)\n",
    "            if ssr < best_split[2]:\n",
    "                best_split = [j, split, ssr]\n",
    "    return best_split"
   ]
  },
  {
   "cell_type": "markdown",
   "metadata": {},
   "source": [
    "Por ejemplo, para nuestros datos completos, la mejor primer separación sería por la variable 0 (Hour), y el valor 8, con una suma de residuos al cuadrado en ambas separaciones de 257735770.92."
   ]
  },
  {
   "cell_type": "code",
   "execution_count": 22,
   "metadata": {},
   "outputs": [
    {
     "data": {
      "text/plain": [
       "(0, 8.0, 257735770.92005637)"
      ]
     },
     "execution_count": 22,
     "metadata": {},
     "output_type": "execute_result"
    }
   ],
   "source": [
    "j, split, ssr = best_split(X, y, 5)\n",
    "j, split, ssr"
   ]
  },
  {
   "cell_type": "markdown",
   "metadata": {},
   "source": [
    "La siguiente función calculará un árbol de decisión usando las funciones anteriores. Se le añade el parámetro min_samples_split, que señala el número mínimo de observaciones necesarias para que de un nodo se pueda hacer una separación adicional. A su vez, se ajusta para que pare de hacer separaciones cuando dejen de haber mejoras en la suma de residuos al cuadrado. "
   ]
  },
  {
   "cell_type": "code",
   "execution_count": 23,
   "metadata": {},
   "outputs": [],
   "source": [
    "def tree_grow(X, y, level=0, max_depth=None, num_pct=10, min_samples_split=10):\n",
    "    \n",
    "    # If less than min_samples_split obs\n",
    "    if y.shape[0] <= min_samples_split:\n",
    "        tree = dict(y_pred=y.mean, level=level, split=-1, n_samples=y.shape[0], ssr=ssr_(y))\n",
    "        return tree\n",
    "    \n",
    "    # Calculate the best split\n",
    "    j, split, ssr = best_split(X, y, num_pct)\n",
    "\n",
    "    # save tree and estimate prediction\n",
    "    y_pred = y.mean()\n",
    "    tree = dict(y_pred=y_pred, level=level, split=-1, n_samples=X.shape[0], ssr=ssr)\n",
    "\n",
    "    # Check stooping criteria\n",
    "    if ssr >= ssr_(y):\n",
    "        return tree\n",
    "    if max_depth is not None:\n",
    "        if level >= max_depth:\n",
    "            return tree   \n",
    "\n",
    "    # No stooping criteria was meet, then continue to create the partition\n",
    "    filter_l = X.iloc[:, j] < split\n",
    "    X_l, y_l = X.loc[filter_l], y.loc[filter_l]\n",
    "    X_r, y_r = X.loc[~filter_l], y.loc[~filter_l]\n",
    "    tree['split'] = [j, split]\n",
    "\n",
    "    # Next iteration to each split\n",
    "    tree['sl'] = tree_grow(X_l, y_l, level + 1, max_depth=max_depth, num_pct=num_pct, min_samples_split=min_samples_split)\n",
    "    tree['sr'] = tree_grow(X_r, y_r, level + 1, max_depth=max_depth, num_pct=num_pct, min_samples_split=min_samples_split)\n",
    "\n",
    "    return tree\n"
   ]
  },
  {
   "cell_type": "markdown",
   "metadata": {},
   "source": [
    "El árbol de regresión obtenido es el siguiente. Se evidencia que sin restringir el número de niveles del árbol se alcanzan 7. "
   ]
  },
  {
   "cell_type": "code",
   "execution_count": 24,
   "metadata": {},
   "outputs": [
    {
     "data": {
      "text/plain": [
       "{'y_pred': 191.37034120734907,\n",
       " 'level': 0,\n",
       " 'split': [0, 8.0],\n",
       " 'n_samples': 7620,\n",
       " 'ssr': 179207307.09609002,\n",
       " 'sl': {'y_pred': 54.60392156862745,\n",
       "  'level': 1,\n",
       "  'split': [0, 7.0],\n",
       "  'n_samples': 2550,\n",
       "  'ssr': 10746665.107822917,\n",
       "  'sl': {'y_pred': 32.54423592493298,\n",
       "   'level': 2,\n",
       "   'split': [0, 6.0],\n",
       "   'n_samples': 2238,\n",
       "   'ssr': 2645106.1664526854,\n",
       "   'sl': {'y_pred': 24.950469238790408,\n",
       "    'level': 3,\n",
       "    'split': [0, 1.0],\n",
       "    'n_samples': 1918,\n",
       "    'ssr': 1349989.3596011202,\n",
       "    'sl': {'y_pred': 53.599388379204896,\n",
       "     'level': 4,\n",
       "     'split': [1, 1.0],\n",
       "     'n_samples': 327,\n",
       "     'ssr': 337832.3491493886,\n",
       "     'sl': {'y_pred': 92.58585858585859,\n",
       "      'level': 5,\n",
       "      'split': -1,\n",
       "      'n_samples': 99,\n",
       "      'ssr': 224598.0202020202},\n",
       "     'sr': {'y_pred': 36.671052631578945,\n",
       "      'level': 5,\n",
       "      'split': -1,\n",
       "      'n_samples': 228,\n",
       "      'ssr': 113234.32894736841}},\n",
       "    'sr': {'y_pred': 19.062225015713388,\n",
       "     'level': 4,\n",
       "     'split': [1, 1.0],\n",
       "     'n_samples': 1591,\n",
       "     'ssr': 642212.3377400013,\n",
       "     'sl': {'y_pred': 33.14750957854406,\n",
       "      'level': 5,\n",
       "      'split': [0, 3.0],\n",
       "      'n_samples': 522,\n",
       "      'ssr': 236857.08543956047,\n",
       "      'sl': {'y_pred': 60.59047619047619,\n",
       "       'level': 6,\n",
       "       'split': [0, 2.0],\n",
       "       'n_samples': 210,\n",
       "       'ssr': 178920.38132437097,\n",
       "       'sl': {'y_pred': 68.63366336633663,\n",
       "        'level': 7,\n",
       "        'split': -1,\n",
       "        'n_samples': 101,\n",
       "        'ssr': 115371.44554455446},\n",
       "       'sr': {'y_pred': 53.137614678899084,\n",
       "        'level': 7,\n",
       "        'split': -1,\n",
       "        'n_samples': 109,\n",
       "        'ssr': 63548.935779816515}},\n",
       "      'sr': {'y_pred': 14.676282051282051,\n",
       "       'level': 6,\n",
       "       'split': [0, 4.0],\n",
       "       'n_samples': 312,\n",
       "       'ssr': 28921.94976065649,\n",
       "       'sl': {'y_pred': 24.7196261682243,\n",
       "        'level': 7,\n",
       "        'split': -1,\n",
       "        'n_samples': 107,\n",
       "        'ssr': 18815.588785046733},\n",
       "       'sr': {'y_pred': 9.434146341463414,\n",
       "        'level': 7,\n",
       "        'split': [0, 5.0],\n",
       "        'n_samples': 205,\n",
       "        'ssr': 9989.232702599387,\n",
       "        'sl': {'y_pred': 8.724770642201834,\n",
       "         'level': 8,\n",
       "         'split': -1,\n",
       "         'n_samples': 109,\n",
       "         'ssr': 2881.7431192660542},\n",
       "        'sr': {'y_pred': 10.239583333333334,\n",
       "         'level': 8,\n",
       "         'split': -1,\n",
       "         'n_samples': 96,\n",
       "         'ssr': 7107.489583333333}}}},\n",
       "     'sr': {'y_pred': 12.184284377923293,\n",
       "      'level': 5,\n",
       "      'split': [0, 5.0],\n",
       "      'n_samples': 1069,\n",
       "      'ssr': 91477.79908984978,\n",
       "      'sl': {'y_pred': 8.669039145907472,\n",
       "       'level': 6,\n",
       "       'split': [0, 2.0],\n",
       "       'n_samples': 843,\n",
       "       'ssr': 46200.921843023505,\n",
       "       'sl': {'y_pred': 15.460829493087557,\n",
       "        'level': 7,\n",
       "        'split': -1,\n",
       "        'n_samples': 217,\n",
       "        'ssr': 28591.91705069124},\n",
       "       'sr': {'y_pred': 6.314696485623003,\n",
       "        'level': 7,\n",
       "        'split': [0, 3.0],\n",
       "        'n_samples': 626,\n",
       "        'ssr': 16068.36942228258,\n",
       "        'sl': {'y_pred': 8.483720930232558,\n",
       "         'level': 8,\n",
       "         'split': -1,\n",
       "         'n_samples': 215,\n",
       "         'ssr': 12013.693023255815},\n",
       "        'sr': {'y_pred': 5.180048661800487,\n",
       "         'level': 8,\n",
       "         'split': [0, 4.0],\n",
       "         'n_samples': 411,\n",
       "         'ssr': 4034.792253020611,\n",
       "         'sl': {'y_pred': 4.955223880597015,\n",
       "          'level': 9,\n",
       "          'split': -1,\n",
       "          'n_samples': 201,\n",
       "          'ssr': 1792.597014925373},\n",
       "         'sr': {'y_pred': 5.395238095238096,\n",
       "          'level': 9,\n",
       "          'split': -1,\n",
       "          'n_samples': 210,\n",
       "          'ssr': 2242.195238095238}}}},\n",
       "      'sr': {'y_pred': 25.29646017699115,\n",
       "       'level': 6,\n",
       "       'split': -1,\n",
       "       'n_samples': 226,\n",
       "       'ssr': 31797.1371681416}}}},\n",
       "   'sr': {'y_pred': 78.059375,\n",
       "    'level': 3,\n",
       "    'split': [1, 1.0],\n",
       "    'n_samples': 320,\n",
       "    'ssr': 490499.95000000007,\n",
       "    'sl': {'y_pred': 20.55,\n",
       "     'level': 4,\n",
       "     'split': -1,\n",
       "     'n_samples': 100,\n",
       "     'ssr': 34340.75},\n",
       "    'sr': {'y_pred': 104.2,\n",
       "     'level': 4,\n",
       "     'split': -1,\n",
       "     'n_samples': 220,\n",
       "     'ssr': 456159.20000000007}}},\n",
       "  'sr': {'y_pred': 212.8397435897436,\n",
       "   'level': 2,\n",
       "   'split': [1, 1.0],\n",
       "   'n_samples': 312,\n",
       "   'ssr': 3308471.314814815,\n",
       "   'sl': {'y_pred': 42.583333333333336,\n",
       "    'level': 3,\n",
       "    'split': -1,\n",
       "    'n_samples': 96,\n",
       "    'ssr': 72619.33333333333},\n",
       "   'sr': {'y_pred': 288.50925925925924,\n",
       "    'level': 3,\n",
       "    'split': -1,\n",
       "    'n_samples': 216,\n",
       "    'ssr': 3235851.9814814813}}},\n",
       " 'sr': {'y_pred': 260.15818540433924,\n",
       "  'level': 1,\n",
       "  'split': [0, 21.0],\n",
       "  'n_samples': 5070,\n",
       "  'ssr': 140006358.8776009,\n",
       "  'sl': {'y_pred': 289.9788834951456,\n",
       "   'level': 2,\n",
       "   'split': [0, 16.0],\n",
       "   'n_samples': 4120,\n",
       "   'ssr': 123068071.11245444,\n",
       "   'sl': {'y_pred': 248.42857142857142,\n",
       "    'level': 3,\n",
       "    'split': [0, 9.0],\n",
       "    'n_samples': 2513,\n",
       "    'ssr': 55394360.41232501,\n",
       "    'sl': {'y_pred': 374.1597444089457,\n",
       "     'level': 4,\n",
       "     'split': [1, 1.0],\n",
       "     'n_samples': 313,\n",
       "     'ssr': 7560000.522720523,\n",
       "     'sl': {'y_pred': 108.10989010989012,\n",
       "      'level': 5,\n",
       "      'split': -1,\n",
       "      'n_samples': 91,\n",
       "      'ssr': 514012.90109890106},\n",
       "     'sr': {'y_pred': 483.2162162162162,\n",
       "      'level': 5,\n",
       "      'split': -1,\n",
       "      'n_samples': 222,\n",
       "      'ssr': 7045987.621621622}},\n",
       "    'sr': {'y_pred': 230.54045454545454,\n",
       "     'level': 4,\n",
       "     'split': [1, 1.0],\n",
       "     'n_samples': 2200,\n",
       "     'ssr': 30238312.101866286,\n",
       "     'sl': {'y_pred': 321.9913793103448,\n",
       "      'level': 5,\n",
       "      'split': [0, 11.0],\n",
       "      'n_samples': 696,\n",
       "      'ssr': 15350915.153001782,\n",
       "      'sl': {'y_pred': 216.36893203883494,\n",
       "       'level': 6,\n",
       "       'split': [0, 10.0],\n",
       "       'n_samples': 206,\n",
       "       'ssr': 2290327.3984905663,\n",
       "       'sl': {'y_pred': 174.39622641509433,\n",
       "        'level': 7,\n",
       "        'split': -1,\n",
       "        'n_samples': 106,\n",
       "        'ssr': 849239.358490566},\n",
       "       'sr': {'y_pred': 260.86,\n",
       "        'level': 7,\n",
       "        'split': -1,\n",
       "        'n_samples': 100,\n",
       "        'ssr': 1441088.0400000003}},\n",
       "      'sr': {'y_pred': 366.39591836734695,\n",
       "       'level': 6,\n",
       "       'split': [0, 12.0],\n",
       "       'n_samples': 490,\n",
       "       'ssr': 12406644.51682838,\n",
       "       'sl': {'y_pred': 320.6764705882353,\n",
       "        'level': 7,\n",
       "        'split': -1,\n",
       "        'n_samples': 102,\n",
       "        'ssr': 2167550.323529412},\n",
       "       'sr': {'y_pred': 378.41494845360825,\n",
       "        'level': 7,\n",
       "        'split': [0, 15.0],\n",
       "        'n_samples': 388,\n",
       "        'ssr': 10221424.19908515,\n",
       "        'sl': {'y_pred': 382.3379310344828,\n",
       "         'level': 8,\n",
       "         'split': [0, 13.0],\n",
       "         'n_samples': 290,\n",
       "         'ssr': 7536351.455555555,\n",
       "         'sl': {'y_pred': 375.4222222222222,\n",
       "          'level': 9,\n",
       "          'split': -1,\n",
       "          'n_samples': 90,\n",
       "          'ssr': 2315349.9555555554},\n",
       "         'sr': {'y_pred': 385.45,\n",
       "          'level': 9,\n",
       "          'split': [0, 14.0],\n",
       "          'n_samples': 200,\n",
       "          'ssr': 5213238.92,\n",
       "          'sl': {'y_pred': 391.68,\n",
       "           'level': 10,\n",
       "           'split': -1,\n",
       "           'n_samples': 100,\n",
       "           'ssr': 2649279.76},\n",
       "          'sr': {'y_pred': 379.22,\n",
       "           'level': 10,\n",
       "           'split': -1,\n",
       "           'n_samples': 100,\n",
       "           'ssr': 2563959.16}}},\n",
       "        'sr': {'y_pred': 366.8061224489796,\n",
       "         'level': 8,\n",
       "         'split': -1,\n",
       "         'n_samples': 98,\n",
       "         'ssr': 2678831.3163265307}}}},\n",
       "     'sr': {'y_pred': 188.22007978723406,\n",
       "      'level': 5,\n",
       "      'split': [0, 10.0],\n",
       "      'n_samples': 1504,\n",
       "      'ssr': 10875572.606026618,\n",
       "      'sl': {'y_pred': 243.40758293838863,\n",
       "       'level': 6,\n",
       "       'split': -1,\n",
       "       'n_samples': 211,\n",
       "       'ssr': 1484928.9478672985},\n",
       "      'sr': {'y_pred': 179.2142304717711,\n",
       "       'level': 6,\n",
       "       'split': [0, 12.0],\n",
       "       'n_samples': 1293,\n",
       "       'ssr': 8611819.481748575,\n",
       "       'sl': {'y_pred': 144.3846153846154,\n",
       "        'level': 7,\n",
       "        'split': [0, 11.0],\n",
       "        'n_samples': 429,\n",
       "        'ssr': 1689694.1046966733,\n",
       "        'sl': {'y_pred': 133.86301369863014,\n",
       "         'level': 8,\n",
       "         'split': -1,\n",
       "         'n_samples': 219,\n",
       "         'ssr': 686069.8904109589},\n",
       "        'sr': {'y_pred': 155.35714285714286,\n",
       "         'level': 8,\n",
       "         'split': -1,\n",
       "         'n_samples': 210,\n",
       "         'ssr': 1003624.2142857143}},\n",
       "       'sr': {'y_pred': 196.50810185185185,\n",
       "        'level': 7,\n",
       "        'split': [0, 15.0],\n",
       "        'n_samples': 864,\n",
       "        'ssr': 6858919.932143975,\n",
       "        'sl': {'y_pred': 194.1471048513302,\n",
       "         'level': 8,\n",
       "         'split': [0, 13.0],\n",
       "         'n_samples': 639,\n",
       "         'ssr': 4798987.067104722,\n",
       "         'sl': {'y_pred': 201.7601809954751,\n",
       "          'level': 9,\n",
       "          'split': -1,\n",
       "          'n_samples': 221,\n",
       "          'ssr': 1843248.2895927604},\n",
       "         'sr': {'y_pred': 190.12200956937798,\n",
       "          'level': 9,\n",
       "          'split': [0, 14.0],\n",
       "          'n_samples': 418,\n",
       "          'ssr': 2952434.399221611,\n",
       "          'sl': {'y_pred': 192.9471153846154,\n",
       "           'level': 10,\n",
       "           'split': -1,\n",
       "           'n_samples': 208,\n",
       "           'ssr': 1538024.4182692308},\n",
       "          'sr': {'y_pred': 187.32380952380953,\n",
       "           'level': 10,\n",
       "           'split': -1,\n",
       "           'n_samples': 210,\n",
       "           'ssr': 1414409.9809523807}}},\n",
       "        'sr': {'y_pred': 203.21333333333334,\n",
       "         'level': 8,\n",
       "         'split': -1,\n",
       "         'n_samples': 225,\n",
       "         'ssr': 2040351.7600000002}}}}}},\n",
       "   'sr': {'y_pred': 354.95457373988796,\n",
       "    'level': 3,\n",
       "    'split': [0, 19.0],\n",
       "    'n_samples': 1607,\n",
       "    'ssr': 55684927.83514124,\n",
       "    'sl': {'y_pred': 404.6589068825911,\n",
       "     'level': 4,\n",
       "     'split': [0, 17.0],\n",
       "     'n_samples': 988,\n",
       "     'ssr': 38907307.219161674,\n",
       "     'sl': {'y_pred': 313.9125,\n",
       "      'level': 5,\n",
       "      'split': [1, 1.0],\n",
       "      'n_samples': 320,\n",
       "      'ssr': 6076443.415055532,\n",
       "      'sl': {'y_pred': 373.4848484848485,\n",
       "       'level': 6,\n",
       "       'split': -1,\n",
       "       'n_samples': 99,\n",
       "       'ssr': 2676698.727272727},\n",
       "      'sr': {'y_pred': 287.2262443438914,\n",
       "       'level': 6,\n",
       "       'split': -1,\n",
       "       'n_samples': 221,\n",
       "       'ssr': 3399744.6877828054}},\n",
       "     'sr': {'y_pred': 448.13023952095807,\n",
       "      'level': 5,\n",
       "      'split': [1, 1.0],\n",
       "      'n_samples': 668,\n",
       "      'ssr': 26713029.444285117,\n",
       "      'sl': {'y_pred': 316.92237442922374,\n",
       "       'level': 6,\n",
       "       'split': [0, 18.0],\n",
       "       'n_samples': 219,\n",
       "       'ssr': 5572428.575562971,\n",
       "       'sl': {'y_pred': 337.7522935779817,\n",
       "        'level': 7,\n",
       "        'split': -1,\n",
       "        'n_samples': 109,\n",
       "        'ssr': 2777412.311926606},\n",
       "       'sr': {'y_pred': 296.2818181818182,\n",
       "        'level': 7,\n",
       "        'split': -1,\n",
       "        'n_samples': 110,\n",
       "        'ssr': 2795016.263636364}},\n",
       "      'sr': {'y_pred': 512.1269487750557,\n",
       "       'level': 6,\n",
       "       'split': [0, 18.0],\n",
       "       'n_samples': 449,\n",
       "       'ssr': 20990721.152101442,\n",
       "       'sl': {'y_pred': 523.3918918918919,\n",
       "        'level': 7,\n",
       "        'split': -1,\n",
       "        'n_samples': 222,\n",
       "        'ssr': 10747530.905405406},\n",
       "       'sr': {'y_pred': 501.1101321585903,\n",
       "        'level': 7,\n",
       "        'split': -1,\n",
       "        'n_samples': 227,\n",
       "        'ssr': 10243190.246696036}}}},\n",
       "    'sr': {'y_pred': 275.6203554119548,\n",
       "     'level': 4,\n",
       "     'split': [0, 20.0],\n",
       "     'n_samples': 619,\n",
       "     'ssr': 11609308.316118592,\n",
       "     'sl': {'y_pred': 321.00323624595467,\n",
       "      'level': 5,\n",
       "      'split': [1, 1.0],\n",
       "      'n_samples': 309,\n",
       "      'ssr': 6788016.067547132,\n",
       "      'sl': {'y_pred': 254.74725274725276,\n",
       "       'level': 6,\n",
       "       'split': -1,\n",
       "       'n_samples': 91,\n",
       "       'ssr': 1465355.1868131866},\n",
       "      'sr': {'y_pred': 348.6605504587156,\n",
       "       'level': 6,\n",
       "       'split': -1,\n",
       "       'n_samples': 218,\n",
       "       'ssr': 5322660.880733945}},\n",
       "     'sr': {'y_pred': 230.38387096774193,\n",
       "      'level': 5,\n",
       "      'split': [1, 1.0],\n",
       "      'n_samples': 310,\n",
       "      'ssr': 3839869.2452380955,\n",
       "      'sl': {'y_pred': 177.35,\n",
       "       'level': 6,\n",
       "       'split': -1,\n",
       "       'n_samples': 100,\n",
       "       'ssr': 962174.75},\n",
       "      'sr': {'y_pred': 255.63809523809525,\n",
       "       'level': 6,\n",
       "       'split': -1,\n",
       "       'n_samples': 210,\n",
       "       'ssr': 2877694.4952380955}}}}},\n",
       "  'sr': {'y_pred': 130.83052631578948,\n",
       "   'level': 2,\n",
       "   'split': [0, 23.0],\n",
       "   'n_samples': 950,\n",
       "   'ssr': 4998896.486349564,\n",
       "   'sl': {'y_pred': 151.87081339712918,\n",
       "    'level': 3,\n",
       "    'split': [0, 22.0],\n",
       "    'n_samples': 627,\n",
       "    'ssr': 3910492.1418261398,\n",
       "    'sl': {'y_pred': 169.6156351791531,\n",
       "     'level': 4,\n",
       "     'split': [1, 1.0],\n",
       "     'n_samples': 307,\n",
       "     'ssr': 2295996.018490604,\n",
       "     'sl': {'y_pred': 151.63440860215053,\n",
       "      'level': 5,\n",
       "      'split': -1,\n",
       "      'n_samples': 93,\n",
       "      'ssr': 818425.5698924732},\n",
       "     'sr': {'y_pred': 177.42990654205607,\n",
       "      'level': 5,\n",
       "      'split': -1,\n",
       "      'n_samples': 214,\n",
       "      'ssr': 1477570.4485981308}},\n",
       "    'sr': {'y_pred': 134.846875,\n",
       "     'level': 4,\n",
       "     'split': [1, 1.0],\n",
       "     'n_samples': 320,\n",
       "     'ssr': 1565776.396544632,\n",
       "     'sl': {'y_pred': 128.6060606060606,\n",
       "      'level': 5,\n",
       "      'split': -1,\n",
       "      'n_samples': 99,\n",
       "      'ssr': 614311.6363636364},\n",
       "     'sr': {'y_pred': 137.64253393665157,\n",
       "      'level': 5,\n",
       "      'split': -1,\n",
       "      'n_samples': 221,\n",
       "      'ssr': 951464.7601809956}}},\n",
       "   'sr': {'y_pred': 89.9876160990712,\n",
       "    'level': 3,\n",
       "    'split': [1, 1.0],\n",
       "    'n_samples': 323,\n",
       "    'ssr': 897605.9384377758,\n",
       "    'sl': {'y_pred': 93.01941747572816,\n",
       "     'level': 4,\n",
       "     'split': -1,\n",
       "     'n_samples': 103,\n",
       "     'ssr': 344837.96116504853},\n",
       "    'sr': {'y_pred': 88.56818181818181,\n",
       "     'level': 4,\n",
       "     'split': -1,\n",
       "     'n_samples': 220,\n",
       "     'ssr': 552767.9772727273}}}}}"
      ]
     },
     "execution_count": 24,
     "metadata": {},
     "output_type": "execute_result"
    }
   ],
   "source": [
    "tree=tree_grow(X_train, y_train)\n",
    "tree"
   ]
  },
  {
   "cell_type": "markdown",
   "metadata": {},
   "source": [
    "Por último, se crea una función para predecir con base en el árbol entrenado con la función anterior. La predicción corresponderá a la media de la variable en las hojas del árbol. "
   ]
  },
  {
   "cell_type": "code",
   "execution_count": 25,
   "metadata": {},
   "outputs": [],
   "source": [
    "def tree_predict(X, tree):\n",
    "    \n",
    "    predicted = np.ones(X.shape[0])\n",
    "\n",
    "    # Check if final node\n",
    "    if tree['split'] == -1:\n",
    "            predicted = predicted * tree['y_pred']\n",
    "            \n",
    "    else:\n",
    "        \n",
    "        j, split = tree['split']\n",
    "        filter_l = (X.iloc[:, j] < split)\n",
    "        X_l = X.loc[filter_l]\n",
    "        X_r = X.loc[~filter_l]\n",
    "\n",
    "        if X_l.shape[0] == 0:  # If left node is empty only continue with right\n",
    "            predicted[~filter_l] = tree_predict(X_r, tree['sr'])\n",
    "        elif X_r.shape[0] == 0:  # If right node is empty only continue with left\n",
    "            predicted[filter_l] = tree_predict(X_l, tree['sl'])\n",
    "        else:\n",
    "            predicted[filter_l] = tree_predict(X_l, tree['sl'])\n",
    "            predicted[~filter_l] = tree_predict(X_r, tree['sr'])\n",
    "\n",
    "    return predicted    "
   ]
  },
  {
   "cell_type": "markdown",
   "metadata": {},
   "source": [
    "Los resultados obtenidos de predicción con los datos de entrenamiento son los siguientes:"
   ]
  },
  {
   "cell_type": "code",
   "execution_count": 26,
   "metadata": {},
   "outputs": [
    {
     "data": {
      "text/plain": [
       "array([155.35714286,  20.55      , 296.28181818, ..., 287.22624434,\n",
       "       108.10989011,   5.3952381 ])"
      ]
     },
     "execution_count": 26,
     "metadata": {},
     "output_type": "execute_result"
    }
   ],
   "source": [
    "y_pred=tree_predict(X_test, tree)\n",
    "y_pred"
   ]
  },
  {
   "cell_type": "markdown",
   "metadata": {},
   "source": [
    "En este caso, el MSE sería de 11882. Menos de la mitad del obtenido con la regresión lineal. "
   ]
  },
  {
   "cell_type": "code",
   "execution_count": 27,
   "metadata": {},
   "outputs": [
    {
     "data": {
      "text/plain": [
       "11882.791913819055"
      ]
     },
     "execution_count": 27,
     "metadata": {},
     "output_type": "execute_result"
    }
   ],
   "source": [
    "import sklearn.metrics\n",
    "from sklearn.metrics import mean_squared_error\n",
    "\n",
    "sklearn.metrics.mean_squared_error(y_test, y_pred)"
   ]
  },
  {
   "cell_type": "markdown",
   "metadata": {},
   "source": [
    "# Exercise 7.5\n",
    "\n",
    "Train a Decision Tree using scikit-learn. Comment about the performance of the models."
   ]
  },
  {
   "cell_type": "markdown",
   "metadata": {},
   "source": [
    "En este caso calcularemos un árbol de regresión haciendo uso de cross validation para determinar el parámetro max_depth. "
   ]
  },
  {
   "cell_type": "code",
   "execution_count": 28,
   "metadata": {},
   "outputs": [],
   "source": [
    "from sklearn.tree import DecisionTreeRegressor\n",
    "from sklearn.model_selection import cross_val_score\n",
    "\n",
    "# list of values to try for max_depth\n",
    "max_depth_range = range(1, 10)\n",
    "\n",
    "# list to store the average MSE for each value of max_depth\n",
    "MSEs = []\n",
    "\n",
    "# use 10-fold cross-validation with each value of max_depth\n",
    "\n",
    "for depth in max_depth_range:\n",
    "    clf = DecisionTreeRegressor(max_depth=depth, random_state=0)\n",
    "    MSEs.append(cross_val_score(clf, X, y, cv=10, scoring='neg_mean_squared_error').mean())"
   ]
  },
  {
   "cell_type": "code",
   "execution_count": 29,
   "metadata": {},
   "outputs": [
    {
     "data": {
      "image/png": "[encoded data removed]",
      "text/plain": [
       "<Figure size 432x288 with 1 Axes>"
      ]
     },
     "metadata": {
      "needs_background": "light"
     },
     "output_type": "display_data"
    }
   ],
   "source": [
    "# plot max_depth (x-axis) versus RMSE (y-axis)\n",
    "plt.plot(max_depth_range, MSEs)\n",
    "plt.xlabel('max_depth')\n",
    "plt.ylabel('MSE');"
   ]
  },
  {
   "cell_type": "markdown",
   "metadata": {},
   "source": [
    "Se evidencia que la profundidad máxima es de 8, por lo cual se escogerá ese modelo. El MSE óptimo es de 13143, el cual, es superior al del árbol calculado a mano. "
   ]
  },
  {
   "cell_type": "code",
   "execution_count": 30,
   "metadata": {},
   "outputs": [
    {
     "data": {
      "text/plain": [
       "-13143.878482047303"
      ]
     },
     "execution_count": 30,
     "metadata": {},
     "output_type": "execute_result"
    }
   ],
   "source": [
    "MSEs[8]"
   ]
  },
  {
   "cell_type": "code",
   "execution_count": 31,
   "metadata": {},
   "outputs": [
    {
     "data": {
      "text/plain": [
       "-13143.878482047303"
      ]
     },
     "execution_count": 31,
     "metadata": {},
     "output_type": "execute_result"
    }
   ],
   "source": [
    "max(MSEs)"
   ]
  },
  {
   "cell_type": "markdown",
   "metadata": {},
   "source": [
    "Por lo tanto, se estimará el modelo con el mejor parámetro. En este caso, el MSE obtenido es muy cercano al obtenido en el anterior ejercicio. "
   ]
  },
  {
   "cell_type": "code",
   "execution_count": 32,
   "metadata": {},
   "outputs": [
    {
     "data": {
      "text/plain": [
       "11887.264708870263"
      ]
     },
     "execution_count": 32,
     "metadata": {},
     "output_type": "execute_result"
    }
   ],
   "source": [
    "clf = DecisionTreeRegressor(max_depth=8, random_state=1)\n",
    "clf_decisiontree=clf.fit(X_train, y_train)\n",
    "sklearn.metrics.mean_squared_error(y_test, clf_decisiontree.predict(X_test))"
   ]
  },
  {
   "cell_type": "markdown",
   "metadata": {},
   "source": [
    "# Part 2 - Bagging"
   ]
  },
  {
   "cell_type": "markdown",
   "metadata": {},
   "source": [
    "## Mashable news stories analysis\n",
    "\n",
    "Predicting if a news story is going to be popular"
   ]
  },
  {
   "cell_type": "code",
   "execution_count": 33,
   "metadata": {},
   "outputs": [
    {
     "data": {
      "text/html": [
       "<div>\n",
       "<style scoped>\n",
       "    .dataframe tbody tr th:only-of-type {\n",
       "        vertical-align: middle;\n",
       "    }\n",
       "\n",
       "    .dataframe tbody tr th {\n",
       "        vertical-align: top;\n",
       "    }\n",
       "\n",
       "    .dataframe thead th {\n",
       "        text-align: right;\n",
       "    }\n",
       "</style>\n",
       "<table border=\"1\" class=\"dataframe\">\n",
       "  <thead>\n",
       "    <tr style=\"text-align: right;\">\n",
       "      <th></th>\n",
       "      <th>url</th>\n",
       "      <th>timedelta</th>\n",
       "      <th>n_tokens_title</th>\n",
       "      <th>n_tokens_content</th>\n",
       "      <th>n_unique_tokens</th>\n",
       "      <th>n_non_stop_words</th>\n",
       "      <th>n_non_stop_unique_tokens</th>\n",
       "      <th>num_hrefs</th>\n",
       "      <th>num_self_hrefs</th>\n",
       "      <th>num_imgs</th>\n",
       "      <th>...</th>\n",
       "      <th>min_positive_polarity</th>\n",
       "      <th>max_positive_polarity</th>\n",
       "      <th>avg_negative_polarity</th>\n",
       "      <th>min_negative_polarity</th>\n",
       "      <th>max_negative_polarity</th>\n",
       "      <th>title_subjectivity</th>\n",
       "      <th>title_sentiment_polarity</th>\n",
       "      <th>abs_title_subjectivity</th>\n",
       "      <th>abs_title_sentiment_polarity</th>\n",
       "      <th>Popular</th>\n",
       "    </tr>\n",
       "  </thead>\n",
       "  <tbody>\n",
       "    <tr>\n",
       "      <th>0</th>\n",
       "      <td>http://mashable.com/2014/12/10/cia-torture-rep...</td>\n",
       "      <td>28.0</td>\n",
       "      <td>9.0</td>\n",
       "      <td>188.0</td>\n",
       "      <td>0.732620</td>\n",
       "      <td>1.0</td>\n",
       "      <td>0.844262</td>\n",
       "      <td>5.0</td>\n",
       "      <td>1.0</td>\n",
       "      <td>1.0</td>\n",
       "      <td>...</td>\n",
       "      <td>0.200000</td>\n",
       "      <td>0.80</td>\n",
       "      <td>-0.487500</td>\n",
       "      <td>-0.60</td>\n",
       "      <td>-0.250000</td>\n",
       "      <td>0.9</td>\n",
       "      <td>0.8</td>\n",
       "      <td>0.4</td>\n",
       "      <td>0.8</td>\n",
       "      <td>1</td>\n",
       "    </tr>\n",
       "    <tr>\n",
       "      <th>1</th>\n",
       "      <td>http://mashable.com/2013/10/18/bitlock-kicksta...</td>\n",
       "      <td>447.0</td>\n",
       "      <td>7.0</td>\n",
       "      <td>297.0</td>\n",
       "      <td>0.653199</td>\n",
       "      <td>1.0</td>\n",
       "      <td>0.815789</td>\n",
       "      <td>9.0</td>\n",
       "      <td>4.0</td>\n",
       "      <td>1.0</td>\n",
       "      <td>...</td>\n",
       "      <td>0.160000</td>\n",
       "      <td>0.50</td>\n",
       "      <td>-0.135340</td>\n",
       "      <td>-0.40</td>\n",
       "      <td>-0.050000</td>\n",
       "      <td>0.1</td>\n",
       "      <td>-0.1</td>\n",
       "      <td>0.4</td>\n",
       "      <td>0.1</td>\n",
       "      <td>0</td>\n",
       "    </tr>\n",
       "    <tr>\n",
       "      <th>2</th>\n",
       "      <td>http://mashable.com/2013/07/24/google-glass-po...</td>\n",
       "      <td>533.0</td>\n",
       "      <td>11.0</td>\n",
       "      <td>181.0</td>\n",
       "      <td>0.660377</td>\n",
       "      <td>1.0</td>\n",
       "      <td>0.775701</td>\n",
       "      <td>4.0</td>\n",
       "      <td>3.0</td>\n",
       "      <td>1.0</td>\n",
       "      <td>...</td>\n",
       "      <td>0.136364</td>\n",
       "      <td>1.00</td>\n",
       "      <td>0.000000</td>\n",
       "      <td>0.00</td>\n",
       "      <td>0.000000</td>\n",
       "      <td>0.3</td>\n",
       "      <td>1.0</td>\n",
       "      <td>0.2</td>\n",
       "      <td>1.0</td>\n",
       "      <td>0</td>\n",
       "    </tr>\n",
       "    <tr>\n",
       "      <th>3</th>\n",
       "      <td>http://mashable.com/2013/11/21/these-are-the-m...</td>\n",
       "      <td>413.0</td>\n",
       "      <td>12.0</td>\n",
       "      <td>781.0</td>\n",
       "      <td>0.497409</td>\n",
       "      <td>1.0</td>\n",
       "      <td>0.677350</td>\n",
       "      <td>10.0</td>\n",
       "      <td>3.0</td>\n",
       "      <td>1.0</td>\n",
       "      <td>...</td>\n",
       "      <td>0.100000</td>\n",
       "      <td>1.00</td>\n",
       "      <td>-0.195701</td>\n",
       "      <td>-0.40</td>\n",
       "      <td>-0.071429</td>\n",
       "      <td>0.0</td>\n",
       "      <td>0.0</td>\n",
       "      <td>0.5</td>\n",
       "      <td>0.0</td>\n",
       "      <td>0</td>\n",
       "    </tr>\n",
       "    <tr>\n",
       "      <th>4</th>\n",
       "      <td>http://mashable.com/2014/02/11/parking-ticket-...</td>\n",
       "      <td>331.0</td>\n",
       "      <td>8.0</td>\n",
       "      <td>177.0</td>\n",
       "      <td>0.685714</td>\n",
       "      <td>1.0</td>\n",
       "      <td>0.830357</td>\n",
       "      <td>3.0</td>\n",
       "      <td>2.0</td>\n",
       "      <td>1.0</td>\n",
       "      <td>...</td>\n",
       "      <td>0.100000</td>\n",
       "      <td>0.55</td>\n",
       "      <td>-0.175000</td>\n",
       "      <td>-0.25</td>\n",
       "      <td>-0.100000</td>\n",
       "      <td>0.0</td>\n",
       "      <td>0.0</td>\n",
       "      <td>0.5</td>\n",
       "      <td>0.0</td>\n",
       "      <td>0</td>\n",
       "    </tr>\n",
       "  </tbody>\n",
       "</table>\n",
       "<p>5 rows × 61 columns</p>\n",
       "</div>"
      ],
      "text/plain": [
       "                                                 url  timedelta  \\\n",
       "0  http://mashable.com/2014/12/10/cia-torture-rep...       28.0   \n",
       "1  http://mashable.com/2013/10/18/bitlock-kicksta...      447.0   \n",
       "2  http://mashable.com/2013/07/24/google-glass-po...      533.0   \n",
       "3  http://mashable.com/2013/11/21/these-are-the-m...      413.0   \n",
       "4  http://mashable.com/2014/02/11/parking-ticket-...      331.0   \n",
       "\n",
       "   n_tokens_title  n_tokens_content  n_unique_tokens  n_non_stop_words  \\\n",
       "0             9.0             188.0         0.732620               1.0   \n",
       "1             7.0             297.0         0.653199               1.0   \n",
       "2            11.0             181.0         0.660377               1.0   \n",
       "3            12.0             781.0         0.497409               1.0   \n",
       "4             8.0             177.0         0.685714               1.0   \n",
       "\n",
       "   n_non_stop_unique_tokens  num_hrefs  num_self_hrefs  num_imgs  ...  \\\n",
       "0                  0.844262        5.0             1.0       1.0  ...   \n",
       "1                  0.815789        9.0             4.0       1.0  ...   \n",
       "2                  0.775701        4.0             3.0       1.0  ...   \n",
       "3                  0.677350       10.0             3.0       1.0  ...   \n",
       "4                  0.830357        3.0             2.0       1.0  ...   \n",
       "\n",
       "   min_positive_polarity  max_positive_polarity  avg_negative_polarity  \\\n",
       "0               0.200000                   0.80              -0.487500   \n",
       "1               0.160000                   0.50              -0.135340   \n",
       "2               0.136364                   1.00               0.000000   \n",
       "3               0.100000                   1.00              -0.195701   \n",
       "4               0.100000                   0.55              -0.175000   \n",
       "\n",
       "   min_negative_polarity  max_negative_polarity  title_subjectivity  \\\n",
       "0                  -0.60              -0.250000                 0.9   \n",
       "1                  -0.40              -0.050000                 0.1   \n",
       "2                   0.00               0.000000                 0.3   \n",
       "3                  -0.40              -0.071429                 0.0   \n",
       "4                  -0.25              -0.100000                 0.0   \n",
       "\n",
       "   title_sentiment_polarity  abs_title_subjectivity  \\\n",
       "0                       0.8                     0.4   \n",
       "1                      -0.1                     0.4   \n",
       "2                       1.0                     0.2   \n",
       "3                       0.0                     0.5   \n",
       "4                       0.0                     0.5   \n",
       "\n",
       "   abs_title_sentiment_polarity  Popular  \n",
       "0                           0.8        1  \n",
       "1                           0.1        0  \n",
       "2                           1.0        0  \n",
       "3                           0.0        0  \n",
       "4                           0.0        0  \n",
       "\n",
       "[5 rows x 61 columns]"
      ]
     },
     "execution_count": 33,
     "metadata": {},
     "output_type": "execute_result"
    }
   ],
   "source": [
    "df = pd.read_csv('../datasets/mashable.csv', index_col=0)\n",
    "df.head()"
   ]
  },
  {
   "cell_type": "code",
   "execution_count": 34,
   "metadata": {},
   "outputs": [
    {
     "data": {
      "text/plain": [
       "1    3000\n",
       "0    3000\n",
       "Name: Popular, dtype: int64"
      ]
     },
     "execution_count": 34,
     "metadata": {},
     "output_type": "execute_result"
    }
   ],
   "source": [
    "df['Popular'].value_counts()"
   ]
  },
  {
   "cell_type": "code",
   "execution_count": 35,
   "metadata": {},
   "outputs": [
    {
     "data": {
      "text/plain": [
       "(6000, 61)"
      ]
     },
     "execution_count": 35,
     "metadata": {},
     "output_type": "execute_result"
    }
   ],
   "source": [
    "df.shape"
   ]
  },
  {
   "cell_type": "code",
   "execution_count": 36,
   "metadata": {},
   "outputs": [],
   "source": [
    "X = df.drop(['url', 'Popular'], axis=1)\n",
    "y = df['Popular']"
   ]
  },
  {
   "cell_type": "code",
   "execution_count": 37,
   "metadata": {},
   "outputs": [
    {
     "data": {
      "text/plain": [
       "0.5"
      ]
     },
     "execution_count": 37,
     "metadata": {},
     "output_type": "execute_result"
    }
   ],
   "source": [
    "y.mean()"
   ]
  },
  {
   "cell_type": "code",
   "execution_count": 38,
   "metadata": {},
   "outputs": [
    {
     "data": {
      "text/plain": [
       "0       1\n",
       "1       0\n",
       "2       0\n",
       "3       0\n",
       "4       0\n",
       "       ..\n",
       "5995    0\n",
       "5996    1\n",
       "5997    0\n",
       "5998    0\n",
       "5999    1\n",
       "Name: Popular, Length: 6000, dtype: int64"
      ]
     },
     "execution_count": 38,
     "metadata": {},
     "output_type": "execute_result"
    }
   ],
   "source": [
    "y"
   ]
  },
  {
   "cell_type": "code",
   "execution_count": 39,
   "metadata": {},
   "outputs": [],
   "source": [
    "# train/test split\n",
    "from sklearn.model_selection import train_test_split\n",
    "X_train, X_test, y_train, y_test = train_test_split(X, y, random_state=1)"
   ]
  },
  {
   "cell_type": "markdown",
   "metadata": {},
   "source": [
    "# Exercise 7.6\n",
    "\n",
    "Estimate a Decision Tree Classifier and a Logistic Regression\n",
    "\n",
    "Evaluate using the following metrics:\n",
    "* Accuracy\n",
    "* F1-Score"
   ]
  },
  {
   "cell_type": "code",
   "execution_count": 40,
   "metadata": {},
   "outputs": [
    {
     "name": "stdout",
     "output_type": "stream",
     "text": [
      "accuracy: 0.5386666666666666 F1_score: 0.5417218543046358\n"
     ]
    }
   ],
   "source": [
    "from sklearn.tree import DecisionTreeClassifier\n",
    "from sklearn.metrics import accuracy_score\n",
    "from sklearn.metrics import f1_score\n",
    "\n",
    "clf = DecisionTreeClassifier(random_state=0)\n",
    "Modelo1 = clf.fit(X_train, y_train)\n",
    "y_pred=clf.predict(X_test)\n",
    "\n",
    "print(\"accuracy: \"+str(accuracy_score(y_test, y_pred))+\" F1_score: \"+str(f1_score(y_test, y_pred)))"
   ]
  },
  {
   "cell_type": "code",
   "execution_count": 41,
   "metadata": {},
   "outputs": [
    {
     "name": "stdout",
     "output_type": "stream",
     "text": [
      "accuracy: 0.6466666666666666 F1_score: 0.6359890109890111\n"
     ]
    },
    {
     "name": "stderr",
     "output_type": "stream",
     "text": [
      "C:\\ProgramData\\Anaconda3\\lib\\site-packages\\sklearn\\utils\\optimize.py:212: ConvergenceWarning: newton-cg failed to converge. Increase the number of iterations.\n",
      "  \"number of iterations.\", ConvergenceWarning)\n"
     ]
    }
   ],
   "source": [
    "from sklearn.linear_model import LogisticRegression\n",
    "clf_log = LogisticRegression(random_state=0, solver='newton-cg')\n",
    "Modelo2 = clf_log.fit(X_train, y_train)\n",
    "y_pred2=clf_log.predict(X_test)\n",
    "\n",
    "print(\"accuracy: \"+str(accuracy_score(y_test, y_pred2))+\" F1_score: \"+str(f1_score(y_test, y_pred2)))\n"
   ]
  },
  {
   "cell_type": "markdown",
   "metadata": {},
   "source": [
    "# Exercise 7.7\n",
    "\n",
    "Estimate 300 bagged samples\n",
    "\n",
    "Estimate the following set of classifiers:\n",
    "\n",
    "* 100 Decision Trees where max_depth=None\n",
    "* 100 Decision Trees where max_depth=2\n",
    "* 100 Logistic Regressions"
   ]
  },
  {
   "cell_type": "code",
   "execution_count": 42,
   "metadata": {},
   "outputs": [
    {
     "data": {
      "text/html": [
       "<div>\n",
       "<style scoped>\n",
       "    .dataframe tbody tr th:only-of-type {\n",
       "        vertical-align: middle;\n",
       "    }\n",
       "\n",
       "    .dataframe tbody tr th {\n",
       "        vertical-align: top;\n",
       "    }\n",
       "\n",
       "    .dataframe thead th {\n",
       "        text-align: right;\n",
       "    }\n",
       "</style>\n",
       "<table border=\"1\" class=\"dataframe\">\n",
       "  <thead>\n",
       "    <tr style=\"text-align: right;\">\n",
       "      <th></th>\n",
       "      <th>Popular</th>\n",
       "      <th>timedelta</th>\n",
       "      <th>n_tokens_title</th>\n",
       "      <th>n_tokens_content</th>\n",
       "      <th>n_unique_tokens</th>\n",
       "      <th>n_non_stop_words</th>\n",
       "      <th>n_non_stop_unique_tokens</th>\n",
       "      <th>num_hrefs</th>\n",
       "      <th>num_self_hrefs</th>\n",
       "      <th>num_imgs</th>\n",
       "      <th>...</th>\n",
       "      <th>avg_positive_polarity</th>\n",
       "      <th>min_positive_polarity</th>\n",
       "      <th>max_positive_polarity</th>\n",
       "      <th>avg_negative_polarity</th>\n",
       "      <th>min_negative_polarity</th>\n",
       "      <th>max_negative_polarity</th>\n",
       "      <th>title_subjectivity</th>\n",
       "      <th>title_sentiment_polarity</th>\n",
       "      <th>abs_title_subjectivity</th>\n",
       "      <th>abs_title_sentiment_polarity</th>\n",
       "    </tr>\n",
       "  </thead>\n",
       "  <tbody>\n",
       "    <tr>\n",
       "      <th>2420</th>\n",
       "      <td>1</td>\n",
       "      <td>287.0</td>\n",
       "      <td>10.0</td>\n",
       "      <td>794.0</td>\n",
       "      <td>0.480720</td>\n",
       "      <td>1.0</td>\n",
       "      <td>0.712589</td>\n",
       "      <td>11.0</td>\n",
       "      <td>1.0</td>\n",
       "      <td>10.0</td>\n",
       "      <td>...</td>\n",
       "      <td>0.425597</td>\n",
       "      <td>0.062500</td>\n",
       "      <td>1.0</td>\n",
       "      <td>-0.227238</td>\n",
       "      <td>-0.5</td>\n",
       "      <td>-0.050000</td>\n",
       "      <td>0.000000</td>\n",
       "      <td>0.000000</td>\n",
       "      <td>0.500000</td>\n",
       "      <td>0.000000</td>\n",
       "    </tr>\n",
       "    <tr>\n",
       "      <th>1225</th>\n",
       "      <td>1</td>\n",
       "      <td>265.0</td>\n",
       "      <td>8.0</td>\n",
       "      <td>748.0</td>\n",
       "      <td>0.460114</td>\n",
       "      <td>1.0</td>\n",
       "      <td>0.582809</td>\n",
       "      <td>16.0</td>\n",
       "      <td>2.0</td>\n",
       "      <td>16.0</td>\n",
       "      <td>...</td>\n",
       "      <td>0.318308</td>\n",
       "      <td>0.083333</td>\n",
       "      <td>0.7</td>\n",
       "      <td>-0.473413</td>\n",
       "      <td>-0.7</td>\n",
       "      <td>-0.100000</td>\n",
       "      <td>0.400000</td>\n",
       "      <td>0.100000</td>\n",
       "      <td>0.100000</td>\n",
       "      <td>0.100000</td>\n",
       "    </tr>\n",
       "    <tr>\n",
       "      <th>324</th>\n",
       "      <td>0</td>\n",
       "      <td>375.0</td>\n",
       "      <td>12.0</td>\n",
       "      <td>2104.0</td>\n",
       "      <td>0.341929</td>\n",
       "      <td>1.0</td>\n",
       "      <td>0.508544</td>\n",
       "      <td>61.0</td>\n",
       "      <td>14.0</td>\n",
       "      <td>32.0</td>\n",
       "      <td>...</td>\n",
       "      <td>0.432095</td>\n",
       "      <td>0.033333</td>\n",
       "      <td>1.0</td>\n",
       "      <td>-0.236244</td>\n",
       "      <td>-0.8</td>\n",
       "      <td>-0.050000</td>\n",
       "      <td>0.454545</td>\n",
       "      <td>0.136364</td>\n",
       "      <td>0.045455</td>\n",
       "      <td>0.136364</td>\n",
       "    </tr>\n",
       "    <tr>\n",
       "      <th>5863</th>\n",
       "      <td>1</td>\n",
       "      <td>388.0</td>\n",
       "      <td>9.0</td>\n",
       "      <td>1281.0</td>\n",
       "      <td>0.461039</td>\n",
       "      <td>1.0</td>\n",
       "      <td>0.647832</td>\n",
       "      <td>36.0</td>\n",
       "      <td>33.0</td>\n",
       "      <td>14.0</td>\n",
       "      <td>...</td>\n",
       "      <td>0.452616</td>\n",
       "      <td>0.033333</td>\n",
       "      <td>1.0</td>\n",
       "      <td>-0.188155</td>\n",
       "      <td>-0.4</td>\n",
       "      <td>-0.050000</td>\n",
       "      <td>0.000000</td>\n",
       "      <td>0.000000</td>\n",
       "      <td>0.500000</td>\n",
       "      <td>0.000000</td>\n",
       "    </tr>\n",
       "    <tr>\n",
       "      <th>86</th>\n",
       "      <td>1</td>\n",
       "      <td>627.0</td>\n",
       "      <td>10.0</td>\n",
       "      <td>306.0</td>\n",
       "      <td>0.530612</td>\n",
       "      <td>1.0</td>\n",
       "      <td>0.601010</td>\n",
       "      <td>13.0</td>\n",
       "      <td>1.0</td>\n",
       "      <td>9.0</td>\n",
       "      <td>...</td>\n",
       "      <td>0.415417</td>\n",
       "      <td>0.100000</td>\n",
       "      <td>1.0</td>\n",
       "      <td>-0.292361</td>\n",
       "      <td>-0.6</td>\n",
       "      <td>-0.066667</td>\n",
       "      <td>0.357143</td>\n",
       "      <td>0.000000</td>\n",
       "      <td>0.142857</td>\n",
       "      <td>0.000000</td>\n",
       "    </tr>\n",
       "    <tr>\n",
       "      <th>...</th>\n",
       "      <td>...</td>\n",
       "      <td>...</td>\n",
       "      <td>...</td>\n",
       "      <td>...</td>\n",
       "      <td>...</td>\n",
       "      <td>...</td>\n",
       "      <td>...</td>\n",
       "      <td>...</td>\n",
       "      <td>...</td>\n",
       "      <td>...</td>\n",
       "      <td>...</td>\n",
       "      <td>...</td>\n",
       "      <td>...</td>\n",
       "      <td>...</td>\n",
       "      <td>...</td>\n",
       "      <td>...</td>\n",
       "      <td>...</td>\n",
       "      <td>...</td>\n",
       "      <td>...</td>\n",
       "      <td>...</td>\n",
       "      <td>...</td>\n",
       "    </tr>\n",
       "    <tr>\n",
       "      <th>905</th>\n",
       "      <td>0</td>\n",
       "      <td>212.0</td>\n",
       "      <td>11.0</td>\n",
       "      <td>549.0</td>\n",
       "      <td>0.528545</td>\n",
       "      <td>1.0</td>\n",
       "      <td>0.667614</td>\n",
       "      <td>11.0</td>\n",
       "      <td>2.0</td>\n",
       "      <td>1.0</td>\n",
       "      <td>...</td>\n",
       "      <td>0.373900</td>\n",
       "      <td>0.062500</td>\n",
       "      <td>0.6</td>\n",
       "      <td>-0.356667</td>\n",
       "      <td>-0.6</td>\n",
       "      <td>-0.166667</td>\n",
       "      <td>0.800000</td>\n",
       "      <td>0.250000</td>\n",
       "      <td>0.300000</td>\n",
       "      <td>0.250000</td>\n",
       "    </tr>\n",
       "    <tr>\n",
       "      <th>5192</th>\n",
       "      <td>0</td>\n",
       "      <td>78.0</td>\n",
       "      <td>10.0</td>\n",
       "      <td>317.0</td>\n",
       "      <td>0.691489</td>\n",
       "      <td>1.0</td>\n",
       "      <td>0.793269</td>\n",
       "      <td>14.0</td>\n",
       "      <td>3.0</td>\n",
       "      <td>1.0</td>\n",
       "      <td>...</td>\n",
       "      <td>0.361364</td>\n",
       "      <td>0.200000</td>\n",
       "      <td>0.7</td>\n",
       "      <td>-0.278472</td>\n",
       "      <td>-0.4</td>\n",
       "      <td>-0.125000</td>\n",
       "      <td>0.500000</td>\n",
       "      <td>0.500000</td>\n",
       "      <td>0.000000</td>\n",
       "      <td>0.500000</td>\n",
       "    </tr>\n",
       "    <tr>\n",
       "      <th>3980</th>\n",
       "      <td>1</td>\n",
       "      <td>430.0</td>\n",
       "      <td>11.0</td>\n",
       "      <td>1105.0</td>\n",
       "      <td>0.413632</td>\n",
       "      <td>1.0</td>\n",
       "      <td>0.612903</td>\n",
       "      <td>8.0</td>\n",
       "      <td>4.0</td>\n",
       "      <td>1.0</td>\n",
       "      <td>...</td>\n",
       "      <td>0.359703</td>\n",
       "      <td>0.062500</td>\n",
       "      <td>1.0</td>\n",
       "      <td>-0.258218</td>\n",
       "      <td>-0.7</td>\n",
       "      <td>-0.025000</td>\n",
       "      <td>0.000000</td>\n",
       "      <td>0.000000</td>\n",
       "      <td>0.500000</td>\n",
       "      <td>0.000000</td>\n",
       "    </tr>\n",
       "    <tr>\n",
       "      <th>235</th>\n",
       "      <td>1</td>\n",
       "      <td>309.0</td>\n",
       "      <td>9.0</td>\n",
       "      <td>1129.0</td>\n",
       "      <td>0.455046</td>\n",
       "      <td>1.0</td>\n",
       "      <td>0.623894</td>\n",
       "      <td>20.0</td>\n",
       "      <td>1.0</td>\n",
       "      <td>11.0</td>\n",
       "      <td>...</td>\n",
       "      <td>0.466204</td>\n",
       "      <td>0.100000</td>\n",
       "      <td>1.0</td>\n",
       "      <td>-0.334791</td>\n",
       "      <td>-1.0</td>\n",
       "      <td>-0.071429</td>\n",
       "      <td>1.000000</td>\n",
       "      <td>0.850000</td>\n",
       "      <td>0.500000</td>\n",
       "      <td>0.850000</td>\n",
       "    </tr>\n",
       "    <tr>\n",
       "      <th>5157</th>\n",
       "      <td>1</td>\n",
       "      <td>255.0</td>\n",
       "      <td>11.0</td>\n",
       "      <td>383.0</td>\n",
       "      <td>0.590426</td>\n",
       "      <td>1.0</td>\n",
       "      <td>0.778281</td>\n",
       "      <td>8.0</td>\n",
       "      <td>0.0</td>\n",
       "      <td>2.0</td>\n",
       "      <td>...</td>\n",
       "      <td>0.437073</td>\n",
       "      <td>0.050000</td>\n",
       "      <td>1.0</td>\n",
       "      <td>-0.320486</td>\n",
       "      <td>-1.0</td>\n",
       "      <td>-0.125000</td>\n",
       "      <td>0.500000</td>\n",
       "      <td>0.500000</td>\n",
       "      <td>0.000000</td>\n",
       "      <td>0.500000</td>\n",
       "    </tr>\n",
       "  </tbody>\n",
       "</table>\n",
       "<p>4500 rows × 60 columns</p>\n",
       "</div>"
      ],
      "text/plain": [
       "      Popular  timedelta  n_tokens_title  n_tokens_content  n_unique_tokens  \\\n",
       "2420        1      287.0            10.0             794.0         0.480720   \n",
       "1225        1      265.0             8.0             748.0         0.460114   \n",
       "324         0      375.0            12.0            2104.0         0.341929   \n",
       "5863        1      388.0             9.0            1281.0         0.461039   \n",
       "86          1      627.0            10.0             306.0         0.530612   \n",
       "...       ...        ...             ...               ...              ...   \n",
       "905         0      212.0            11.0             549.0         0.528545   \n",
       "5192        0       78.0            10.0             317.0         0.691489   \n",
       "3980        1      430.0            11.0            1105.0         0.413632   \n",
       "235         1      309.0             9.0            1129.0         0.455046   \n",
       "5157        1      255.0            11.0             383.0         0.590426   \n",
       "\n",
       "      n_non_stop_words  n_non_stop_unique_tokens  num_hrefs  num_self_hrefs  \\\n",
       "2420               1.0                  0.712589       11.0             1.0   \n",
       "1225               1.0                  0.582809       16.0             2.0   \n",
       "324                1.0                  0.508544       61.0            14.0   \n",
       "5863               1.0                  0.647832       36.0            33.0   \n",
       "86                 1.0                  0.601010       13.0             1.0   \n",
       "...                ...                       ...        ...             ...   \n",
       "905                1.0                  0.667614       11.0             2.0   \n",
       "5192               1.0                  0.793269       14.0             3.0   \n",
       "3980               1.0                  0.612903        8.0             4.0   \n",
       "235                1.0                  0.623894       20.0             1.0   \n",
       "5157               1.0                  0.778281        8.0             0.0   \n",
       "\n",
       "      num_imgs  ...  avg_positive_polarity  min_positive_polarity  \\\n",
       "2420      10.0  ...               0.425597               0.062500   \n",
       "1225      16.0  ...               0.318308               0.083333   \n",
       "324       32.0  ...               0.432095               0.033333   \n",
       "5863      14.0  ...               0.452616               0.033333   \n",
       "86         9.0  ...               0.415417               0.100000   \n",
       "...        ...  ...                    ...                    ...   \n",
       "905        1.0  ...               0.373900               0.062500   \n",
       "5192       1.0  ...               0.361364               0.200000   \n",
       "3980       1.0  ...               0.359703               0.062500   \n",
       "235       11.0  ...               0.466204               0.100000   \n",
       "5157       2.0  ...               0.437073               0.050000   \n",
       "\n",
       "      max_positive_polarity  avg_negative_polarity  min_negative_polarity  \\\n",
       "2420                    1.0              -0.227238                   -0.5   \n",
       "1225                    0.7              -0.473413                   -0.7   \n",
       "324                     1.0              -0.236244                   -0.8   \n",
       "5863                    1.0              -0.188155                   -0.4   \n",
       "86                      1.0              -0.292361                   -0.6   \n",
       "...                     ...                    ...                    ...   \n",
       "905                     0.6              -0.356667                   -0.6   \n",
       "5192                    0.7              -0.278472                   -0.4   \n",
       "3980                    1.0              -0.258218                   -0.7   \n",
       "235                     1.0              -0.334791                   -1.0   \n",
       "5157                    1.0              -0.320486                   -1.0   \n",
       "\n",
       "      max_negative_polarity  title_subjectivity  title_sentiment_polarity  \\\n",
       "2420              -0.050000            0.000000                  0.000000   \n",
       "1225              -0.100000            0.400000                  0.100000   \n",
       "324               -0.050000            0.454545                  0.136364   \n",
       "5863              -0.050000            0.000000                  0.000000   \n",
       "86                -0.066667            0.357143                  0.000000   \n",
       "...                     ...                 ...                       ...   \n",
       "905               -0.166667            0.800000                  0.250000   \n",
       "5192              -0.125000            0.500000                  0.500000   \n",
       "3980              -0.025000            0.000000                  0.000000   \n",
       "235               -0.071429            1.000000                  0.850000   \n",
       "5157              -0.125000            0.500000                  0.500000   \n",
       "\n",
       "      abs_title_subjectivity  abs_title_sentiment_polarity  \n",
       "2420                0.500000                      0.000000  \n",
       "1225                0.100000                      0.100000  \n",
       "324                 0.045455                      0.136364  \n",
       "5863                0.500000                      0.000000  \n",
       "86                  0.142857                      0.000000  \n",
       "...                      ...                           ...  \n",
       "905                 0.300000                      0.250000  \n",
       "5192                0.000000                      0.500000  \n",
       "3980                0.500000                      0.000000  \n",
       "235                 0.500000                      0.850000  \n",
       "5157                0.000000                      0.500000  \n",
       "\n",
       "[4500 rows x 60 columns]"
      ]
     },
     "execution_count": 42,
     "metadata": {},
     "output_type": "execute_result"
    }
   ],
   "source": [
    "train=pd.concat([y_train, X_train], axis=1)\n",
    "test=pd.concat([y_test, X_test], axis=1)\n",
    "train"
   ]
  },
  {
   "cell_type": "code",
   "execution_count": 43,
   "metadata": {},
   "outputs": [
    {
     "data": {
      "text/plain": [
       "array([3582, 3454, 1346, ..., 2409, 3823,  992])"
      ]
     },
     "execution_count": 43,
     "metadata": {},
     "output_type": "execute_result"
    }
   ],
   "source": [
    "# set a seed for reproducibility\n",
    "np.random.seed(123)\n",
    "\n",
    "n_B = 100\n",
    "n_samples = train.shape[0]\n",
    "\n",
    "samples_1 = [np.random.choice(a=n_samples, size=n_samples, replace=True) for _ in range(1, n_B +1 )]\n",
    "samples_1[0]"
   ]
  },
  {
   "cell_type": "markdown",
   "metadata": {},
   "source": [
    "En primer lugar, calcularemos 100 árboles de decisión calculados con 100 muestras obtenidas por boostrap. En este caso el parámetro max_depth es None"
   ]
  },
  {
   "cell_type": "code",
   "execution_count": 44,
   "metadata": {},
   "outputs": [],
   "source": [
    "clf = DecisionTreeClassifier(max_depth=None, random_state=123)\n",
    "\n",
    "y_pred_dtc1 = pd.DataFrame(index=test.index, columns=[list(range(n_B))])\n",
    "    \n",
    "for i, sample in enumerate(samples_1):\n",
    "    X_train = train.iloc[sample, 1:]\n",
    "    y_train = train.iloc[sample, 0]\n",
    "    clf.fit(X_train, y_train)\n",
    "    y_pred_dtc1[[i]] = clf.predict(X_test)"
   ]
  },
  {
   "cell_type": "code",
   "execution_count": 45,
   "metadata": {},
   "outputs": [
    {
     "data": {
      "text/html": [
       "<div>\n",
       "<style scoped>\n",
       "    .dataframe tbody tr th:only-of-type {\n",
       "        vertical-align: middle;\n",
       "    }\n",
       "\n",
       "    .dataframe tbody tr th {\n",
       "        vertical-align: top;\n",
       "    }\n",
       "\n",
       "    .dataframe thead tr th {\n",
       "        text-align: left;\n",
       "    }\n",
       "</style>\n",
       "<table border=\"1\" class=\"dataframe\">\n",
       "  <thead>\n",
       "    <tr>\n",
       "      <th></th>\n",
       "      <th>0</th>\n",
       "      <th>1</th>\n",
       "      <th>2</th>\n",
       "      <th>3</th>\n",
       "      <th>4</th>\n",
       "      <th>5</th>\n",
       "      <th>6</th>\n",
       "      <th>7</th>\n",
       "      <th>8</th>\n",
       "      <th>9</th>\n",
       "      <th>...</th>\n",
       "      <th>90</th>\n",
       "      <th>91</th>\n",
       "      <th>92</th>\n",
       "      <th>93</th>\n",
       "      <th>94</th>\n",
       "      <th>95</th>\n",
       "      <th>96</th>\n",
       "      <th>97</th>\n",
       "      <th>98</th>\n",
       "      <th>99</th>\n",
       "    </tr>\n",
       "  </thead>\n",
       "  <tbody>\n",
       "    <tr>\n",
       "      <th>1483</th>\n",
       "      <td>1</td>\n",
       "      <td>1</td>\n",
       "      <td>0</td>\n",
       "      <td>0</td>\n",
       "      <td>1</td>\n",
       "      <td>1</td>\n",
       "      <td>0</td>\n",
       "      <td>1</td>\n",
       "      <td>1</td>\n",
       "      <td>1</td>\n",
       "      <td>...</td>\n",
       "      <td>1</td>\n",
       "      <td>1</td>\n",
       "      <td>1</td>\n",
       "      <td>1</td>\n",
       "      <td>1</td>\n",
       "      <td>1</td>\n",
       "      <td>1</td>\n",
       "      <td>1</td>\n",
       "      <td>1</td>\n",
       "      <td>1</td>\n",
       "    </tr>\n",
       "    <tr>\n",
       "      <th>2185</th>\n",
       "      <td>1</td>\n",
       "      <td>1</td>\n",
       "      <td>1</td>\n",
       "      <td>1</td>\n",
       "      <td>0</td>\n",
       "      <td>1</td>\n",
       "      <td>0</td>\n",
       "      <td>1</td>\n",
       "      <td>1</td>\n",
       "      <td>0</td>\n",
       "      <td>...</td>\n",
       "      <td>1</td>\n",
       "      <td>0</td>\n",
       "      <td>1</td>\n",
       "      <td>1</td>\n",
       "      <td>0</td>\n",
       "      <td>1</td>\n",
       "      <td>1</td>\n",
       "      <td>1</td>\n",
       "      <td>1</td>\n",
       "      <td>1</td>\n",
       "    </tr>\n",
       "  </tbody>\n",
       "</table>\n",
       "<p>2 rows × 100 columns</p>\n",
       "</div>"
      ],
      "text/plain": [
       "     0  1  2  3  4  5  6  7  8  9   ... 90 91 92 93 94 95 96 97 98 99\n",
       "1483  1  1  0  0  1  1  0  1  1  1  ...  1  1  1  1  1  1  1  1  1  1\n",
       "2185  1  1  1  1  0  1  0  1  1  0  ...  1  0  1  1  0  1  1  1  1  1\n",
       "\n",
       "[2 rows x 100 columns]"
      ]
     },
     "execution_count": 45,
     "metadata": {},
     "output_type": "execute_result"
    }
   ],
   "source": [
    "y_pred_dtc1.head(2)"
   ]
  },
  {
   "cell_type": "markdown",
   "metadata": {},
   "source": [
    "En segundo lugar, calcularemos otros 100 árboles de decisión, pero con parámetro max_depth 2. Estos serán estimados con otras 100 muestras obtenidas por boostrap."
   ]
  },
  {
   "cell_type": "code",
   "execution_count": 46,
   "metadata": {},
   "outputs": [
    {
     "data": {
      "text/plain": [
       "array([ 135,  962,  681, ..., 1659, 3068,  720])"
      ]
     },
     "execution_count": 46,
     "metadata": {},
     "output_type": "execute_result"
    }
   ],
   "source": [
    "# set a seed for reproducibility\n",
    "np.random.seed(124)\n",
    "\n",
    "n_B = 100\n",
    "n_samples = train.shape[0]\n",
    "\n",
    "samples_2 = [np.random.choice(a=n_samples, size=n_samples, replace=True) for _ in range(1, n_B +1 )]\n",
    "samples_2[0]"
   ]
  },
  {
   "cell_type": "code",
   "execution_count": 47,
   "metadata": {},
   "outputs": [],
   "source": [
    "clf = DecisionTreeClassifier(max_depth=2, random_state=123)\n",
    "\n",
    "y_pred_dtc2 = pd.DataFrame(index=test.index, columns=[list(range(n_B))])\n",
    "    \n",
    "for i, sample in enumerate(samples_2):\n",
    "    X_train = train.iloc[sample, 1:]\n",
    "    y_train = train.iloc[sample, 0]\n",
    "    clf.fit(X_train, y_train)\n",
    "    y_pred_dtc2[[i]] = clf.predict(X_test)"
   ]
  },
  {
   "cell_type": "code",
   "execution_count": 48,
   "metadata": {},
   "outputs": [
    {
     "data": {
      "text/html": [
       "<div>\n",
       "<style scoped>\n",
       "    .dataframe tbody tr th:only-of-type {\n",
       "        vertical-align: middle;\n",
       "    }\n",
       "\n",
       "    .dataframe tbody tr th {\n",
       "        vertical-align: top;\n",
       "    }\n",
       "\n",
       "    .dataframe thead tr th {\n",
       "        text-align: left;\n",
       "    }\n",
       "</style>\n",
       "<table border=\"1\" class=\"dataframe\">\n",
       "  <thead>\n",
       "    <tr>\n",
       "      <th></th>\n",
       "      <th>0</th>\n",
       "      <th>1</th>\n",
       "      <th>2</th>\n",
       "      <th>3</th>\n",
       "      <th>4</th>\n",
       "      <th>5</th>\n",
       "      <th>6</th>\n",
       "      <th>7</th>\n",
       "      <th>8</th>\n",
       "      <th>9</th>\n",
       "      <th>...</th>\n",
       "      <th>90</th>\n",
       "      <th>91</th>\n",
       "      <th>92</th>\n",
       "      <th>93</th>\n",
       "      <th>94</th>\n",
       "      <th>95</th>\n",
       "      <th>96</th>\n",
       "      <th>97</th>\n",
       "      <th>98</th>\n",
       "      <th>99</th>\n",
       "    </tr>\n",
       "  </thead>\n",
       "  <tbody>\n",
       "    <tr>\n",
       "      <th>1483</th>\n",
       "      <td>1</td>\n",
       "      <td>1</td>\n",
       "      <td>1</td>\n",
       "      <td>1</td>\n",
       "      <td>1</td>\n",
       "      <td>1</td>\n",
       "      <td>1</td>\n",
       "      <td>1</td>\n",
       "      <td>1</td>\n",
       "      <td>1</td>\n",
       "      <td>...</td>\n",
       "      <td>1</td>\n",
       "      <td>1</td>\n",
       "      <td>1</td>\n",
       "      <td>1</td>\n",
       "      <td>1</td>\n",
       "      <td>1</td>\n",
       "      <td>1</td>\n",
       "      <td>1</td>\n",
       "      <td>1</td>\n",
       "      <td>1</td>\n",
       "    </tr>\n",
       "    <tr>\n",
       "      <th>2185</th>\n",
       "      <td>1</td>\n",
       "      <td>1</td>\n",
       "      <td>1</td>\n",
       "      <td>1</td>\n",
       "      <td>1</td>\n",
       "      <td>1</td>\n",
       "      <td>1</td>\n",
       "      <td>1</td>\n",
       "      <td>1</td>\n",
       "      <td>1</td>\n",
       "      <td>...</td>\n",
       "      <td>1</td>\n",
       "      <td>1</td>\n",
       "      <td>1</td>\n",
       "      <td>1</td>\n",
       "      <td>1</td>\n",
       "      <td>1</td>\n",
       "      <td>1</td>\n",
       "      <td>1</td>\n",
       "      <td>1</td>\n",
       "      <td>1</td>\n",
       "    </tr>\n",
       "  </tbody>\n",
       "</table>\n",
       "<p>2 rows × 100 columns</p>\n",
       "</div>"
      ],
      "text/plain": [
       "     0  1  2  3  4  5  6  7  8  9   ... 90 91 92 93 94 95 96 97 98 99\n",
       "1483  1  1  1  1  1  1  1  1  1  1  ...  1  1  1  1  1  1  1  1  1  1\n",
       "2185  1  1  1  1  1  1  1  1  1  1  ...  1  1  1  1  1  1  1  1  1  1\n",
       "\n",
       "[2 rows x 100 columns]"
      ]
     },
     "execution_count": 48,
     "metadata": {},
     "output_type": "execute_result"
    }
   ],
   "source": [
    "y_pred_dtc2.head(2)"
   ]
  },
  {
   "cell_type": "markdown",
   "metadata": {},
   "source": [
    "En tercer lugar, calcularemos 100 regresiones logísticas. "
   ]
  },
  {
   "cell_type": "code",
   "execution_count": 49,
   "metadata": {},
   "outputs": [
    {
     "data": {
      "text/plain": [
       "array([3005, 2205, 3927, ...,  828, 1933, 2512])"
      ]
     },
     "execution_count": 49,
     "metadata": {},
     "output_type": "execute_result"
    }
   ],
   "source": [
    "# set a seed for reproducibility\n",
    "np.random.seed(125)\n",
    "\n",
    "n_B = 100\n",
    "n_samples = train.shape[0]\n",
    "\n",
    "samples_3 = [np.random.choice(a=n_samples, size=n_samples, replace=True) for _ in range(1, n_B +1 )]\n",
    "\n",
    "samples_3[0]"
   ]
  },
  {
   "cell_type": "code",
   "execution_count": 50,
   "metadata": {},
   "outputs": [],
   "source": [
    "from sklearn.linear_model import LogisticRegression\n",
    "\n",
    "clf = LogisticRegression(random_state=123, max_iter=10000)\n",
    "\n",
    "y_pred_logit = pd.DataFrame(index=test.index, columns=[list(range(n_B))])\n",
    "    \n",
    "for i, sample in enumerate(samples_3):\n",
    "    X_train = train.iloc[sample, 1:]\n",
    "    y_train = train.iloc[sample, 0]\n",
    "    clf.fit(X_train, y_train)\n",
    "    y_pred_logit[[i]] = clf.predict(X_test)"
   ]
  },
  {
   "cell_type": "code",
   "execution_count": 51,
   "metadata": {},
   "outputs": [
    {
     "data": {
      "text/html": [
       "<div>\n",
       "<style scoped>\n",
       "    .dataframe tbody tr th:only-of-type {\n",
       "        vertical-align: middle;\n",
       "    }\n",
       "\n",
       "    .dataframe tbody tr th {\n",
       "        vertical-align: top;\n",
       "    }\n",
       "\n",
       "    .dataframe thead tr th {\n",
       "        text-align: left;\n",
       "    }\n",
       "</style>\n",
       "<table border=\"1\" class=\"dataframe\">\n",
       "  <thead>\n",
       "    <tr>\n",
       "      <th></th>\n",
       "      <th>0</th>\n",
       "      <th>1</th>\n",
       "      <th>2</th>\n",
       "      <th>3</th>\n",
       "      <th>4</th>\n",
       "      <th>5</th>\n",
       "      <th>6</th>\n",
       "      <th>7</th>\n",
       "      <th>8</th>\n",
       "      <th>9</th>\n",
       "      <th>...</th>\n",
       "      <th>90</th>\n",
       "      <th>91</th>\n",
       "      <th>92</th>\n",
       "      <th>93</th>\n",
       "      <th>94</th>\n",
       "      <th>95</th>\n",
       "      <th>96</th>\n",
       "      <th>97</th>\n",
       "      <th>98</th>\n",
       "      <th>99</th>\n",
       "    </tr>\n",
       "  </thead>\n",
       "  <tbody>\n",
       "    <tr>\n",
       "      <th>1483</th>\n",
       "      <td>1</td>\n",
       "      <td>1</td>\n",
       "      <td>1</td>\n",
       "      <td>1</td>\n",
       "      <td>1</td>\n",
       "      <td>1</td>\n",
       "      <td>1</td>\n",
       "      <td>1</td>\n",
       "      <td>1</td>\n",
       "      <td>1</td>\n",
       "      <td>...</td>\n",
       "      <td>1</td>\n",
       "      <td>1</td>\n",
       "      <td>1</td>\n",
       "      <td>1</td>\n",
       "      <td>1</td>\n",
       "      <td>1</td>\n",
       "      <td>1</td>\n",
       "      <td>1</td>\n",
       "      <td>1</td>\n",
       "      <td>1</td>\n",
       "    </tr>\n",
       "    <tr>\n",
       "      <th>2185</th>\n",
       "      <td>1</td>\n",
       "      <td>1</td>\n",
       "      <td>1</td>\n",
       "      <td>1</td>\n",
       "      <td>1</td>\n",
       "      <td>1</td>\n",
       "      <td>1</td>\n",
       "      <td>1</td>\n",
       "      <td>1</td>\n",
       "      <td>1</td>\n",
       "      <td>...</td>\n",
       "      <td>1</td>\n",
       "      <td>1</td>\n",
       "      <td>1</td>\n",
       "      <td>1</td>\n",
       "      <td>1</td>\n",
       "      <td>1</td>\n",
       "      <td>1</td>\n",
       "      <td>1</td>\n",
       "      <td>1</td>\n",
       "      <td>1</td>\n",
       "    </tr>\n",
       "  </tbody>\n",
       "</table>\n",
       "<p>2 rows × 100 columns</p>\n",
       "</div>"
      ],
      "text/plain": [
       "     0  1  2  3  4  5  6  7  8  9   ... 90 91 92 93 94 95 96 97 98 99\n",
       "1483  1  1  1  1  1  1  1  1  1  1  ...  1  1  1  1  1  1  1  1  1  1\n",
       "2185  1  1  1  1  1  1  1  1  1  1  ...  1  1  1  1  1  1  1  1  1  1\n",
       "\n",
       "[2 rows x 100 columns]"
      ]
     },
     "execution_count": 51,
     "metadata": {},
     "output_type": "execute_result"
    }
   ],
   "source": [
    "y_pred_logit.head(2)"
   ]
  },
  {
   "cell_type": "markdown",
   "metadata": {},
   "source": [
    "# Exercise 7.8\n",
    "\n",
    "Ensemble using majority voting\n",
    "\n",
    "Evaluate using the following metrics:\n",
    "* Accuracy\n",
    "* F1-Score"
   ]
  },
  {
   "cell_type": "code",
   "execution_count": 52,
   "metadata": {},
   "outputs": [
    {
     "data": {
      "text/plain": [
       "(1500, 300)"
      ]
     },
     "execution_count": 52,
     "metadata": {},
     "output_type": "execute_result"
    }
   ],
   "source": [
    "y_pred_ensamb=pd.concat([y_pred_logit, y_pred_dtc2, y_pred_dtc1], axis=1)\n",
    "y_pred_ensamb.shape"
   ]
  },
  {
   "cell_type": "code",
   "execution_count": 53,
   "metadata": {},
   "outputs": [
    {
     "data": {
      "text/plain": [
       "1483    1.0\n",
       "2185    1.0\n",
       "2520    1.0\n",
       "3721    1.0\n",
       "3727    0.0\n",
       "       ... \n",
       "3077    0.0\n",
       "5166    0.0\n",
       "2227    1.0\n",
       "5684    0.0\n",
       "1937    0.0\n",
       "Length: 1500, dtype: float64"
      ]
     },
     "execution_count": 53,
     "metadata": {},
     "output_type": "execute_result"
    }
   ],
   "source": [
    "y_pred=round((y_pred_ensamb.sum(axis=1)/300))\n",
    "y_pred"
   ]
  },
  {
   "cell_type": "code",
   "execution_count": 54,
   "metadata": {},
   "outputs": [
    {
     "name": "stdout",
     "output_type": "stream",
     "text": [
      "accuracy: 0.6353333333333333 F1_score: 0.6235375086028905\n"
     ]
    }
   ],
   "source": [
    "from sklearn import metrics\n",
    "\n",
    "print(\"accuracy: \"+str(accuracy_score(y_test, y_pred))+\" F1_score: \"+str(f1_score(y_test, y_pred)))\n"
   ]
  },
  {
   "cell_type": "markdown",
   "metadata": {},
   "source": [
    "# Exercise 7.9\n",
    "\n",
    "Estimate te probability as %models that predict positive\n",
    "\n",
    "Modify the probability threshold and select the one that maximizes the F1-Score"
   ]
  },
  {
   "cell_type": "code",
   "execution_count": 55,
   "metadata": {},
   "outputs": [],
   "source": [
    "prob_pred=y_pred_ensamb.sum(axis=1)/300"
   ]
  },
  {
   "cell_type": "code",
   "execution_count": 56,
   "metadata": {},
   "outputs": [
    {
     "data": {
      "text/plain": [
       "1483    0.943333\n",
       "2185    0.873333\n",
       "2520    0.840000\n",
       "3721    0.920000\n",
       "3727    0.063333\n",
       "          ...   \n",
       "3077    0.413333\n",
       "5166    0.130000\n",
       "2227    0.853333\n",
       "5684    0.146667\n",
       "1937    0.110000\n",
       "Length: 1500, dtype: float64"
      ]
     },
     "execution_count": 56,
     "metadata": {},
     "output_type": "execute_result"
    }
   ],
   "source": [
    "prob_pred"
   ]
  },
  {
   "cell_type": "code",
   "execution_count": 57,
   "metadata": {},
   "outputs": [],
   "source": [
    "y_pred2=pd.DataFrame(index=prob_pred.index, columns=[np.arange(0.1, 1, 0.1)])"
   ]
  },
  {
   "cell_type": "code",
   "execution_count": 58,
   "metadata": {},
   "outputs": [],
   "source": [
    "count=0\n",
    "for threshold in list(np.arange(0.1, 1, 0.1)):\n",
    "    for i in range(1500):\n",
    "        if prob_pred.iloc[i] >=threshold:\n",
    "            y_pred2.iloc[i, count]=1\n",
    "        else:\n",
    "            y_pred2.iloc[i, count]=0\n",
    "    count=count+1\n",
    "    "
   ]
  },
  {
   "cell_type": "code",
   "execution_count": 59,
   "metadata": {},
   "outputs": [
    {
     "data": {
      "text/html": [
       "<div>\n",
       "<style scoped>\n",
       "    .dataframe tbody tr th:only-of-type {\n",
       "        vertical-align: middle;\n",
       "    }\n",
       "\n",
       "    .dataframe tbody tr th {\n",
       "        vertical-align: top;\n",
       "    }\n",
       "\n",
       "    .dataframe thead tr th {\n",
       "        text-align: left;\n",
       "    }\n",
       "</style>\n",
       "<table border=\"1\" class=\"dataframe\">\n",
       "  <thead>\n",
       "    <tr>\n",
       "      <th></th>\n",
       "      <th>0.1</th>\n",
       "      <th>0.2</th>\n",
       "      <th>0.3</th>\n",
       "      <th>0.4</th>\n",
       "      <th>0.5</th>\n",
       "      <th>0.6</th>\n",
       "      <th>0.7</th>\n",
       "      <th>0.8</th>\n",
       "      <th>0.9</th>\n",
       "    </tr>\n",
       "  </thead>\n",
       "  <tbody>\n",
       "    <tr>\n",
       "      <th>1483</th>\n",
       "      <td>1</td>\n",
       "      <td>1</td>\n",
       "      <td>1</td>\n",
       "      <td>1</td>\n",
       "      <td>1</td>\n",
       "      <td>1</td>\n",
       "      <td>1</td>\n",
       "      <td>1</td>\n",
       "      <td>1</td>\n",
       "    </tr>\n",
       "    <tr>\n",
       "      <th>2185</th>\n",
       "      <td>1</td>\n",
       "      <td>1</td>\n",
       "      <td>1</td>\n",
       "      <td>1</td>\n",
       "      <td>1</td>\n",
       "      <td>1</td>\n",
       "      <td>1</td>\n",
       "      <td>1</td>\n",
       "      <td>0</td>\n",
       "    </tr>\n",
       "    <tr>\n",
       "      <th>2520</th>\n",
       "      <td>1</td>\n",
       "      <td>1</td>\n",
       "      <td>1</td>\n",
       "      <td>1</td>\n",
       "      <td>1</td>\n",
       "      <td>1</td>\n",
       "      <td>1</td>\n",
       "      <td>1</td>\n",
       "      <td>0</td>\n",
       "    </tr>\n",
       "    <tr>\n",
       "      <th>3721</th>\n",
       "      <td>1</td>\n",
       "      <td>1</td>\n",
       "      <td>1</td>\n",
       "      <td>1</td>\n",
       "      <td>1</td>\n",
       "      <td>1</td>\n",
       "      <td>1</td>\n",
       "      <td>1</td>\n",
       "      <td>1</td>\n",
       "    </tr>\n",
       "    <tr>\n",
       "      <th>3727</th>\n",
       "      <td>0</td>\n",
       "      <td>0</td>\n",
       "      <td>0</td>\n",
       "      <td>0</td>\n",
       "      <td>0</td>\n",
       "      <td>0</td>\n",
       "      <td>0</td>\n",
       "      <td>0</td>\n",
       "      <td>0</td>\n",
       "    </tr>\n",
       "    <tr>\n",
       "      <th>...</th>\n",
       "      <td>...</td>\n",
       "      <td>...</td>\n",
       "      <td>...</td>\n",
       "      <td>...</td>\n",
       "      <td>...</td>\n",
       "      <td>...</td>\n",
       "      <td>...</td>\n",
       "      <td>...</td>\n",
       "      <td>...</td>\n",
       "    </tr>\n",
       "    <tr>\n",
       "      <th>3077</th>\n",
       "      <td>1</td>\n",
       "      <td>1</td>\n",
       "      <td>1</td>\n",
       "      <td>1</td>\n",
       "      <td>0</td>\n",
       "      <td>0</td>\n",
       "      <td>0</td>\n",
       "      <td>0</td>\n",
       "      <td>0</td>\n",
       "    </tr>\n",
       "    <tr>\n",
       "      <th>5166</th>\n",
       "      <td>1</td>\n",
       "      <td>0</td>\n",
       "      <td>0</td>\n",
       "      <td>0</td>\n",
       "      <td>0</td>\n",
       "      <td>0</td>\n",
       "      <td>0</td>\n",
       "      <td>0</td>\n",
       "      <td>0</td>\n",
       "    </tr>\n",
       "    <tr>\n",
       "      <th>2227</th>\n",
       "      <td>1</td>\n",
       "      <td>1</td>\n",
       "      <td>1</td>\n",
       "      <td>1</td>\n",
       "      <td>1</td>\n",
       "      <td>1</td>\n",
       "      <td>1</td>\n",
       "      <td>1</td>\n",
       "      <td>0</td>\n",
       "    </tr>\n",
       "    <tr>\n",
       "      <th>5684</th>\n",
       "      <td>1</td>\n",
       "      <td>0</td>\n",
       "      <td>0</td>\n",
       "      <td>0</td>\n",
       "      <td>0</td>\n",
       "      <td>0</td>\n",
       "      <td>0</td>\n",
       "      <td>0</td>\n",
       "      <td>0</td>\n",
       "    </tr>\n",
       "    <tr>\n",
       "      <th>1937</th>\n",
       "      <td>1</td>\n",
       "      <td>0</td>\n",
       "      <td>0</td>\n",
       "      <td>0</td>\n",
       "      <td>0</td>\n",
       "      <td>0</td>\n",
       "      <td>0</td>\n",
       "      <td>0</td>\n",
       "      <td>0</td>\n",
       "    </tr>\n",
       "  </tbody>\n",
       "</table>\n",
       "<p>1500 rows × 9 columns</p>\n",
       "</div>"
      ],
      "text/plain": [
       "     0.1 0.2 0.3 0.4 0.5 0.6 0.7 0.8 0.9\n",
       "1483   1   1   1   1   1   1   1   1   1\n",
       "2185   1   1   1   1   1   1   1   1   0\n",
       "2520   1   1   1   1   1   1   1   1   0\n",
       "3721   1   1   1   1   1   1   1   1   1\n",
       "3727   0   0   0   0   0   0   0   0   0\n",
       "...   ..  ..  ..  ..  ..  ..  ..  ..  ..\n",
       "3077   1   1   1   1   0   0   0   0   0\n",
       "5166   1   0   0   0   0   0   0   0   0\n",
       "2227   1   1   1   1   1   1   1   1   0\n",
       "5684   1   0   0   0   0   0   0   0   0\n",
       "1937   1   0   0   0   0   0   0   0   0\n",
       "\n",
       "[1500 rows x 9 columns]"
      ]
     },
     "execution_count": 59,
     "metadata": {},
     "output_type": "execute_result"
    }
   ],
   "source": [
    "y_pred2"
   ]
  },
  {
   "cell_type": "code",
   "execution_count": 60,
   "metadata": {},
   "outputs": [],
   "source": [
    "from sklearn.metrics import f1_score\n",
    "\n",
    "scores=list()\n",
    "\n",
    "for i in range(9):\n",
    "    a=f1_score(y_test, y_pred2.iloc[:,i])\n",
    "    scores.append(a)\n"
   ]
  },
  {
   "cell_type": "code",
   "execution_count": 61,
   "metadata": {},
   "outputs": [
    {
     "data": {
      "text/plain": [
       "0.6968674698795181"
      ]
     },
     "execution_count": 61,
     "metadata": {},
     "output_type": "execute_result"
    }
   ],
   "source": [
    "f1_score(y_test, y_pred2.iloc[:,0])"
   ]
  },
  {
   "cell_type": "code",
   "execution_count": 62,
   "metadata": {},
   "outputs": [
    {
     "data": {
      "image/png": "[encoded data removed]",
      "text/plain": [
       "<Figure size 432x288 with 1 Axes>"
      ]
     },
     "metadata": {
      "needs_background": "light"
     },
     "output_type": "display_data"
    }
   ],
   "source": [
    "plt.plot(np.arange(0.1, 1, 0.1), scores)\n",
    "plt.xlabel('Thresholds')\n",
    "plt.ylabel('F1-Score');\n"
   ]
  },
  {
   "cell_type": "markdown",
   "metadata": {},
   "source": [
    "Se evidencia que el threshold que maximiza el F1-Score es 0.1"
   ]
  },
  {
   "cell_type": "code",
   "execution_count": 63,
   "metadata": {},
   "outputs": [
    {
     "data": {
      "text/plain": [
       "[0.6968674698795181,\n",
       " 0.6824207492795388,\n",
       " 0.6658506731946144,\n",
       " 0.6560913705583756,\n",
       " 0.6236263736263737,\n",
       " 0.5966201322556944,\n",
       " 0.5779816513761468,\n",
       " 0.5373376623376623,\n",
       " 0.2936763129689175]"
      ]
     },
     "execution_count": 63,
     "metadata": {},
     "output_type": "execute_result"
    }
   ],
   "source": [
    "scores"
   ]
  },
  {
   "cell_type": "markdown",
   "metadata": {},
   "source": [
    "# Exercise 7.10\n",
    "\n",
    "Ensemble using weighted voting using the oob_error\n",
    "\n",
    "Evaluate using the following metrics:\n",
    "* Accuracy\n",
    "* F1-Score"
   ]
  },
  {
   "cell_type": "code",
   "execution_count": 64,
   "metadata": {},
   "outputs": [
    {
     "data": {
      "text/plain": [
       "array([[3582, 3454, 1346, ..., 2409, 3823,  992],\n",
       "       [ 554, 1524, 1802, ..., 1314,  549, 1303],\n",
       "       [3259,  595,  126, ...,  246, 2641,  580],\n",
       "       ...,\n",
       "       [ 232, 4122, 4082, ..., 3438, 2129, 3069],\n",
       "       [ 909, 1470, 1056, ..., 3751, 2268, 4333],\n",
       "       [2721,   15, 3019, ..., 3457, 3303, 3198]])"
      ]
     },
     "execution_count": 64,
     "metadata": {},
     "output_type": "execute_result"
    }
   ],
   "source": [
    "total_samples=np.concatenate((samples_1, samples_2, samples_3))\n",
    "total_samples"
   ]
  },
  {
   "cell_type": "code",
   "execution_count": 65,
   "metadata": {},
   "outputs": [
    {
     "data": {
      "text/plain": [
       "4500"
      ]
     },
     "execution_count": 65,
     "metadata": {},
     "output_type": "execute_result"
    }
   ],
   "source": [
    "n_samples"
   ]
  },
  {
   "cell_type": "code",
   "execution_count": 66,
   "metadata": {},
   "outputs": [],
   "source": [
    "samples_oob = []\n",
    "# show the \"out-of-bag\" observations for each sample\n",
    "for sample in total_samples:\n",
    "    samples_oob.append(sorted(set(range(n_samples)) - set(sample)))"
   ]
  },
  {
   "cell_type": "code",
   "execution_count": 67,
   "metadata": {},
   "outputs": [],
   "source": [
    "n_estimators=300\n",
    "\n",
    "trees_1 = {}\n",
    "errors = np.zeros(n_estimators)\n",
    "\n",
    "for i in range(n_estimators):\n",
    "    if i<=100:\n",
    "        trees_1[i]=DecisionTreeClassifier(max_depth=None, random_state=123)\n",
    "        trees_1[i].fit(X_train.iloc[total_samples[i]], y_train.iloc[total_samples[i]])\n",
    "        y_pred_1 = trees_1[i].predict(X_train.iloc[samples_oob[i]])\n",
    "        errors[i] = 1 - metrics.accuracy_score(y_train.iloc[samples_oob[i]], y_pred_1)\n",
    "    elif i<=200:\n",
    "        trees_1[i]=DecisionTreeClassifier(max_depth=2, random_state=123)\n",
    "        trees_1[i].fit(X_train.iloc[total_samples[i]], y_train.iloc[total_samples[i]])\n",
    "        y_pred_1 = trees_1[i].predict(X_train.iloc[samples_oob[i]])\n",
    "        errors[i] = 1 - metrics.accuracy_score(y_train.iloc[samples_oob[i]], y_pred_1)\n",
    "    elif i<=300:\n",
    "        trees_1[i]=LogisticRegression(random_state=123, max_iter=10000)\n",
    "        trees_1[i].fit(X_train.iloc[total_samples[i]], y_train.iloc[total_samples[i]])\n",
    "        y_pred_1 = trees_1[i].predict(X_train.iloc[samples_oob[i]])\n",
    "        errors[i] = 1 - metrics.accuracy_score(y_train.iloc[samples_oob[i]], y_pred_1)"
   ]
  },
  {
   "cell_type": "code",
   "execution_count": 68,
   "metadata": {},
   "outputs": [
    {
     "data": {
      "image/png": "[encoded data removed]",
      "text/plain": [
       "<Figure size 432x288 with 1 Axes>"
      ]
     },
     "metadata": {},
     "output_type": "display_data"
    }
   ],
   "source": [
    "%matplotlib inline\n",
    "import matplotlib.pyplot as plt\n",
    "plt.style.use('fivethirtyeight')\n",
    "plt.scatter(range(n_estimators), errors)\n",
    "plt.xlim([0, n_estimators])\n",
    "plt.title('OOB error of each tree');"
   ]
  },
  {
   "cell_type": "code",
   "execution_count": 69,
   "metadata": {},
   "outputs": [],
   "source": [
    "alpha = (1 - errors) / (1 - errors).sum()"
   ]
  },
  {
   "cell_type": "code",
   "execution_count": 70,
   "metadata": {},
   "outputs": [],
   "source": [
    "y_pred_df = pd.DataFrame(index=X_test.index, columns=list(range(n_estimators)))\n",
    "for i in range(n_estimators):\n",
    "    y_pred_df.iloc[:, i] = trees_1[i].predict(X_test)"
   ]
  },
  {
   "cell_type": "code",
   "execution_count": 71,
   "metadata": {},
   "outputs": [],
   "source": [
    "weighted_sum_1 = ((y_pred_df) * alpha).sum(axis=1)"
   ]
  },
  {
   "cell_type": "code",
   "execution_count": 72,
   "metadata": {},
   "outputs": [
    {
     "data": {
      "text/plain": [
       "(0.6235375086028905, 0.6393333333333333)"
      ]
     },
     "execution_count": 72,
     "metadata": {},
     "output_type": "execute_result"
    }
   ],
   "source": [
    "y_pred_2 = (weighted_sum_1 >= 0.5).astype(np.int)\n",
    "\n",
    "metrics.f1_score(y_pred, y_test), metrics.accuracy_score(y_pred_2, y_test)"
   ]
  },
  {
   "cell_type": "markdown",
   "metadata": {},
   "source": [
    "# Exercise 7.11\n",
    "\n",
    "Estimate te probability of the weighted voting\n",
    "\n",
    "Modify the probability threshold and select the one that maximizes the F1-Score"
   ]
  },
  {
   "cell_type": "code",
   "execution_count": 73,
   "metadata": {},
   "outputs": [
    {
     "data": {
      "text/plain": [
       "1483    0.961797\n",
       "2185    0.908089\n",
       "2520    0.812814\n",
       "3721    0.885630\n",
       "3727    0.061191\n",
       "          ...   \n",
       "3077    0.373935\n",
       "5166    0.187687\n",
       "2227    0.796987\n",
       "5684    0.170983\n",
       "1937    0.126021\n",
       "Length: 1500, dtype: float64"
      ]
     },
     "execution_count": 73,
     "metadata": {},
     "output_type": "execute_result"
    }
   ],
   "source": [
    "weighted_sum_1"
   ]
  },
  {
   "cell_type": "code",
   "execution_count": 74,
   "metadata": {},
   "outputs": [],
   "source": [
    "y_pred_3=pd.DataFrame(index=weighted_sum_1.index, columns=[np.arange(0.1, 1, 0.1)])\n",
    "\n",
    "count=0\n",
    "for threshold in list(np.arange(0.1, 1, 0.1)):\n",
    "    for i in range(1500):\n",
    "        y_pred_3.iloc[i, count] = (weighted_sum_1.iloc[i]>= threshold).astype(np.int)\n",
    "    count=count+1"
   ]
  },
  {
   "cell_type": "code",
   "execution_count": 75,
   "metadata": {},
   "outputs": [],
   "source": [
    "from sklearn.metrics import f1_score\n",
    "\n",
    "scores2=list()\n",
    "\n",
    "for i in range(9):\n",
    "    a=f1_score(y_test, y_pred_3.iloc[:,i])\n",
    "    scores2.append(a)"
   ]
  },
  {
   "cell_type": "code",
   "execution_count": 76,
   "metadata": {},
   "outputs": [
    {
     "data": {
      "image/png": "[encoded data removed]",
      "text/plain": [
       "<Figure size 432x288 with 1 Axes>"
      ]
     },
     "metadata": {},
     "output_type": "display_data"
    }
   ],
   "source": [
    "plt.plot(np.arange(0.1, 1, 0.1), scores2)\n",
    "plt.xlabel('Thresholds')\n",
    "plt.ylabel('F1-Score');"
   ]
  },
  {
   "cell_type": "markdown",
   "metadata": {},
   "source": [
    "# Exercise 7.12\n",
    "\n",
    "Estimate a logistic regression using as input the estimated classifiers\n",
    "\n",
    "Modify the probability threshold such that maximizes the F1-Score"
   ]
  },
  {
   "cell_type": "code",
   "execution_count": 77,
   "metadata": {},
   "outputs": [],
   "source": [
    "n_estimators=300\n",
    "\n",
    "X_train_2 = pd.DataFrame(index=X_train.index, columns=list(range(n_estimators)))\n",
    "\n",
    "for i in range(n_estimators):\n",
    "    X_train_2[i] = trees_1[i].predict(X_train)\n",
    "        "
   ]
  },
  {
   "cell_type": "code",
   "execution_count": 78,
   "metadata": {},
   "outputs": [
    {
     "data": {
      "text/plain": [
       "LogisticRegression(C=1.0, class_weight=None, dual=False, fit_intercept=True,\n",
       "                   intercept_scaling=1, l1_ratio=None, max_iter=10000,\n",
       "                   multi_class='auto', n_jobs=None, penalty='l2',\n",
       "                   random_state=123, solver='lbfgs', tol=0.0001, verbose=0,\n",
       "                   warm_start=False)"
      ]
     },
     "execution_count": 78,
     "metadata": {},
     "output_type": "execute_result"
    }
   ],
   "source": [
    "lr = LogisticRegression(random_state=123, max_iter=10000)\n",
    "lr.fit(X_train_2, y_train)"
   ]
  },
  {
   "cell_type": "code",
   "execution_count": 79,
   "metadata": {},
   "outputs": [],
   "source": [
    "y_prob_final = lr.predict_proba(y_pred_df)"
   ]
  },
  {
   "cell_type": "code",
   "execution_count": 80,
   "metadata": {},
   "outputs": [
    {
     "data": {
      "text/plain": [
       "array([[9.45218060e-05, 9.99905478e-01],\n",
       "       [2.97507218e-03, 9.97024928e-01],\n",
       "       [5.74988158e-01, 4.25011842e-01],\n",
       "       ...,\n",
       "       [6.91201804e-01, 3.08798196e-01],\n",
       "       [7.36846401e-01, 2.63153599e-01],\n",
       "       [9.73942030e-01, 2.60579696e-02]])"
      ]
     },
     "execution_count": 80,
     "metadata": {},
     "output_type": "execute_result"
    }
   ],
   "source": [
    "y_prob_final"
   ]
  },
  {
   "cell_type": "code",
   "execution_count": 81,
   "metadata": {},
   "outputs": [],
   "source": [
    "y_pred_4=pd.DataFrame(index=y_pred_df.index, columns=[np.arange(0.1, 1, 0.1)])\n",
    "\n",
    "count=0\n",
    "for threshold in list(np.arange(0.1, 1, 0.1)):\n",
    "    for i in range(1500):\n",
    "        y_pred_4.iloc[i, count] = (y_prob_final[i, 1]>= threshold).astype(np.int)\n",
    "    count=count+1"
   ]
  },
  {
   "cell_type": "code",
   "execution_count": 82,
   "metadata": {},
   "outputs": [],
   "source": [
    "from sklearn.metrics import f1_score\n",
    "\n",
    "scores3=list()\n",
    "\n",
    "for i in range(9):\n",
    "    a=f1_score(y_test, y_pred_4.iloc[:,i])\n",
    "    scores3.append(a)"
   ]
  },
  {
   "cell_type": "code",
   "execution_count": 83,
   "metadata": {},
   "outputs": [
    {
     "data": {
      "image/png": "[encoded data removed]",
      "text/plain": [
       "<Figure size 432x288 with 1 Axes>"
      ]
     },
     "metadata": {},
     "output_type": "display_data"
    }
   ],
   "source": [
    "plt.plot(np.arange(0.1, 1, 0.1), scores3)\n",
    "plt.xlabel('Thresholds')\n",
    "plt.ylabel('F1-Score');"
   ]
  },
  {
   "cell_type": "code",
   "execution_count": 84,
   "metadata": {},
   "outputs": [
    {
     "data": {
      "text/plain": [
       "(0.6658385093167701, 0.6413333333333333)"
      ]
     },
     "execution_count": 84,
     "metadata": {},
     "output_type": "execute_result"
    }
   ],
   "source": [
    "metrics.f1_score(y_pred_4.iloc[:,3], y_test), metrics.accuracy_score(y_pred_4.iloc[:,3], y_test)"
   ]
  }
 ],
 "metadata": {
  "kernelspec": {
   "display_name": "Python 3",
   "language": "python",
   "name": "python3"
  },
  "language_info": {
   "codemirror_mode": {
    "name": "ipython",
    "version": 3
   },
   "file_extension": ".py",
   "mimetype": "text/x-python",
   "name": "python",
   "nbconvert_exporter": "python",
   "pygments_lexer": "ipython3",
   "version": "3.7.3"
  }
 },
 "nbformat": 4,
 "nbformat_minor": 1
}
